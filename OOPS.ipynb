{
 "cells": [
  {
   "cell_type": "markdown",
   "id": "9cb5ab71-445c-42e7-9ddc-ca4e705ffad2",
   "metadata": {},
   "source": [
    "# Python OOPs Questions Assignment"
   ]
  },
  {
   "cell_type": "markdown",
   "id": "1338e5e9-e831-409e-8a3e-b042894b8eb7",
   "metadata": {},
   "source": [
    "#     Theory Questions"
   ]
  },
  {
   "cell_type": "markdown",
   "id": "f02093d9-669b-45f7-a14b-2d13160c4b88",
   "metadata": {},
   "source": [
    "**Q1. What is Object-Oriented Programming (OOP)?**"
   ]
  },
  {
   "cell_type": "markdown",
   "id": "85a42cd0-a7ef-479c-a706-d2f9f5ad7439",
   "metadata": {},
   "source": [
    "**Ans.** Object-Oriented Programming (OOP) is a programming paradigm based on the concept of \"objects,\" which can contain data (attributes or properties) and code (methods or functions). It’s a way to structure programs so that code is more reusable, maintainable, and easier to understand."
   ]
  },
  {
   "cell_type": "markdown",
   "id": "ba82a14b-f924-4090-91df-54b7c1dcc5da",
   "metadata": {},
   "source": [
    "**Key Concepts of OOP**"
   ]
  },
  {
   "cell_type": "markdown",
   "id": "3e58b606-e252-4a9e-a085-24e163ecf702",
   "metadata": {},
   "source": [
    "1. Class: A blueprint for creating objects. It defines the attributes and methods the objects will have."
   ]
  },
  {
   "cell_type": "code",
   "execution_count": 2,
   "id": "c86a771f-9863-49e1-8b10-d699f07128d3",
   "metadata": {},
   "outputs": [],
   "source": [
    "class Dog:\n",
    "    def __init__(self, name):\n",
    "        self.name = name\n",
    "\n",
    "    def bark(self):\n",
    "        print(f\"{self.name} says woof!\")\n"
   ]
  },
  {
   "cell_type": "markdown",
   "id": "17f25aa3-cfae-417c-a399-a57a4bc55b8c",
   "metadata": {},
   "source": [
    "2. Object: An instance of a class."
   ]
  },
  {
   "cell_type": "code",
   "execution_count": 3,
   "id": "06480da0-02a2-4a88-99dd-61b02c4acf6f",
   "metadata": {},
   "outputs": [
    {
     "name": "stdout",
     "output_type": "stream",
     "text": [
      "Buddy says woof!\n"
     ]
    }
   ],
   "source": [
    "dog1 = Dog(\"Buddy\")\n",
    "dog1.bark()  # Output: Buddy says woof!\n"
   ]
  },
  {
   "cell_type": "markdown",
   "id": "976befdb-0ce2-4a44-81a4-6cdbad09391f",
   "metadata": {},
   "source": [
    "3. Encapsulation: Hides the internal state and only exposes a controlled interface.\n",
    "    - Think: private data, public methods to interact with it."
   ]
  },
  {
   "cell_type": "markdown",
   "id": "356bbc8c-0be6-4aaa-9b67-60d0120608cb",
   "metadata": {},
   "source": [
    "4. Inheritance: One class (child) can inherit the properties and methods of another (parent)."
   ]
  },
  {
   "cell_type": "code",
   "execution_count": 4,
   "id": "069054e4-29cc-49e5-b649-6635c775a8db",
   "metadata": {},
   "outputs": [],
   "source": [
    "class Animal:\n",
    "    def speak(self):\n",
    "        print(\"Some sound\")\n",
    "\n",
    "class Cat(Animal):\n",
    "    def speak(self):\n",
    "        print(\"Meow\")\n"
   ]
  },
  {
   "cell_type": "markdown",
   "id": "a906be9a-46d8-4610-b052-9525a4c9e230",
   "metadata": {},
   "source": [
    "5. Polymorphism: Objects can take many forms—specifically, a child class can override or extend methods from the parent class."
   ]
  },
  {
   "cell_type": "code",
   "execution_count": 5,
   "id": "6ad89919-5bec-4046-a674-84e6153ab635",
   "metadata": {},
   "outputs": [
    {
     "name": "stdout",
     "output_type": "stream",
     "text": [
      "Meow\n"
     ]
    }
   ],
   "source": [
    "def make_animal_speak(animal):\n",
    "    animal.speak()\n",
    "\n",
    "make_animal_speak(Cat())  # Output: Meow\n"
   ]
  },
  {
   "cell_type": "markdown",
   "id": "f487c1da-f84e-4a69-be8f-b6dbeec815c1",
   "metadata": {},
   "source": [
    "6. Abstraction: Hiding complex details and showing only the necessary parts of an object’s behavior.\n",
    "    - Typically done using abstract classes or interfaces."
   ]
  },
  {
   "cell_type": "markdown",
   "id": "487740b6-432c-480c-9fd1-fbfeb3572357",
   "metadata": {},
   "source": [
    "- Benefits of OOP\n",
    "    - Modularity: Code is organized in objects\n",
    "    - Reusability: Inheritance promotes code reuse.\n",
    "    - Scalability: Easy to expand and maintain.\n",
    "    - Security: Encapsulation protects data."
   ]
  },
  {
   "cell_type": "markdown",
   "id": "3bb9d0e4-3f04-47a2-b54d-90bb9d17f018",
   "metadata": {},
   "source": [
    "**Q2. What is a class in OOP?**"
   ]
  },
  {
   "cell_type": "markdown",
   "id": "6eabf33a-91a2-4ce3-9eb6-79bea881360c",
   "metadata": {},
   "source": [
    "**Ans.** In Object-Oriented Programming (OOP), a class is a blueprint or template used to create objects. It defines the attributes (data) and methods (functions) that the objects created from the class will have.\n",
    "\n",
    "\n",
    "- A class is like a recipe for making cookies.\n",
    "- Each object made from the class is an individual cookie.\n",
    "- The ingredients and instructions are the attributes and methods."
   ]
  },
  {
   "cell_type": "markdown",
   "id": "3a1edf45-1d84-4d27-9b8f-1ffb9843c72b",
   "metadata": {},
   "source": [
    "Example in Python:"
   ]
  },
  {
   "cell_type": "code",
   "execution_count": 6,
   "id": "58132ea2-25fa-4a53-97d8-f48355f38c40",
   "metadata": {},
   "outputs": [],
   "source": [
    "class Dog:\n",
    "    def __init__(self, name, breed):\n",
    "        self.name = name        # attribute\n",
    "        self.breed = breed      # attribute\n",
    "\n",
    "    def bark(self):             # method\n",
    "        print(f\"{self.name} says Woof!\")\n"
   ]
  },
  {
   "cell_type": "markdown",
   "id": "25ba4694-edbe-49a2-9cd6-43c91852dfc4",
   "metadata": {},
   "source": [
    "Explanation:\n",
    "1. class Dog: defines a new class named Dog.\n",
    "2. __init__() is the constructor that runs when a new object is created.\n",
    "3. self.name and self.breed are attributes.\n",
    "4. bark() is a method (function inside the class)."
   ]
  },
  {
   "cell_type": "markdown",
   "id": "de4848f0-f385-4acf-85bd-4b32b5ebdb66",
   "metadata": {},
   "source": [
    "Creating an Object (Instance):"
   ]
  },
  {
   "cell_type": "code",
   "execution_count": 7,
   "id": "82cf940d-ee40-4e45-8b32-8d2f06d936eb",
   "metadata": {},
   "outputs": [
    {
     "name": "stdout",
     "output_type": "stream",
     "text": [
      "Buddy says Woof!\n"
     ]
    }
   ],
   "source": [
    "my_dog = Dog(\"Buddy\", \"Golden Retriever\")\n",
    "my_dog.bark()  # Output: Buddy says Woof!\n"
   ]
  },
  {
   "cell_type": "markdown",
   "id": "e49151c0-2bf7-45f0-b745-90a57cc0177f",
   "metadata": {},
   "source": [
    "- A class defines what properties (attributes) and actions (methods) an object will have.\n",
    "- An object is an actual instance of a class."
   ]
  },
  {
   "cell_type": "markdown",
   "id": "a15799e8-652b-4348-abe4-87c2b3784728",
   "metadata": {},
   "source": [
    "**Q3. What is an object in OOP?**"
   ]
  },
  {
   "cell_type": "markdown",
   "id": "b7f5db9d-5548-4a8a-943e-6b6127bc367b",
   "metadata": {},
   "source": [
    "**Ans.** In Object-Oriented Programming (OOP), an object is an instance of a class. You can think of a class as a blueprint, and the object is the real thing created from that blueprint."
   ]
  },
  {
   "cell_type": "markdown",
   "id": "03c10e40-ea25-4046-9436-c127873ba249",
   "metadata": {},
   "source": [
    "**Real-Life Analogy:**"
   ]
  },
  {
   "cell_type": "markdown",
   "id": "88c261a1-e803-43d9-b385-61b897c6393a",
   "metadata": {},
   "source": [
    "- Class: A car design blueprint.\n",
    "- Object: A specific car made from that blueprint — like a red Toyota Corolla with license plate XYZ123."
   ]
  },
  {
   "cell_type": "markdown",
   "id": "7753d602-908d-4d92-92d6-e274c4b17bc6",
   "metadata": {},
   "source": [
    "**In Programming:**"
   ]
  },
  {
   "cell_type": "markdown",
   "id": "a6a15eea-e763-4b9c-a6a6-294f5fdb958c",
   "metadata": {},
   "source": [
    "An object has:\n",
    "- Attributes (data stored in variables)\n",
    "- Methods (functions it can perform)"
   ]
  },
  {
   "cell_type": "markdown",
   "id": "f82df598-f5eb-41e3-8921-4b06b9a69247",
   "metadata": {},
   "source": [
    "Example in Python:"
   ]
  },
  {
   "cell_type": "code",
   "execution_count": 8,
   "id": "da776c44-a3fd-403b-90b3-43f7096985be",
   "metadata": {},
   "outputs": [],
   "source": [
    "class Dog:\n",
    "    def __init__(self, name, age):\n",
    "        self.name = name     # attribute\n",
    "        self.age = age       # attribute\n",
    "\n",
    "    def bark(self):         # method\n",
    "        print(f\"{self.name} says Woof!\")\n"
   ]
  },
  {
   "cell_type": "markdown",
   "id": "e57c4e14-fec3-446a-8909-48d4b386694a",
   "metadata": {},
   "source": [
    "Now let’s create an object from the Dog class:"
   ]
  },
  {
   "cell_type": "code",
   "execution_count": 9,
   "id": "585d3025-6cac-486b-a19e-2f27a24b0454",
   "metadata": {},
   "outputs": [],
   "source": [
    "my_dog = Dog(\"Buddy\", 3)"
   ]
  },
  {
   "cell_type": "markdown",
   "id": "72556505-e342-412f-9b55-c26001d53d31",
   "metadata": {},
   "source": [
    "**Here, my_dog is an object:**\n",
    "- It has its own data: name = \"Buddy\", age = 3\n",
    "- It can perform actions: my_dog.bark() will print \"Buddy says Woof!\""
   ]
  },
  {
   "cell_type": "markdown",
   "id": "45418ee1-fdea-4e63-b6f7-5434555e76e4",
   "metadata": {},
   "source": [
    "**Q4.  What is the difference between abstraction and encapsulation?**"
   ]
  },
  {
   "cell_type": "markdown",
   "id": "e5314bfe-8d9d-4a40-9ad0-e5edc9f03fd3",
   "metadata": {},
   "source": [
    "**Ans.** Abstraction and Encapsulation are two fundamental concepts in object-oriented programming (OOP), and while they are related, they serve different purposes:"
   ]
  },
  {
   "cell_type": "markdown",
   "id": "c5c19396-574b-4acf-8d59-2c5060ea035f",
   "metadata": {},
   "source": [
    "1. Abstraction:\n",
    "    - Definition: Hides complex implementation details and shows only the essential features of an object.\n",
    "    - Purpose: To simplify the use of complex systems by exposing only necessary parts.\n",
    "    - How: Achieved using abstract classes, interfaces, or by providing methods that users can call without knowing how they work internally.\n",
    "\n",
    "\n",
    "Example:"
   ]
  },
  {
   "cell_type": "code",
   "execution_count": 1,
   "id": "4370e033-4ceb-404a-a3f9-66993130f245",
   "metadata": {},
   "outputs": [],
   "source": [
    "class Car:\n",
    "    def start_engine(self):\n",
    "        pass  # You don't need to know how the engine starts internally\n"
   ]
  },
  {
   "cell_type": "markdown",
   "id": "4ea274d0-b3ff-40d4-ae51-d0d61e5e2404",
   "metadata": {},
   "source": [
    "You can use start_engine() without knowing how fuel injection or ignition works. That's abstraction."
   ]
  },
  {
   "cell_type": "markdown",
   "id": "88f6d890-9d1c-48a5-b0a9-82813b80d582",
   "metadata": {},
   "source": [
    "2. Encapsulation: \n",
    "    - Definition: Bundles data and methods that operate on that data into a single unit (a class) and restricts direct access to some components.\n",
    "    - Purpose: To protect the internal state of an object and prevent outside interference.\n",
    "    - How: Achieved using access modifiers (e.g., private, protected, public), and by using getters and setters.\n",
    "\n",
    "\n",
    "Example:"
   ]
  },
  {
   "cell_type": "code",
   "execution_count": 2,
   "id": "2e33b366-62cc-47b4-b7bb-c79bb4e99d16",
   "metadata": {},
   "outputs": [],
   "source": [
    "class Car:\n",
    "    def __init__(self):\n",
    "        self.__speed = 0  # private variable\n",
    "\n",
    "    def accelerate(self):\n",
    "        self.__speed += 5\n",
    "\n",
    "    def get_speed(self):\n",
    "        return self.__speed\n"
   ]
  },
  {
   "cell_type": "markdown",
   "id": "e7557376-a1d4-44fb-9e24-52b801b1b39f",
   "metadata": {},
   "source": [
    "You can't directly access __speed from outside the class—this is encapsulation."
   ]
  },
  {
   "cell_type": "markdown",
   "id": "7888cdf2-ffe8-44e0-b4a7-794ae18eb479",
   "metadata": {},
   "source": [
    "> Key Differences:\n",
    "\n",
    "\n",
    "| Feature         | Abstraction                                      | Encapsulation                              |\n",
    "| --------------- | ------------------------------------------------ | ------------------------------------------ |\n",
    "| Focus           | Hiding **implementation details**                | Hiding **data (internal state)**           |\n",
    "| Main Goal       | Simplicity                                       | Protection                                 |\n",
    "| Achieved by     | Abstract classes, interfaces, method definitions | Access modifiers, getters/setters          |\n",
    "| Example Concept | What a car does (drive, brake)                   | How speed is stored and updated internally |\n",
    "\n"
   ]
  },
  {
   "cell_type": "markdown",
   "id": "cc0d27f2-6b5a-464d-9608-d37174381469",
   "metadata": {},
   "source": [
    "**Q5. What are dunder methods in Python?**"
   ]
  },
  {
   "cell_type": "markdown",
   "id": "8e3717dc-43c0-4b57-af00-b67591924b60",
   "metadata": {},
   "source": [
    "**Ans.** Dunder methods in Python (short for \"double underscore\" methods) are special methods with names that start and end with double underscores, like __init__, __str__, __len__, etc. They're also known as magic methods or special methods."
   ]
  },
  {
   "cell_type": "markdown",
   "id": "b779a331-4579-45e4-8791-9c4650437c7d",
   "metadata": {},
   "source": [
    "> Purpose of Dunder Methods"
   ]
  },
  {
   "cell_type": "markdown",
   "id": "d56bbd77-04a3-4692-b359-663e303c6f49",
   "metadata": {},
   "source": [
    "They allow you to:\n",
    "- Define how your objects behave with built-in operations (like printing, adding, comparing, etc.)\n",
    "- Customize object behavior such as creation, string representation, arithmetic, and more."
   ]
  },
  {
   "cell_type": "markdown",
   "id": "f1127341-4e89-42c1-999b-6c4345eec26d",
   "metadata": {},
   "source": [
    "> Common Dunder Methods and What They Do"
   ]
  },
  {
   "cell_type": "markdown",
   "id": "3103ef16-6663-4d7f-9e89-4dc6608c5562",
   "metadata": {},
   "source": [
    "| Dunder Method | Purpose                                    | Example Usage      |\n",
    "| ------------- | ------------------------------------------ | ------------------ |\n",
    "| `__init__`    | Constructor (initializes object)           | `obj = MyClass()`  |\n",
    "| `__str__`     | String representation for `print()`        | `print(obj)`       |\n",
    "| `__repr__`    | Official string representation             | `repr(obj)`        |\n",
    "| `__len__`     | Length of object                           | `len(obj)`         |\n",
    "| `__getitem__` | Access item like in a list/dict            | `obj[key]`         |\n",
    "| `__setitem__` | Set item like in a list/dict               | `obj[key] = value` |\n",
    "| `__add__`     | Addition operator (`+`)                    | `obj1 + obj2`      |\n",
    "| `__eq__`      | Equality comparison (`==`)                 | `obj1 == obj2`     |\n",
    "| `__lt__`      | Less than (`<`)                            | `obj1 < obj2`      |\n",
    "| `__call__`    | Make object callable like a function       | `obj()`            |\n",
    "| `__del__`     | Destructor (called when object is deleted) | `del obj`          |\n"
   ]
  },
  {
   "cell_type": "code",
   "execution_count": 3,
   "id": "ced4caf7-4d52-49ae-ae41-9114359d6b84",
   "metadata": {},
   "outputs": [
    {
     "name": "stdout",
     "output_type": "stream",
     "text": [
      "Book: Python Basics\n",
      "13\n"
     ]
    }
   ],
   "source": [
    "#  Example Usgae\n",
    "\n",
    "class Book:\n",
    "    def __init__(self, title):\n",
    "        self.title = title\n",
    "\n",
    "    def __str__(self):\n",
    "        return f\"Book: {self.title}\"\n",
    "\n",
    "    def __len__(self):\n",
    "        return len(self.title)\n",
    "\n",
    "book = Book(\"Python Basics\")\n",
    "print(book)          # Book: Python Basics (__str__)\n",
    "print(len(book))     # 14 (__len__)\n"
   ]
  },
  {
   "cell_type": "markdown",
   "id": "3a650e84-4216-47cb-b967-42f7455cd368",
   "metadata": {},
   "source": [
    "> Why we Use Them:\n",
    "\n",
    "1. To make your custom classes behave like built-in types.\n",
    "2. For better debugging, readability, and integration with Python features."
   ]
  },
  {
   "cell_type": "markdown",
   "id": "97255fe6-1b15-4b20-a74a-f8ddc5bed1b7",
   "metadata": {},
   "source": [
    "**Q6. Explain the concept of inheritance in OOP?**"
   ]
  },
  {
   "cell_type": "markdown",
   "id": "2089ea6b-48f9-404e-85b5-5dd5a87e0cf3",
   "metadata": {},
   "source": [
    "**Ans.** Inheritance is a core concept in OOP that allows a class (called a child or subclass) to inherit properties and behaviors (attributes and methods) from another class (called a parent or superclass)."
   ]
  },
  {
   "cell_type": "markdown",
   "id": "9bbd6697-ef26-4ed3-a5bb-b297529ec219",
   "metadata": {},
   "source": [
    "> Why Use Inheritance?\n",
    "\n",
    "1. Reusability: You can reuse code from existing classes.\n",
    "2. Extensibility: You can add or override features in the child class.\n",
    "3. Organization: Helps model relationships like “is-a” (e.g., a Dog is a Animal)."
   ]
  },
  {
   "cell_type": "markdown",
   "id": "7bfda425-0752-4c85-a236-e5e6d137e702",
   "metadata": {},
   "source": [
    "Basic Syntax in Python"
   ]
  },
  {
   "cell_type": "code",
   "execution_count": 4,
   "id": "7be29a79-654d-4d07-84bd-0db7a64394fb",
   "metadata": {},
   "outputs": [],
   "source": [
    "class Animal:  # Parent class\n",
    "    def speak(self):\n",
    "        return \"Some sound\"\n",
    "\n",
    "class Dog(Animal):  # Child class\n",
    "    def speak(self):\n",
    "        return \"Bark\"\n"
   ]
  },
  {
   "cell_type": "code",
   "execution_count": 5,
   "id": "c4663eb8-188f-4636-abf5-e5ecf3371a09",
   "metadata": {},
   "outputs": [
    {
     "name": "stdout",
     "output_type": "stream",
     "text": [
      "Bark\n"
     ]
    }
   ],
   "source": [
    "dog = Dog()\n",
    "print(dog.speak())  # Output: Bark\n"
   ]
  },
  {
   "cell_type": "markdown",
   "id": "2a9f1a34-f507-442d-9b6e-d1e0b0bcda14",
   "metadata": {},
   "source": [
    "> Here, Dog inherits the speak method from Animal, but it also overrides it with its own version."
   ]
  },
  {
   "cell_type": "markdown",
   "id": "14bfac15-d9ad-4579-9af1-eff2fec02428",
   "metadata": {},
   "source": [
    "**Types of Inheritance**"
   ]
  },
  {
   "cell_type": "markdown",
   "id": "7b35b3aa-42d2-4ead-ad59-66bed62fd415",
   "metadata": {},
   "source": [
    "| Type             | Description                               | Example                                |\n",
    "| ---------------- | ----------------------------------------- | -------------------------------------- |\n",
    "| **Single**       | One child inherits from one parent        | `class Dog(Animal)`                    |\n",
    "| **Multiple**     | One child inherits from multiple parents  | `class Child(Mother, Father)`          |\n",
    "| **Multilevel**   | Chain of inheritance (A → B → C)          | `class C(B), class B(A)`               |\n",
    "| **Hierarchical** | Multiple children inherit from one parent | `class Dog(Animal), class Cat(Animal)` |\n",
    "| **Hybrid**       | Combination of the above                  | Complex scenarios                      |\n"
   ]
  },
  {
   "cell_type": "markdown",
   "id": "27ee9d4d-58da-47b4-ba66-9e02e70d84f3",
   "metadata": {},
   "source": [
    "> super() Keyword\n",
    "- Used to call methods from the parent class:"
   ]
  },
  {
   "cell_type": "code",
   "execution_count": 6,
   "id": "281e9022-a28f-41bd-9933-734facef98bc",
   "metadata": {},
   "outputs": [],
   "source": [
    "class Animal:\n",
    "    def __init__(self, name):\n",
    "        self.name = name\n",
    "\n",
    "class Dog(Animal):\n",
    "    def __init__(self, name, breed):\n",
    "        super().__init__(name)  # Call parent constructor\n",
    "        self.breed = breed\n"
   ]
  },
  {
   "cell_type": "markdown",
   "id": "5336ef62-7d40-404d-b525-69f22b906969",
   "metadata": {},
   "source": [
    "> Real-World Analogy"
   ]
  },
  {
   "cell_type": "markdown",
   "id": "e011334e-eae0-40d8-b87d-92d0672823a9",
   "metadata": {},
   "source": [
    "**Imagine a Vehicle class:**\n",
    "- All vehicles have wheels and can move.\n",
    "- A Car inherits from Vehicle, but also has additional features like air conditioning.\n",
    "- A Bicycle also inherits from Vehicle, but behaves differently."
   ]
  },
  {
   "cell_type": "markdown",
   "id": "981bfc3b-266d-45e3-9576-8059e4e363b9",
   "metadata": {},
   "source": [
    "**Q7. What is polymorphism in OOP?**"
   ]
  },
  {
   "cell_type": "markdown",
   "id": "f6d96998-c3d0-4bc9-96f7-6f23d2e1b12f",
   "metadata": {},
   "source": [
    "**Ans.** Polymorphism means “many forms”. In Object-Oriented Programming (OOP), it refers to the ability of different classes to respond to the same method call in different ways."
   ]
  },
  {
   "cell_type": "markdown",
   "id": "b37696ed-e5fb-4d04-8088-a9cf26c6c3da",
   "metadata": {},
   "source": [
    "> Key Idea: Polymorphism allows you to write flexible and reusable code by using a common interface for different data types or classes."
   ]
  },
  {
   "cell_type": "markdown",
   "id": "64a3129c-2055-4aed-a1be-457ca150cce5",
   "metadata": {},
   "source": [
    "`Types of Polymorphism in Python` \n",
    "1. Compile-time Polymorphism (not supported directly in Python):\n",
    "   - Achieved in other languages via method overloading (same method name with different parameters).\n",
    "   - Python doesn't support this natively, but you can use default parameters or *args.\n",
    "2. Run-time Polymorphism (common in Python):\n",
    "   - Achieved through method overriding in inheritance."
   ]
  },
  {
   "cell_type": "markdown",
   "id": "ac458134-d99e-4076-8c4b-b2cc03f34b6d",
   "metadata": {},
   "source": [
    "**Example 1: Method Overriding (Run-time Polymorphism)**"
   ]
  },
  {
   "cell_type": "code",
   "execution_count": 7,
   "id": "8c60fd83-8abe-4f4a-b9ed-915621f8243c",
   "metadata": {},
   "outputs": [
    {
     "name": "stdout",
     "output_type": "stream",
     "text": [
      "Bark\n",
      "Meow\n"
     ]
    }
   ],
   "source": [
    "class Animal:\n",
    "    def speak(self):\n",
    "        return \"Some sound\"\n",
    "\n",
    "class Dog(Animal):\n",
    "    def speak(self):\n",
    "        return \"Bark\"\n",
    "\n",
    "class Cat(Animal):\n",
    "    def speak(self):\n",
    "        return \"Meow\"\n",
    "\n",
    "# Polymorphism in action\n",
    "def animal_sound(animal):\n",
    "    print(animal.speak())\n",
    "\n",
    "animal_sound(Dog())   # Bark\n",
    "animal_sound(Cat())   # Meow\n"
   ]
  },
  {
   "cell_type": "markdown",
   "id": "5536bded-e5e9-4b95-9f80-dbca30cfbd44",
   "metadata": {},
   "source": [
    "> Even though animal_sound() takes an Animal, it works with any subclass of Animal, and each subclass responds differently to .speak()."
   ]
  },
  {
   "cell_type": "markdown",
   "id": "616f875a-3de4-4581-b662-d1055a885cd5",
   "metadata": {},
   "source": [
    "**Example 2: Polymorphism with Built-in Functions**"
   ]
  },
  {
   "cell_type": "code",
   "execution_count": 8,
   "id": "dfe805c5-677f-4deb-a5ac-d738771da431",
   "metadata": {},
   "outputs": [
    {
     "name": "stdout",
     "output_type": "stream",
     "text": [
      "5\n",
      "3\n",
      "1\n"
     ]
    }
   ],
   "source": [
    "print(len(\"hello\"))     # 5 (string)\n",
    "print(len([1, 2, 3]))    # 3 (list)\n",
    "print(len({1: 'a'}))     # 1 (dictionary)\n"
   ]
  },
  {
   "cell_type": "markdown",
   "id": "e2d0ee1c-331b-49ae-a277-abb538382a4a",
   "metadata": {},
   "source": [
    "Here, the len() function behaves differently depending on the data type — this is polymorphism."
   ]
  },
  {
   "cell_type": "markdown",
   "id": "113c9dae-3cdf-4a9c-bfa7-949b0b112d69",
   "metadata": {},
   "source": [
    "**Q8. How is encapsulation achieved in Python**"
   ]
  },
  {
   "cell_type": "markdown",
   "id": "23a117b9-13c2-4733-a08e-c145f5e49fa6",
   "metadata": {},
   "source": [
    "**Ans.** Encapsulation in Python is achieved by restricting access to an object’s data and methods to protect the internal state of the object. This is done using:"
   ]
  },
  {
   "cell_type": "markdown",
   "id": "2f620381-9c21-4044-b242-1922026a20ed",
   "metadata": {},
   "source": [
    "1. Access Modifiers: Python uses a naming convention (not strict enforcement) to indicate the access level of attributes and methods:\n",
    "\n",
    "| Modifier      | Syntax   | Access Level                                                     |\n",
    "| ------------- | -------- | ---------------------------------------------------------------- |\n",
    "| **Public**    | `name`   | Accessible from anywhere                                         |\n",
    "| **Protected** | `_name`  | Should be accessed only within class or subclass (by convention) |\n",
    "| **Private**   | `__name` | Name mangled to prevent direct access from outside               |\n"
   ]
  },
  {
   "cell_type": "markdown",
   "id": "727ed0f4-f9dd-45c9-a42a-281f391797ab",
   "metadata": {},
   "source": [
    "Example"
   ]
  },
  {
   "cell_type": "code",
   "execution_count": 9,
   "id": "f3ee45d6-f8c6-4ba8-9f5b-13b8da1e5aef",
   "metadata": {},
   "outputs": [
    {
     "name": "stdout",
     "output_type": "stream",
     "text": [
      "Ali\n",
      "30\n",
      "5000\n"
     ]
    }
   ],
   "source": [
    "class Person:\n",
    "    def __init__(self, name, age):\n",
    "        self.name = name            # public\n",
    "        self._age = age             # protected (by convention)\n",
    "        self.__salary = 5000        # private (name mangling)\n",
    "\n",
    "    def get_salary(self):\n",
    "        return self.__salary        # Access via method (getter)\n",
    "\n",
    "    def set_salary(self, value):\n",
    "        if value > 0:\n",
    "            self.__salary = value   # Setter to control access\n",
    "\n",
    "person = Person(\"Ali\", 30)\n",
    "\n",
    "print(person.name)         # ✅ Public: accessible\n",
    "print(person._age)         # ⚠️ Protected: accessible, but discouraged\n",
    "# print(person.__salary)   # ❌ Error: private attribute\n",
    "print(person.get_salary()) # ✅ Access via method\n"
   ]
  },
  {
   "cell_type": "markdown",
   "id": "25143635-7e2d-4651-ad5b-9b6b194674dd",
   "metadata": {},
   "source": [
    "2. Using Getter and Setter Methods: These control how private/protected data is accessed or modified:"
   ]
  },
  {
   "cell_type": "code",
   "execution_count": 10,
   "id": "a9ca79a5-1e32-4be9-8e67-b6ed8934fc48",
   "metadata": {},
   "outputs": [],
   "source": [
    "class BankAccount:\n",
    "    def __init__(self, balance):\n",
    "        self.__balance = balance\n",
    "\n",
    "    def get_balance(self):\n",
    "        return self.__balance\n",
    "\n",
    "    def deposit(self, amount):\n",
    "        if amount > 0:\n",
    "            self.__balance += amount\n"
   ]
  },
  {
   "cell_type": "markdown",
   "id": "e524de10-6a99-40a7-bbe3-f9d0e2da10ca",
   "metadata": {},
   "source": [
    "Summary:\n",
    "\n",
    "| Feature       | Python Syntax       | Purpose                        |\n",
    "| ------------- | ------------------- | ------------------------------ |\n",
    "| Public        | `self.name`         | Freely accessible              |\n",
    "| Protected     | `self._name`        | Internal use (by convention)   |\n",
    "| Private       | `self.__name`       | Hidden via name mangling       |\n",
    "| Getter/Setter | `get_x() / set_x()` | Controlled access/modification |\n"
   ]
  },
  {
   "cell_type": "markdown",
   "id": "f6568f3b-1dbb-4ef8-a9e9-42f1c2ee4eac",
   "metadata": {},
   "source": [
    "**Q9.  What is a constructor in Python?**"
   ]
  },
  {
   "cell_type": "markdown",
   "id": "2be73cc2-f720-4c87-8a66-68c054acaa23",
   "metadata": {},
   "source": [
    "**Ans.** A constructor in Python is a special method used to initialize a newly created object. It is automatically called when an object of a class is created."
   ]
  },
  {
   "cell_type": "markdown",
   "id": "21c59cce-be09-4bae-9e4a-93ce6b2e8a40",
   "metadata": {},
   "source": [
    "> Constructor Name in Python: __init__() :\n",
    "\n",
    "1. Defined using the def __init__(self, ...) method.\n",
    "2. The self parameter refers to the current instance of the class.\n",
    "3. You can pass additional parameters to initialize object attributes."
   ]
  },
  {
   "cell_type": "code",
   "execution_count": 12,
   "id": "443d2211-a9f6-49b4-9ca8-5712763ffe73",
   "metadata": {},
   "outputs": [
    {
     "name": "stdout",
     "output_type": "stream",
     "text": [
      "Ali\n",
      "30\n"
     ]
    }
   ],
   "source": [
    "class Person:\n",
    "    def __init__(self, name, age):\n",
    "        self.name = name  # Instance variable\n",
    "        self.age = age\n",
    "\n",
    "# Creating an object automatically calls the constructor\n",
    "p1 = Person(\"Ali\", 30)\n",
    "\n",
    "print(p1.name)  # Ali\n",
    "print(p1.age)   # 30\n"
   ]
  },
  {
   "cell_type": "markdown",
   "id": "12cfc82d-7907-457b-bc8e-1cafc55bd7e7",
   "metadata": {},
   "source": [
    "**Key insights:** \n",
    "\n",
    "\n",
    "| Feature              | Description                          |\n",
    "| -------------------- | ------------------------------------ |\n",
    "| Method name          | `__init__`                           |\n",
    "| Called automatically | Yes, when an object is created       |\n",
    "| Purpose              | Set initial state of the object      |\n",
    "| Arguments            | Can take any number (besides `self`) |\n"
   ]
  },
  {
   "cell_type": "markdown",
   "id": "b346b8b7-1f60-451b-85c2-8ff67270d506",
   "metadata": {},
   "source": [
    "> Default Constructor (No Parameters)"
   ]
  },
  {
   "cell_type": "code",
   "execution_count": 11,
   "id": "dc5cb878-a0c8-40fc-8856-3251ab277181",
   "metadata": {},
   "outputs": [
    {
     "name": "stdout",
     "output_type": "stream",
     "text": [
      "Object created\n"
     ]
    }
   ],
   "source": [
    "class MyClass:\n",
    "    def __init__(self):\n",
    "        print(\"Object created\")\n",
    "\n",
    "obj = MyClass()  # Output: Object created\n"
   ]
  },
  {
   "cell_type": "markdown",
   "id": "e0723a92-b5dc-4c19-9884-75f73e580da4",
   "metadata": {},
   "source": [
    "> Parameterized Constructor"
   ]
  },
  {
   "cell_type": "code",
   "execution_count": 15,
   "id": "078f137d-f889-42b7-81d8-eae8921aec1b",
   "metadata": {},
   "outputs": [],
   "source": [
    "class Car:\n",
    "    def __init__(self, brand, year):\n",
    "        self.brand = brand\n",
    "        self.year = year\n",
    "\n",
    "c = Car(\"Toyota\", 2021)\n"
   ]
  },
  {
   "cell_type": "markdown",
   "id": "4bd59070-02f7-4b08-b472-81899909e5b6",
   "metadata": {},
   "source": [
    "**Q10. What are class and static methods in Python?**"
   ]
  },
  {
   "cell_type": "markdown",
   "id": "d281837b-eb6a-4c7f-9f63-3c1190a4cb31",
   "metadata": {},
   "source": [
    "**Ans.** In Python, both class methods and static methods are used to define behaviors that are not tied to an individual object (instance), but they differ in how they interact with the class."
   ]
  },
  {
   "cell_type": "markdown",
   "id": "c7dc27b0-d28a-4a62-a863-6ba9b2b164fa",
   "metadata": {},
   "source": [
    "1. **Class Method:**\n",
    "    - Declared with @classmethod decorator.\n",
    "    - Takes cls as the first parameter, referring to the class itself.\n",
    "    - Can access and modify class-level attributes.\n",
    "    - Often used for factory methods (alternative constructors)."
   ]
  },
  {
   "cell_type": "code",
   "execution_count": 16,
   "id": "3687b4c3-74d8-41ac-9453-ca4f4f07f17a",
   "metadata": {},
   "outputs": [
    {
     "name": "stdout",
     "output_type": "stream",
     "text": [
      "Blue High\n"
     ]
    }
   ],
   "source": [
    "# Example case: \n",
    "\n",
    "class Student:\n",
    "    school = \"Green High\"  # class variable\n",
    "\n",
    "    def __init__(self, name):\n",
    "        self.name = name\n",
    "\n",
    "    @classmethod\n",
    "    def change_school(cls, new_name):\n",
    "        cls.school = new_name\n",
    "\n",
    "Student.change_school(\"Blue High\")\n",
    "print(Student.school)  # Output: Blue High\n"
   ]
  },
  {
   "cell_type": "markdown",
   "id": "8583cc12-134e-40f6-a8af-89e3bab68818",
   "metadata": {},
   "source": [
    "2. **Static Method:** \n",
    "    - Declared with @staticmethod decorator.\n",
    "    - Does not take self or cls as the first argument.\n",
    "    - Cannot access or modify class or instance data.\n",
    "    - Used for utility/helper functions related to the class."
   ]
  },
  {
   "cell_type": "code",
   "execution_count": 17,
   "id": "56efd996-05f3-4cc8-b777-5711b228cb15",
   "metadata": {},
   "outputs": [
    {
     "name": "stdout",
     "output_type": "stream",
     "text": [
      "8\n"
     ]
    }
   ],
   "source": [
    "# Example Csse: \n",
    "\n",
    "class Math:\n",
    "    @staticmethod\n",
    "    def add(a, b):\n",
    "        return a + b\n",
    "\n",
    "print(Math.add(3, 5))  # Output: 8\n"
   ]
  },
  {
   "cell_type": "markdown",
   "id": "aaeaa257-f0d7-44a9-b25d-bf44e34c9963",
   "metadata": {},
   "source": [
    "Summary Table:\n",
    "\n",
    "\n",
    "| Feature         | Instance Method  | Class Method              | Static Method            |\n",
    "| --------------- | ---------------- | ------------------------- | ------------------------ |\n",
    "| First parameter | `self`           | `cls`                     | No required first param  |\n",
    "| Access to       | Instance & class | Class only                | Neither                  |\n",
    "| Decorator       | None             | `@classmethod`            | `@staticmethod`          |\n",
    "| Common use      | Object behavior  | Factory methods, settings | Utility/helper functions |\n"
   ]
  },
  {
   "cell_type": "markdown",
   "id": "29eda72f-fd06-47b5-82f9-acded11cc21c",
   "metadata": {},
   "source": [
    "**Q11. What is method overloading in Python?**"
   ]
  },
  {
   "cell_type": "markdown",
   "id": "832554ce-2268-460f-9c26-253a0e4a3a36",
   "metadata": {},
   "source": [
    "**Ans.** Method overloading means having multiple methods with the same name but different parameters (number or type). It allows a class to respond differently based on how a method is called."
   ]
  },
  {
   "cell_type": "markdown",
   "id": "667fdfec-6522-47c8-afab-c0826e2c63b3",
   "metadata": {},
   "source": [
    "> Python Does Not Support Traditional Method Overloading: \n",
    "- Unlike languages like Java or C++, Python doesn't support method overloading directly. If you define a method multiple times with the same name, only the last definition is used."
   ]
  },
  {
   "cell_type": "code",
   "execution_count": 19,
   "id": "e1bc3bd0-3bf4-4672-84c4-04a3af3c8ad5",
   "metadata": {},
   "outputs": [
    {
     "ename": "TypeError",
     "evalue": "Demo.show() missing 1 required positional argument: 'y'",
     "output_type": "error",
     "traceback": [
      "\u001b[1;31m---------------------------------------------------------------------------\u001b[0m",
      "\u001b[1;31mTypeError\u001b[0m                                 Traceback (most recent call last)",
      "Cell \u001b[1;32mIn[19], line 11\u001b[0m\n\u001b[0;32m      8\u001b[0m         \u001b[38;5;28mprint\u001b[39m(\u001b[38;5;124m\"\u001b[39m\u001b[38;5;124mTwo arguments:\u001b[39m\u001b[38;5;124m\"\u001b[39m, x, y)\n\u001b[0;32m     10\u001b[0m d \u001b[38;5;241m=\u001b[39m Demo()\n\u001b[1;32m---> 11\u001b[0m \u001b[43md\u001b[49m\u001b[38;5;241;43m.\u001b[39;49m\u001b[43mshow\u001b[49m\u001b[43m(\u001b[49m\u001b[38;5;241;43m5\u001b[39;49m\u001b[43m)\u001b[49m      \u001b[38;5;66;03m# ❌ Error: missing 1 required argument\u001b[39;00m\n\u001b[0;32m     14\u001b[0m \u001b[38;5;66;03m# Only the second show() method survives — the first one is overwritten.\u001b[39;00m\n",
      "\u001b[1;31mTypeError\u001b[0m: Demo.show() missing 1 required positional argument: 'y'"
     ]
    }
   ],
   "source": [
    "#  Example (won't work as expected):\n",
    "\n",
    "class Demo:\n",
    "    def show(self, x):\n",
    "        print(\"One argument:\", x)\n",
    "\n",
    "    def show(self, x, y):\n",
    "        print(\"Two arguments:\", x, y)\n",
    "\n",
    "d = Demo()\n",
    "d.show(5)      # ❌ Error: missing 1 required argument\n",
    "\n",
    "\n",
    "# Only the second show() method survives — the first one is overwritten.\n",
    "\n"
   ]
  },
  {
   "cell_type": "markdown",
   "id": "7399c57b-5ef3-4237-86e5-aba6d590be60",
   "metadata": {},
   "source": [
    "> How to Simulate Method Overloading in Python"
   ]
  },
  {
   "cell_type": "markdown",
   "id": "3dd46f47-8c04-41aa-a48d-49ddca3379f9",
   "metadata": {},
   "source": [
    "1. Using Default Arguments"
   ]
  },
  {
   "cell_type": "code",
   "execution_count": 20,
   "id": "e2105094-0d50-4bda-8771-0fe40bc1412a",
   "metadata": {},
   "outputs": [
    {
     "name": "stdout",
     "output_type": "stream",
     "text": [
      "No arguments\n",
      "One argument: 10\n",
      "Two arguments: 10 20\n"
     ]
    }
   ],
   "source": [
    "class Demo:\n",
    "    def show(self, x=None, y=None):\n",
    "        if x is not None and y is not None:\n",
    "            print(\"Two arguments:\", x, y)\n",
    "        elif x is not None:\n",
    "            print(\"One argument:\", x)\n",
    "        else:\n",
    "            print(\"No arguments\")\n",
    "\n",
    "d = Demo()\n",
    "d.show()         # No arguments\n",
    "d.show(10)       # One argument: 10\n",
    "d.show(10, 20)   # Two arguments: 10 20\n"
   ]
  },
  {
   "cell_type": "markdown",
   "id": "13ec2d01-aae5-401b-8f83-1d7f5b829e11",
   "metadata": {},
   "source": [
    "2. Using Variable-Length Arguments (*args)"
   ]
  },
  {
   "cell_type": "code",
   "execution_count": 21,
   "id": "ef3b12b2-6d7f-43a7-8a73-699b2633da88",
   "metadata": {},
   "outputs": [
    {
     "name": "stdout",
     "output_type": "stream",
     "text": [
      "1\n",
      "1\n",
      "2\n",
      "3\n"
     ]
    }
   ],
   "source": [
    "class Demo:\n",
    "    def show(self, *args):\n",
    "        for arg in args:\n",
    "            print(arg)\n",
    "\n",
    "d = Demo()\n",
    "d.show(1)\n",
    "d.show(1, 2, 3)\n"
   ]
  },
  {
   "cell_type": "markdown",
   "id": "636e86a1-4686-40fc-a016-e270bb085966",
   "metadata": {},
   "source": [
    "**Q12. What is method overriding in OOP?**"
   ]
  },
  {
   "cell_type": "markdown",
   "id": "4c33d17b-facf-49c9-a7c0-d0b1489b1fb7",
   "metadata": {},
   "source": [
    "**Ans.** Method overriding is an OOP concept where a subclass provides a specific implementation of a method that is already defined in its parent class."
   ]
  },
  {
   "cell_type": "markdown",
   "id": "daf43448-6061-48b3-8e11-6952c6ea9543",
   "metadata": {},
   "source": [
    "Key Points: \n",
    "\n",
    "\n",
    "| Feature    | Description                                        |\n",
    "| ---------- | -------------------------------------------------- |\n",
    "| Purpose    | To change or extend behavior from the parent class |\n",
    "| Signature  | Method name and parameters must be the same        |\n",
    "| Applies to | Inheritance (subclass ↔ parent class)              |\n",
    "| Overrides  | The parent’s version of the method                 |\n"
   ]
  },
  {
   "cell_type": "code",
   "execution_count": 23,
   "id": "8f4735e8-ac77-4ada-902f-7e1fe7a575ce",
   "metadata": {},
   "outputs": [
    {
     "name": "stdout",
     "output_type": "stream",
     "text": [
      "Animal speaks\n",
      "Dog barks\n"
     ]
    }
   ],
   "source": [
    "# Example Case\n",
    "\n",
    "class Animal:\n",
    "    def speak(self):\n",
    "        return \"Animal speaks\"\n",
    "\n",
    "class Dog(Animal):\n",
    "    def speak(self):\n",
    "        return \"Dog barks\"\n",
    "\n",
    "a = Animal()\n",
    "d = Dog()\n",
    "\n",
    "print(a.speak())  # Animal speaks\n",
    "print(d.speak())  # Dog barks (method is overridden)\n"
   ]
  },
  {
   "cell_type": "markdown",
   "id": "ded804b5-6f17-4180-b118-1cf6bca8b090",
   "metadata": {},
   "source": [
    "> The Dog class overrides the speak() method of Animal."
   ]
  },
  {
   "cell_type": "markdown",
   "id": "c0987cfc-65a4-460b-aae2-81401d346bcc",
   "metadata": {},
   "source": [
    "Using super() to Call Parent Method: You can also call the parent class's version of the method using super():"
   ]
  },
  {
   "cell_type": "code",
   "execution_count": 22,
   "id": "9fa2e5ae-c000-4ec9-9c74-82366c947a6e",
   "metadata": {},
   "outputs": [
    {
     "name": "stdout",
     "output_type": "stream",
     "text": [
      "Some sound but Dog barks too\n"
     ]
    }
   ],
   "source": [
    "class Dog(Animal):\n",
    "    def speak(self):\n",
    "        return super().speak() + \" but Dog barks too\"\n",
    "\n",
    "d = Dog()\n",
    "print(d.speak())  # Animal speaks but Dog barks too\n"
   ]
  },
  {
   "cell_type": "markdown",
   "id": "58a575a4-9a66-487b-8e8b-d822bf66cb61",
   "metadata": {},
   "source": [
    "> Method Overriding vs Method Overloading"
   ]
  },
  {
   "cell_type": "markdown",
   "id": "b6b24ab6-3536-4c1d-9442-d9ec28cb37e7",
   "metadata": {},
   "source": [
    "| Feature             | Overriding             | Overloading (Not native in Python) |\n",
    "| ------------------- | ---------------------- | ---------------------------------- |\n",
    "| Involves            | Parent ↔ Child classes | Same class                         |\n",
    "| Parameters          | Must match             | Can differ (number/type)           |\n",
    "| Supported in Python | ✅ Yes                | ❌ Not directly                     |\n",
    "\n"
   ]
  },
  {
   "cell_type": "code",
   "execution_count": null,
   "id": "02238193-0f5a-46c8-95c4-3760607a62fb",
   "metadata": {},
   "outputs": [],
   "source": []
  },
  {
   "cell_type": "code",
   "execution_count": null,
   "id": "3aea8fe7-cc65-442a-a767-a9ed1cd85ea8",
   "metadata": {},
   "outputs": [],
   "source": []
  },
  {
   "cell_type": "code",
   "execution_count": null,
   "id": "9e885034-d4eb-457c-b4d4-2c235855997b",
   "metadata": {},
   "outputs": [],
   "source": []
  },
  {
   "cell_type": "code",
   "execution_count": null,
   "id": "c6aa3aed-8762-493c-89cf-210d710319ab",
   "metadata": {},
   "outputs": [],
   "source": []
  },
  {
   "cell_type": "code",
   "execution_count": null,
   "id": "797478f9-e103-48a5-b5d2-6f9760800b70",
   "metadata": {},
   "outputs": [],
   "source": []
  },
  {
   "cell_type": "code",
   "execution_count": null,
   "id": "bcf22995-cbfe-4b0e-b2f1-a8cd610df719",
   "metadata": {},
   "outputs": [],
   "source": []
  },
  {
   "cell_type": "code",
   "execution_count": null,
   "id": "c6c578c2-5bf1-4712-8b0a-a414d6ad50df",
   "metadata": {},
   "outputs": [],
   "source": []
  },
  {
   "cell_type": "code",
   "execution_count": null,
   "id": "e366e099-608b-4cc3-88a5-20a22bf1145c",
   "metadata": {},
   "outputs": [],
   "source": []
  },
  {
   "cell_type": "code",
   "execution_count": null,
   "id": "c20cb3d7-c264-46a9-85c2-fc4c09c84ae4",
   "metadata": {},
   "outputs": [],
   "source": []
  },
  {
   "cell_type": "code",
   "execution_count": null,
   "id": "9cb6231d-6ff8-4778-bfdf-53a10112eb03",
   "metadata": {},
   "outputs": [],
   "source": []
  },
  {
   "cell_type": "code",
   "execution_count": null,
   "id": "d8097854-a03f-44d0-b647-bf5e5f861c58",
   "metadata": {},
   "outputs": [],
   "source": []
  },
  {
   "cell_type": "code",
   "execution_count": null,
   "id": "3da37b91-c988-4591-97d3-f1445e06e286",
   "metadata": {},
   "outputs": [],
   "source": []
  },
  {
   "cell_type": "code",
   "execution_count": null,
   "id": "ba7d7f25-518b-4f2f-8945-7f01e6db89f4",
   "metadata": {},
   "outputs": [],
   "source": []
  },
  {
   "cell_type": "code",
   "execution_count": null,
   "id": "707f7740-2f6f-463f-9d97-7acab1f0e89a",
   "metadata": {},
   "outputs": [],
   "source": []
  },
  {
   "cell_type": "code",
   "execution_count": null,
   "id": "c3ecda4e-0fb5-4dc5-968a-8175e124f4a5",
   "metadata": {},
   "outputs": [],
   "source": []
  },
  {
   "cell_type": "code",
   "execution_count": null,
   "id": "22d3489e-bc37-4e6f-aed8-a320fd2f530c",
   "metadata": {},
   "outputs": [],
   "source": []
  },
  {
   "cell_type": "code",
   "execution_count": null,
   "id": "dde614a3-deea-4230-802d-1c07d32c2784",
   "metadata": {},
   "outputs": [],
   "source": []
  },
  {
   "cell_type": "code",
   "execution_count": null,
   "id": "fb58d64d-5ce4-43f3-925b-e571ad9ddd20",
   "metadata": {},
   "outputs": [],
   "source": []
  },
  {
   "cell_type": "code",
   "execution_count": null,
   "id": "b8c0aa03-aa8c-4a51-9786-01c9b7d4c274",
   "metadata": {},
   "outputs": [],
   "source": []
  },
  {
   "cell_type": "code",
   "execution_count": null,
   "id": "f208c02a-3add-44b5-84a1-c6fbab721f78",
   "metadata": {},
   "outputs": [],
   "source": []
  },
  {
   "cell_type": "code",
   "execution_count": null,
   "id": "7231edb9-7282-4d65-a53b-8c238f8a8540",
   "metadata": {},
   "outputs": [],
   "source": []
  },
  {
   "cell_type": "code",
   "execution_count": null,
   "id": "9389a3d9-19be-43bb-b46a-d1b9f60c6439",
   "metadata": {},
   "outputs": [],
   "source": []
  },
  {
   "cell_type": "code",
   "execution_count": null,
   "id": "7d3e4cb3-06ff-4aca-9f50-bc3f86b4cb22",
   "metadata": {},
   "outputs": [],
   "source": []
  },
  {
   "cell_type": "code",
   "execution_count": null,
   "id": "1b924ffc-67d6-4da7-bed9-4ad418f87844",
   "metadata": {},
   "outputs": [],
   "source": []
  },
  {
   "cell_type": "code",
   "execution_count": null,
   "id": "67933cab-c065-4a99-a2fb-0293d5c5a945",
   "metadata": {},
   "outputs": [],
   "source": []
  },
  {
   "cell_type": "code",
   "execution_count": null,
   "id": "d643602c-21f7-45fe-aa91-1f04da34ea29",
   "metadata": {},
   "outputs": [],
   "source": []
  },
  {
   "cell_type": "code",
   "execution_count": null,
   "id": "67ae7dd3-b394-4006-8336-a32e46c1557d",
   "metadata": {},
   "outputs": [],
   "source": []
  },
  {
   "cell_type": "code",
   "execution_count": null,
   "id": "927ae868-8e01-4291-968a-b6e1f5c50569",
   "metadata": {},
   "outputs": [],
   "source": []
  },
  {
   "cell_type": "code",
   "execution_count": null,
   "id": "94bfd58e-0315-47e6-b73b-00eae06b905c",
   "metadata": {},
   "outputs": [],
   "source": []
  },
  {
   "cell_type": "code",
   "execution_count": null,
   "id": "9c7d5019-ce49-407f-a90b-0d38b0e7137a",
   "metadata": {},
   "outputs": [],
   "source": []
  },
  {
   "cell_type": "code",
   "execution_count": null,
   "id": "bcaf9736-69d9-4f55-8a66-932b80f0f015",
   "metadata": {},
   "outputs": [],
   "source": []
  }
 ],
 "metadata": {
  "kernelspec": {
   "display_name": "Python 3 (ipykernel)",
   "language": "python",
   "name": "python3"
  },
  "language_info": {
   "codemirror_mode": {
    "name": "ipython",
    "version": 3
   },
   "file_extension": ".py",
   "mimetype": "text/x-python",
   "name": "python",
   "nbconvert_exporter": "python",
   "pygments_lexer": "ipython3",
   "version": "3.13.3"
  }
 },
 "nbformat": 4,
 "nbformat_minor": 5
}
