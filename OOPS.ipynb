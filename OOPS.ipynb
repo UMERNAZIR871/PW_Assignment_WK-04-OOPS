{
 "cells": [
  {
   "cell_type": "markdown",
   "id": "9cb5ab71-445c-42e7-9ddc-ca4e705ffad2",
   "metadata": {},
   "source": [
    "# Python OOPs Questions Assignmet"
   ]
  },
  {
   "cell_type": "markdown",
   "id": "1338e5e9-e831-409e-8a3e-b042894b8eb7",
   "metadata": {},
   "source": [
    "#     Theoritical Questions"
   ]
  },
  {
   "cell_type": "markdown",
   "id": "f02093d9-669b-45f7-a14b-2d13160c4b88",
   "metadata": {},
   "source": [
    "**Q1.  What is Object-Oriented Programming (OOP)?**"
   ]
  },
  {
   "cell_type": "markdown",
   "id": "85a42cd0-a7ef-479c-a706-d2f9f5ad7439",
   "metadata": {},
   "source": [
    "**Ans.** Object-Oriented Programming (OOP) is a programming paradigm based on the concept of \"objects,\" which can contain data (attributes or properties) and code (methods or functions). It’s a way to structure programs so that code is more reusable, maintainable, and easier to understand."
   ]
  },
  {
   "cell_type": "markdown",
   "id": "ba82a14b-f924-4090-91df-54b7c1dcc5da",
   "metadata": {},
   "source": [
    "**Key Concepts of OOP**"
   ]
  },
  {
   "cell_type": "markdown",
   "id": "3e58b606-e252-4a9e-a085-24e163ecf702",
   "metadata": {},
   "source": [
    "1. Class: A blueprint for creating objects. It defines the attributes and methods the objects will have."
   ]
  },
  {
   "cell_type": "code",
   "execution_count": 2,
   "id": "c86a771f-9863-49e1-8b10-d699f07128d3",
   "metadata": {},
   "outputs": [],
   "source": [
    "class Dog:\n",
    "    def __init__(self, name):\n",
    "        self.name = name\n",
    "\n",
    "    def bark(self):\n",
    "        print(f\"{self.name} says woof!\")\n"
   ]
  },
  {
   "cell_type": "markdown",
   "id": "17f25aa3-cfae-417c-a399-a57a4bc55b8c",
   "metadata": {},
   "source": [
    "2. Object: An instance of a class."
   ]
  },
  {
   "cell_type": "code",
   "execution_count": 3,
   "id": "06480da0-02a2-4a88-99dd-61b02c4acf6f",
   "metadata": {},
   "outputs": [
    {
     "name": "stdout",
     "output_type": "stream",
     "text": [
      "Buddy says woof!\n"
     ]
    }
   ],
   "source": [
    "dog1 = Dog(\"Buddy\")\n",
    "dog1.bark()  # Output: Buddy says woof!\n"
   ]
  },
  {
   "cell_type": "markdown",
   "id": "976befdb-0ce2-4a44-81a4-6cdbad09391f",
   "metadata": {},
   "source": [
    "3. Encapsulation: Hides the internal state and only exposes a controlled interface.\n",
    "    - Think: private data, public methods to interact with it."
   ]
  },
  {
   "cell_type": "markdown",
   "id": "356bbc8c-0be6-4aaa-9b67-60d0120608cb",
   "metadata": {},
   "source": [
    "4. Inheritance: One class (child) can inherit the properties and methods of another (parent)."
   ]
  },
  {
   "cell_type": "code",
   "execution_count": 4,
   "id": "069054e4-29cc-49e5-b649-6635c775a8db",
   "metadata": {},
   "outputs": [],
   "source": [
    "class Animal:\n",
    "    def speak(self):\n",
    "        print(\"Some sound\")\n",
    "\n",
    "class Cat(Animal):\n",
    "    def speak(self):\n",
    "        print(\"Meow\")\n"
   ]
  },
  {
   "cell_type": "markdown",
   "id": "a906be9a-46d8-4610-b052-9525a4c9e230",
   "metadata": {},
   "source": [
    "5. Polymorphism: Objects can take many forms—specifically, a child class can override or extend methods from the parent class."
   ]
  },
  {
   "cell_type": "code",
   "execution_count": 5,
   "id": "6ad89919-5bec-4046-a674-84e6153ab635",
   "metadata": {},
   "outputs": [
    {
     "name": "stdout",
     "output_type": "stream",
     "text": [
      "Meow\n"
     ]
    }
   ],
   "source": [
    "def make_animal_speak(animal):\n",
    "    animal.speak()\n",
    "\n",
    "make_animal_speak(Cat())  # Output: Meow\n"
   ]
  },
  {
   "cell_type": "markdown",
   "id": "f487c1da-f84e-4a69-be8f-b6dbeec815c1",
   "metadata": {},
   "source": [
    "6. Abstraction: Hiding complex details and showing only the necessary parts of an object’s behavior.\n",
    "    - Typically done using abstract classes or interfaces."
   ]
  },
  {
   "cell_type": "markdown",
   "id": "487740b6-432c-480c-9fd1-fbfeb3572357",
   "metadata": {},
   "source": [
    "> Benefits of OOP\n",
    "1. Modularity: Code is organized in objects.\n",
    "2. Reusability: Inheritance promotes code reuse.\n",
    "3. Scalability: Easy to expand and maintain.\n",
    "4. Security: Encapsulation protects data."
   ]
  },
  {
   "cell_type": "code",
   "execution_count": null,
   "id": "f143ab77-8b87-44cd-95c6-6c8a3744db24",
   "metadata": {},
   "outputs": [],
   "source": []
  },
  {
   "cell_type": "code",
   "execution_count": null,
   "id": "5e930004-e9ea-42c0-8f7a-4ee9c5b484fb",
   "metadata": {},
   "outputs": [],
   "source": []
  },
  {
   "cell_type": "code",
   "execution_count": null,
   "id": "e3e013ac-54ba-48eb-acc7-e0448fe8e7b6",
   "metadata": {},
   "outputs": [],
   "source": []
  },
  {
   "cell_type": "code",
   "execution_count": null,
   "id": "58132ea2-25fa-4a53-97d8-f48355f38c40",
   "metadata": {},
   "outputs": [],
   "source": []
  },
  {
   "cell_type": "markdown",
   "id": "aa6b5580-8e12-4aca-837d-e47ce41a1b80",
   "metadata": {},
   "source": [
    "#     Practical Questions"
   ]
  },
  {
   "cell_type": "code",
   "execution_count": null,
   "id": "7eae360e-9631-48ad-bfb5-68449dfdb66a",
   "metadata": {},
   "outputs": [],
   "source": []
  },
  {
   "cell_type": "code",
   "execution_count": null,
   "id": "131401b9-f6ad-4066-b802-982b39433f54",
   "metadata": {},
   "outputs": [],
   "source": []
  },
  {
   "cell_type": "code",
   "execution_count": null,
   "id": "ea0fea10-370a-4b05-9b97-e21fc0c64ec9",
   "metadata": {},
   "outputs": [],
   "source": []
  },
  {
   "cell_type": "code",
   "execution_count": null,
   "id": "e1bc3bd0-3bf4-4672-84c4-04a3af3c8ad5",
   "metadata": {},
   "outputs": [],
   "source": []
  },
  {
   "cell_type": "code",
   "execution_count": null,
   "id": "8d1cbd86-3fcc-4cf1-a5dd-fddb3e1e536f",
   "metadata": {},
   "outputs": [],
   "source": []
  }
 ],
 "metadata": {
  "kernelspec": {
   "display_name": "Python 3 (ipykernel)",
   "language": "python",
   "name": "python3"
  },
  "language_info": {
   "codemirror_mode": {
    "name": "ipython",
    "version": 3
   },
   "file_extension": ".py",
   "mimetype": "text/x-python",
   "name": "python",
   "nbconvert_exporter": "python",
   "pygments_lexer": "ipython3",
   "version": "3.13.3"
  }
 },
 "nbformat": 4,
 "nbformat_minor": 5
}
