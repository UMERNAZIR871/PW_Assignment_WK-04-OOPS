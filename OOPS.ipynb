{
 "cells": [
  {
   "cell_type": "markdown",
   "id": "9cb5ab71-445c-42e7-9ddc-ca4e705ffad2",
   "metadata": {},
   "source": [
    "# Python OOPs Questions Assigment"
   ]
  },
  {
   "cell_type": "markdown",
   "id": "1338e5e9-e831-409e-8a3e-b042894b8eb7",
   "metadata": {},
   "source": [
    "#     Theory Questions"
   ]
  },
  {
   "cell_type": "markdown",
   "id": "f02093d9-669b-45f7-a14b-2d13160c4b88",
   "metadata": {},
   "source": [
    "**Q1. What is Object-Oriented Programming (OOP)?**"
   ]
  },
  {
   "cell_type": "markdown",
   "id": "85a42cd0-a7ef-479c-a706-d2f9f5ad7439",
   "metadata": {},
   "source": [
    "**Ans.** Object-Oriented Programming (OOP) is a programming paradigm based on the concept of \"objects,\" which can contain data (attributes or properties) and code (methods or functions). It’s a way to structure programs so that code is more reusable, maintainable, and easier to understand."
   ]
  },
  {
   "cell_type": "markdown",
   "id": "ba82a14b-f924-4090-91df-54b7c1dcc5da",
   "metadata": {},
   "source": [
    "**Key Concepts of OOP**"
   ]
  },
  {
   "cell_type": "markdown",
   "id": "3e58b606-e252-4a9e-a085-24e163ecf702",
   "metadata": {},
   "source": [
    "1. Class: A blueprint for creating objects. It defines the attributes and methods the objects will have."
   ]
  },
  {
   "cell_type": "code",
   "execution_count": 2,
   "id": "c86a771f-9863-49e1-8b10-d699f07128d3",
   "metadata": {},
   "outputs": [],
   "source": [
    "class Dog:\n",
    "    def __init__(self, name):\n",
    "        self.name = name\n",
    "\n",
    "    def bark(self):\n",
    "        print(f\"{self.name} says woof!\")\n"
   ]
  },
  {
   "cell_type": "markdown",
   "id": "17f25aa3-cfae-417c-a399-a57a4bc55b8c",
   "metadata": {},
   "source": [
    "2. Object: An instance of a class."
   ]
  },
  {
   "cell_type": "code",
   "execution_count": 3,
   "id": "06480da0-02a2-4a88-99dd-61b02c4acf6f",
   "metadata": {},
   "outputs": [
    {
     "name": "stdout",
     "output_type": "stream",
     "text": [
      "Buddy says woof!\n"
     ]
    }
   ],
   "source": [
    "dog1 = Dog(\"Buddy\")\n",
    "dog1.bark()  # Output: Buddy says woof!\n"
   ]
  },
  {
   "cell_type": "markdown",
   "id": "976befdb-0ce2-4a44-81a4-6cdbad09391f",
   "metadata": {},
   "source": [
    "3. Encapsulation: Hides the internal state and only exposes a controlled interface.\n",
    "    - Think: private data, public methods to interact with it."
   ]
  },
  {
   "cell_type": "markdown",
   "id": "356bbc8c-0be6-4aaa-9b67-60d0120608cb",
   "metadata": {},
   "source": [
    "4. Inheritance: One class (child) can inherit the properties and methods of another (parent)."
   ]
  },
  {
   "cell_type": "code",
   "execution_count": 4,
   "id": "069054e4-29cc-49e5-b649-6635c775a8db",
   "metadata": {},
   "outputs": [],
   "source": [
    "class Animal:\n",
    "    def speak(self):\n",
    "        print(\"Some sound\")\n",
    "\n",
    "class Cat(Animal):\n",
    "    def speak(self):\n",
    "        print(\"Meow\")\n"
   ]
  },
  {
   "cell_type": "markdown",
   "id": "a906be9a-46d8-4610-b052-9525a4c9e230",
   "metadata": {},
   "source": [
    "5. Polymorphism: Objects can take many forms—specifically, a child class can override or extend methods from the parent class."
   ]
  },
  {
   "cell_type": "code",
   "execution_count": 5,
   "id": "6ad89919-5bec-4046-a674-84e6153ab635",
   "metadata": {},
   "outputs": [
    {
     "name": "stdout",
     "output_type": "stream",
     "text": [
      "Meow\n"
     ]
    }
   ],
   "source": [
    "def make_animal_speak(animal):\n",
    "    animal.speak()\n",
    "\n",
    "make_animal_speak(Cat())  # Output: Meow\n"
   ]
  },
  {
   "cell_type": "markdown",
   "id": "f487c1da-f84e-4a69-be8f-b6dbeec815c1",
   "metadata": {},
   "source": [
    "6. Abstraction: Hiding complex details and showing only the necessary parts of an object’s behavior.\n",
    "    - Typically done using abstract classes or interfaces."
   ]
  },
  {
   "cell_type": "markdown",
   "id": "487740b6-432c-480c-9fd1-fbfeb3572357",
   "metadata": {},
   "source": [
    "- Benefits of OOP\n",
    "    - Modularity: Code is organized in objects\n",
    "    - Reusability: Inheritance promotes code reuse.\n",
    "    - Scalability: Easy to expand and maintain.\n",
    "    - Security: Encapsulation protects data."
   ]
  },
  {
   "cell_type": "markdown",
   "id": "3bb9d0e4-3f04-47a2-b54d-90bb9d17f018",
   "metadata": {},
   "source": [
    "**Q2. What is a class in OOP?**"
   ]
  },
  {
   "cell_type": "markdown",
   "id": "6eabf33a-91a2-4ce3-9eb6-79bea881360c",
   "metadata": {},
   "source": [
    "**Ans.** In Object-Oriented Programming (OOP), a class is a blueprint or template used to create objects. It defines the attributes (data) and methods (functions) that the objects created from the class will have.\n",
    "\n",
    "\n",
    "- A class is like a recipe for making cookies.\n",
    "- Each object made from the class is an individual cookie.\n",
    "- The ingredients and instructions are the attributes and methods."
   ]
  },
  {
   "cell_type": "markdown",
   "id": "3a1edf45-1d84-4d27-9b8f-1ffb9843c72b",
   "metadata": {},
   "source": [
    "Example in Python:"
   ]
  },
  {
   "cell_type": "code",
   "execution_count": 6,
   "id": "58132ea2-25fa-4a53-97d8-f48355f38c40",
   "metadata": {},
   "outputs": [],
   "source": [
    "class Dog:\n",
    "    def __init__(self, name, breed):\n",
    "        self.name = name        # attribute\n",
    "        self.breed = breed      # attribute\n",
    "\n",
    "    def bark(self):             # method\n",
    "        print(f\"{self.name} says Woof!\")\n"
   ]
  },
  {
   "cell_type": "markdown",
   "id": "25ba4694-edbe-49a2-9cd6-43c91852dfc4",
   "metadata": {},
   "source": [
    "Explanation:\n",
    "1. class Dog: defines a new class named Dog.\n",
    "2. __init__() is the constructor that runs when a new object is created.\n",
    "3. self.name and self.breed are attributes.\n",
    "4. bark() is a method (function inside the class)."
   ]
  },
  {
   "cell_type": "markdown",
   "id": "de4848f0-f385-4acf-85bd-4b32b5ebdb66",
   "metadata": {},
   "source": [
    "Creating an Object (Instance):"
   ]
  },
  {
   "cell_type": "code",
   "execution_count": 7,
   "id": "82cf940d-ee40-4e45-8b32-8d2f06d936eb",
   "metadata": {},
   "outputs": [
    {
     "name": "stdout",
     "output_type": "stream",
     "text": [
      "Buddy says Woof!\n"
     ]
    }
   ],
   "source": [
    "my_dog = Dog(\"Buddy\", \"Golden Retriever\")\n",
    "my_dog.bark()  # Output: Buddy says Woof!\n"
   ]
  },
  {
   "cell_type": "markdown",
   "id": "e49151c0-2bf7-45f0-b745-90a57cc0177f",
   "metadata": {},
   "source": [
    "- A class defines what properties (attributes) and actions (methods) an object will have.\n",
    "- An object is an actual instance of a class."
   ]
  },
  {
   "cell_type": "markdown",
   "id": "a15799e8-652b-4348-abe4-87c2b3784728",
   "metadata": {},
   "source": [
    "**Q3. What is an object in OOP?**"
   ]
  },
  {
   "cell_type": "markdown",
   "id": "b7f5db9d-5548-4a8a-943e-6b6127bc367b",
   "metadata": {},
   "source": [
    "**Ans.** In Object-Oriented Programming (OOP), an object is an instance of a class. You can think of a class as a blueprint, and the object is the real thing created from that blueprint."
   ]
  },
  {
   "cell_type": "markdown",
   "id": "03c10e40-ea25-4046-9436-c127873ba249",
   "metadata": {},
   "source": [
    "**Real-Life Analogy:**"
   ]
  },
  {
   "cell_type": "markdown",
   "id": "88c261a1-e803-43d9-b385-61b897c6393a",
   "metadata": {},
   "source": [
    "- Class: A car design blueprint.\n",
    "- Object: A specific car made from that blueprint — like a red Toyota Corolla with license plate XYZ123."
   ]
  },
  {
   "cell_type": "markdown",
   "id": "7753d602-908d-4d92-92d6-e274c4b17bc6",
   "metadata": {},
   "source": [
    "**In Programming:**"
   ]
  },
  {
   "cell_type": "markdown",
   "id": "a6a15eea-e763-4b9c-a6a6-294f5fdb958c",
   "metadata": {},
   "source": [
    "An object has:\n",
    "- Attributes (data stored in variables)\n",
    "- Methods (functions it can perform)"
   ]
  },
  {
   "cell_type": "markdown",
   "id": "f82df598-f5eb-41e3-8921-4b06b9a69247",
   "metadata": {},
   "source": [
    "Example in Python:"
   ]
  },
  {
   "cell_type": "code",
   "execution_count": 8,
   "id": "da776c44-a3fd-403b-90b3-43f7096985be",
   "metadata": {},
   "outputs": [],
   "source": [
    "class Dog:\n",
    "    def __init__(self, name, age):\n",
    "        self.name = name     # attribute\n",
    "        self.age = age       # attribute\n",
    "\n",
    "    def bark(self):         # method\n",
    "        print(f\"{self.name} says Woof!\")\n"
   ]
  },
  {
   "cell_type": "markdown",
   "id": "e57c4e14-fec3-446a-8909-48d4b386694a",
   "metadata": {},
   "source": [
    "Now let’s create an object from the Dog class:"
   ]
  },
  {
   "cell_type": "code",
   "execution_count": 9,
   "id": "585d3025-6cac-486b-a19e-2f27a24b0454",
   "metadata": {},
   "outputs": [],
   "source": [
    "my_dog = Dog(\"Buddy\", 3)"
   ]
  },
  {
   "cell_type": "markdown",
   "id": "72556505-e342-412f-9b55-c26001d53d31",
   "metadata": {},
   "source": [
    "**Here, my_dog is an object:**\n",
    "- It has its own data: name = \"Buddy\", age = 3\n",
    "- It can perform actions: my_dog.bark() will print \"Buddy says Woof!\""
   ]
  },
  {
   "cell_type": "markdown",
   "id": "45418ee1-fdea-4e63-b6f7-5434555e76e4",
   "metadata": {},
   "source": [
    "**Q4.  What is the difference between abstraction and encapsulation?**"
   ]
  },
  {
   "cell_type": "markdown",
   "id": "e5314bfe-8d9d-4a40-9ad0-e5edc9f03fd3",
   "metadata": {},
   "source": [
    "**Ans.** Abstraction and Encapsulation are two fundamental concepts in object-oriented programming (OOP), and while they are related, they serve different purposes:"
   ]
  },
  {
   "cell_type": "markdown",
   "id": "c5c19396-574b-4acf-8d59-2c5060ea035f",
   "metadata": {},
   "source": [
    "1. Abstraction:\n",
    "    - Definition: Hides complex implementation details and shows only the essential features of an object.\n",
    "    - Purpose: To simplify the use of complex systems by exposing only necessary parts.\n",
    "    - How: Achieved using abstract classes, interfaces, or by providing methods that users can call without knowing how they work internally.\n",
    "\n",
    "\n",
    "Example:"
   ]
  },
  {
   "cell_type": "code",
   "execution_count": 1,
   "id": "4370e033-4ceb-404a-a3f9-66993130f245",
   "metadata": {},
   "outputs": [],
   "source": [
    "class Car:\n",
    "    def start_engine(self):\n",
    "        pass  # You don't need to know how the engine starts internally\n"
   ]
  },
  {
   "cell_type": "markdown",
   "id": "4ea274d0-b3ff-40d4-ae51-d0d61e5e2404",
   "metadata": {},
   "source": [
    "You can use start_engine() without knowing how fuel injection or ignition works. That's abstraction."
   ]
  },
  {
   "cell_type": "markdown",
   "id": "88f6d890-9d1c-48a5-b0a9-82813b80d582",
   "metadata": {},
   "source": [
    "2. Encapsulation: \n",
    "    - Definition: Bundles data and methods that operate on that data into a single unit (a class) and restricts direct access to some components.\n",
    "    - Purpose: To protect the internal state of an object and prevent outside interference.\n",
    "    - How: Achieved using access modifiers (e.g., private, protected, public), and by using getters and setters.\n",
    "\n",
    "\n",
    "Example:"
   ]
  },
  {
   "cell_type": "code",
   "execution_count": 2,
   "id": "2e33b366-62cc-47b4-b7bb-c79bb4e99d16",
   "metadata": {},
   "outputs": [],
   "source": [
    "class Car:\n",
    "    def __init__(self):\n",
    "        self.__speed = 0  # private variable\n",
    "\n",
    "    def accelerate(self):\n",
    "        self.__speed += 5\n",
    "\n",
    "    def get_speed(self):\n",
    "        return self.__speed\n"
   ]
  },
  {
   "cell_type": "markdown",
   "id": "e7557376-a1d4-44fb-9e24-52b801b1b39f",
   "metadata": {},
   "source": [
    "You can't directly access __speed from outside the class—this is encapsulation."
   ]
  },
  {
   "cell_type": "markdown",
   "id": "7888cdf2-ffe8-44e0-b4a7-794ae18eb479",
   "metadata": {},
   "source": [
    "> Key Differences:\n",
    "\n",
    "\n",
    "| Feature         | Abstraction                                      | Encapsulation                              |\n",
    "| --------------- | ------------------------------------------------ | ------------------------------------------ |\n",
    "| Focus           | Hiding **implementation details**                | Hiding **data (internal state)**           |\n",
    "| Main Goal       | Simplicity                                       | Protection                                 |\n",
    "| Achieved by     | Abstract classes, interfaces, method definitions | Access modifiers, getters/setters          |\n",
    "| Example Concept | What a car does (drive, brake)                   | How speed is stored and updated internally |\n",
    "\n"
   ]
  },
  {
   "cell_type": "markdown",
   "id": "cc0d27f2-6b5a-464d-9608-d37174381469",
   "metadata": {},
   "source": [
    "**Q5. What are dunder methods in Python?**"
   ]
  },
  {
   "cell_type": "markdown",
   "id": "8e3717dc-43c0-4b57-af00-b67591924b60",
   "metadata": {},
   "source": [
    "**Ans.** Dunder methods in Python (short for \"double underscore\" methods) are special methods with names that start and end with double underscores, like __init__, __str__, __len__, etc. They're also known as magic methods or special methods."
   ]
  },
  {
   "cell_type": "markdown",
   "id": "b779a331-4579-45e4-8791-9c4650437c7d",
   "metadata": {},
   "source": [
    "> Purpose of Dunder Methods"
   ]
  },
  {
   "cell_type": "markdown",
   "id": "d56bbd77-04a3-4692-b359-663e303c6f49",
   "metadata": {},
   "source": [
    "They allow you to:\n",
    "- Define how your objects behave with built-in operations (like printing, adding, comparing, etc.)\n",
    "- Customize object behavior such as creation, string representation, arithmetic, and more."
   ]
  },
  {
   "cell_type": "markdown",
   "id": "f1127341-4e89-42c1-999b-6c4345eec26d",
   "metadata": {},
   "source": [
    "> Common Dunder Methods and What They Do"
   ]
  },
  {
   "cell_type": "code",
   "execution_count": null,
   "id": "73e4834b-1581-4a63-986e-27bcb3fdb09f",
   "metadata": {},
   "outputs": [],
   "source": [
    "| Dunder Method | Purpose                                    | Example Usage      |\n",
    "| ------------- | ------------------------------------------ | ------------------ |\n",
    "| `__init__`    | Constructor (initializes object)           | `obj = MyClass()`  |\n",
    "| `__str__`     | String representation for `print()`        | `print(obj)`       |\n",
    "| `__repr__`    | Official string representation             | `repr(obj)`        |\n",
    "| `__len__`     | Length of object                           | `len(obj)`         |\n",
    "| `__getitem__` | Access item like in a list/dict            | `obj[key]`         |\n",
    "| `__setitem__` | Set item like in a list/dict               | `obj[key] = value` |\n",
    "| `__add__`     | Addition operator (`+`)                    | `obj1 + obj2`      |\n",
    "| `__eq__`      | Equality comparison (`==`)                 | `obj1 == obj2`     |\n",
    "| `__lt__`      | Less than (`<`)                            | `obj1 < obj2`      |\n",
    "| `__call__`    | Make object callable like a function       | `obj()`            |\n",
    "| `__del__`     | Destructor (called when object is deleted) | `del obj`          |\n"
   ]
  },
  {
   "cell_type": "code",
   "execution_count": 3,
   "id": "ced4caf7-4d52-49ae-ae41-9114359d6b84",
   "metadata": {},
   "outputs": [
    {
     "name": "stdout",
     "output_type": "stream",
     "text": [
      "Book: Python Basics\n",
      "13\n"
     ]
    }
   ],
   "source": [
    "#  Example Usgae\n",
    "\n",
    "class Book:\n",
    "    def __init__(self, title):\n",
    "        self.title = title\n",
    "\n",
    "    def __str__(self):\n",
    "        return f\"Book: {self.title}\"\n",
    "\n",
    "    def __len__(self):\n",
    "        return len(self.title)\n",
    "\n",
    "book = Book(\"Python Basics\")\n",
    "print(book)          # Book: Python Basics (__str__)\n",
    "print(len(book))     # 14 (__len__)\n"
   ]
  },
  {
   "cell_type": "markdown",
   "id": "3a650e84-4216-47cb-b967-42f7455cd368",
   "metadata": {},
   "source": [
    "> Why we Use Them:\n",
    "\n",
    "1. To make your custom classes behave like built-in types.\n",
    "2. For better debugging, readability, and integration with Python features."
   ]
  },
  {
   "cell_type": "markdown",
   "id": "97255fe6-1b15-4b20-a74a-f8ddc5bed1b7",
   "metadata": {},
   "source": [
    "**Q6. Explain the concept of inheritance in OOP?**"
   ]
  },
  {
   "cell_type": "markdown",
   "id": "2089ea6b-48f9-404e-85b5-5dd5a87e0cf3",
   "metadata": {},
   "source": [
    "**Ans.** Inheritance is a core concept in OOP that allows a class (called a child or subclass) to inherit properties and behaviors (attributes and methods) from another class (called a parent or superclass)."
   ]
  },
  {
   "cell_type": "markdown",
   "id": "9bbd6697-ef26-4ed3-a5bb-b297529ec219",
   "metadata": {},
   "source": [
    "> Why Use Inheritance?\n",
    "\n",
    "1. Reusability: You can reuse code from existing classes.\n",
    "2. Extensibility: You can add or override features in the child class.\n",
    "3. Organization: Helps model relationships like “is-a” (e.g., a Dog is a Animal)."
   ]
  },
  {
   "cell_type": "markdown",
   "id": "7bfda425-0752-4c85-a236-e5e6d137e702",
   "metadata": {},
   "source": [
    "Basic Syntax in Python"
   ]
  },
  {
   "cell_type": "code",
   "execution_count": 4,
   "id": "7be29a79-654d-4d07-84bd-0db7a64394fb",
   "metadata": {},
   "outputs": [],
   "source": [
    "class Animal:  # Parent class\n",
    "    def speak(self):\n",
    "        return \"Some sound\"\n",
    "\n",
    "class Dog(Animal):  # Child class\n",
    "    def speak(self):\n",
    "        return \"Bark\"\n"
   ]
  },
  {
   "cell_type": "code",
   "execution_count": 5,
   "id": "c4663eb8-188f-4636-abf5-e5ecf3371a09",
   "metadata": {},
   "outputs": [
    {
     "name": "stdout",
     "output_type": "stream",
     "text": [
      "Bark\n"
     ]
    }
   ],
   "source": [
    "dog = Dog()\n",
    "print(dog.speak())  # Output: Bark\n"
   ]
  },
  {
   "cell_type": "markdown",
   "id": "2a9f1a34-f507-442d-9b6e-d1e0b0bcda14",
   "metadata": {},
   "source": [
    "> Here, Dog inherits the speak method from Animal, but it also overrides it with its own version."
   ]
  },
  {
   "cell_type": "markdown",
   "id": "14bfac15-d9ad-4579-9af1-eff2fec02428",
   "metadata": {},
   "source": [
    "**Types of Inheritance**"
   ]
  },
  {
   "cell_type": "code",
   "execution_count": null,
   "id": "b20d9008-7ec3-4e89-9e80-7c5e9bd5bd76",
   "metadata": {},
   "outputs": [],
   "source": [
    "| Type             | Description                               | Example                                |\n",
    "| ---------------- | ----------------------------------------- | -------------------------------------- |\n",
    "| **Single**       | One child inherits from one parent        | `class Dog(Animal)`                    |\n",
    "| **Multiple**     | One child inherits from multiple parents  | `class Child(Mother, Father)`          |\n",
    "| **Multilevel**   | Chain of inheritance (A → B → C)          | `class C(B), class B(A)`               |\n",
    "| **Hierarchical** | Multiple children inherit from one parent | `class Dog(Animal), class Cat(Animal)` |\n",
    "| **Hybrid**       | Combination of the above                  | Complex scenarios                      |\n"
   ]
  },
  {
   "cell_type": "markdown",
   "id": "27ee9d4d-58da-47b4-ba66-9e02e70d84f3",
   "metadata": {},
   "source": [
    "> super() Keyword  "
   ]
  },
  {
   "cell_type": "code",
   "execution_count": null,
   "id": "851d9f85-70e9-483e-a656-96b11161f0a0",
   "metadata": {},
   "outputs": [],
   "source": [
    "- Used to call methods from the parent class:"
   ]
  },
  {
   "cell_type": "code",
   "execution_count": 6,
   "id": "281e9022-a28f-41bd-9933-734facef98bc",
   "metadata": {},
   "outputs": [],
   "source": [
    "class Animal:\n",
    "    def __init__(self, name):\n",
    "        self.name = name\n",
    "\n",
    "class Dog(Animal):\n",
    "    def __init__(self, name, breed):\n",
    "        super().__init__(name)  # Call parent constructor\n",
    "        self.breed = breed\n"
   ]
  },
  {
   "cell_type": "markdown",
   "id": "5336ef62-7d40-404d-b525-69f22b906969",
   "metadata": {},
   "source": [
    "> Real-World Analogy"
   ]
  },
  {
   "cell_type": "markdown",
   "id": "e011334e-eae0-40d8-b87d-92d0672823a9",
   "metadata": {},
   "source": [
    "**Imagine a Vehicle class:**\n",
    "- All vehicles have wheels and can move.\n",
    "- A Car inherits from Vehicle, but also has additional features like air conditioning.\n",
    "- A Bicycle also inherits from Vehicle, but behaves differently."
   ]
  },
  {
   "cell_type": "code",
   "execution_count": null,
   "id": "c7806437-da13-41a8-9c89-e6cea1c9c925",
   "metadata": {},
   "outputs": [],
   "source": []
  },
  {
   "cell_type": "code",
   "execution_count": null,
   "id": "95f42743-0fd8-434a-a9df-b8e04f6ddf61",
   "metadata": {},
   "outputs": [],
   "source": []
  },
  {
   "cell_type": "code",
   "execution_count": null,
   "id": "390dd433-b405-41d8-a5f4-80763dfe2a60",
   "metadata": {},
   "outputs": [],
   "source": []
  },
  {
   "cell_type": "code",
   "execution_count": null,
   "id": "d01f0bb4-0d97-43a7-8c5c-b583f646236e",
   "metadata": {},
   "outputs": [],
   "source": []
  },
  {
   "cell_type": "code",
   "execution_count": null,
   "id": "aad44c67-2bd9-48a4-8ed6-8ef621134543",
   "metadata": {},
   "outputs": [],
   "source": []
  },
  {
   "cell_type": "code",
   "execution_count": null,
   "id": "8c60fd83-8abe-4f4a-b9ed-915621f8243c",
   "metadata": {},
   "outputs": [],
   "source": []
  },
  {
   "cell_type": "code",
   "execution_count": null,
   "id": "2d0127f3-6338-467f-a9f7-eefff9712d58",
   "metadata": {},
   "outputs": [],
   "source": []
  },
  {
   "cell_type": "code",
   "execution_count": null,
   "id": "bc2d36a6-4bb9-44ad-a366-45f11bd8faea",
   "metadata": {},
   "outputs": [],
   "source": []
  },
  {
   "cell_type": "code",
   "execution_count": null,
   "id": "dfe805c5-677f-4deb-a5ac-d738771da431",
   "metadata": {},
   "outputs": [],
   "source": []
  },
  {
   "cell_type": "code",
   "execution_count": null,
   "id": "0af5b5ee-8ea3-4a5f-aa2a-3b9b299c524b",
   "metadata": {},
   "outputs": [],
   "source": []
  },
  {
   "cell_type": "code",
   "execution_count": null,
   "id": "f6017c4d-1f2d-45c4-ba9c-f14cba74cce1",
   "metadata": {},
   "outputs": [],
   "source": []
  },
  {
   "cell_type": "code",
   "execution_count": null,
   "id": "d143aa22-ad69-4a21-9504-63f5d02e3d11",
   "metadata": {},
   "outputs": [],
   "source": []
  },
  {
   "cell_type": "code",
   "execution_count": null,
   "id": "95c0f3ee-5d34-49b1-82a9-f2fdd8cf94a2",
   "metadata": {},
   "outputs": [],
   "source": []
  },
  {
   "cell_type": "code",
   "execution_count": null,
   "id": "4eebe540-0d21-4092-ba1b-c34b5a5e595c",
   "metadata": {},
   "outputs": [],
   "source": []
  },
  {
   "cell_type": "markdown",
   "id": "aa6b5580-8e12-4aca-837d-e47ce41a1b80",
   "metadata": {},
   "source": [
    "#     Practical Questions"
   ]
  },
  {
   "cell_type": "code",
   "execution_count": null,
   "id": "811bd9d1-e418-4a56-ae2f-cd8ff9a15d14",
   "metadata": {},
   "outputs": [],
   "source": []
  },
  {
   "cell_type": "code",
   "execution_count": null,
   "id": "51a0d3f8-23b9-4c78-afd5-135c03b84053",
   "metadata": {},
   "outputs": [],
   "source": []
  },
  {
   "cell_type": "code",
   "execution_count": null,
   "id": "3687b4c3-74d8-41ac-9453-ca4f4f07f17a",
   "metadata": {},
   "outputs": [],
   "source": []
  },
  {
   "cell_type": "code",
   "execution_count": null,
   "id": "81dbd216-d051-4e19-b94c-f712670cccd6",
   "metadata": {},
   "outputs": [],
   "source": []
  },
  {
   "cell_type": "code",
   "execution_count": null,
   "id": "56efd996-05f3-4cc8-b777-5711b228cb15",
   "metadata": {},
   "outputs": [],
   "source": []
  },
  {
   "cell_type": "code",
   "execution_count": null,
   "id": "f12a5fa4-0876-434e-b3aa-988e49b3457e",
   "metadata": {},
   "outputs": [],
   "source": []
  },
  {
   "cell_type": "code",
   "execution_count": null,
   "id": "7eae360e-9631-48ad-bfb5-68449dfdb66a",
   "metadata": {},
   "outputs": [],
   "source": []
  },
  {
   "cell_type": "code",
   "execution_count": null,
   "id": "131401b9-f6ad-4066-b802-982b39433f54",
   "metadata": {},
   "outputs": [],
   "source": []
  },
  {
   "cell_type": "code",
   "execution_count": null,
   "id": "ea0fea10-370a-4b05-9b97-e21fc0c64ec9",
   "metadata": {},
   "outputs": [],
   "source": []
  },
  {
   "cell_type": "code",
   "execution_count": null,
   "id": "e1bc3bd0-3bf4-4672-84c4-04a3af3c8ad5",
   "metadata": {},
   "outputs": [],
   "source": []
  },
  {
   "cell_type": "code",
   "execution_count": null,
   "id": "8d1cbd86-3fcc-4cf1-a5dd-fddb3e1e536f",
   "metadata": {},
   "outputs": [],
   "source": []
  }
 ],
 "metadata": {
  "kernelspec": {
   "display_name": "Python 3 (ipykernel)",
   "language": "python",
   "name": "python3"
  },
  "language_info": {
   "codemirror_mode": {
    "name": "ipython",
    "version": 3
   },
   "file_extension": ".py",
   "mimetype": "text/x-python",
   "name": "python",
   "nbconvert_exporter": "python",
   "pygments_lexer": "ipython3",
   "version": "3.13.3"
  }
 },
 "nbformat": 4,
 "nbformat_minor": 5
}
