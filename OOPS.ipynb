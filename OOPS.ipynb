{
 "cells": [
  {
   "cell_type": "markdown",
   "id": "9cb5ab71-445c-42e7-9ddc-ca4e705ffad2",
   "metadata": {},
   "source": [
    "# Python OOPs Questions Assignment"
   ]
  },
  {
   "cell_type": "markdown",
   "id": "1338e5e9-e831-409e-8a3e-b042894b8eb7",
   "metadata": {},
   "source": [
    "#     Theory Questions"
   ]
  },
  {
   "cell_type": "markdown",
   "id": "f02093d9-669b-45f7-a14b-2d13160c4b88",
   "metadata": {},
   "source": [
    "**Q1. What is Object-Oriented Programming (OOP)?**"
   ]
  },
  {
   "cell_type": "markdown",
   "id": "85a42cd0-a7ef-479c-a706-d2f9f5ad7439",
   "metadata": {},
   "source": [
    "**Ans.** Object-Oriented Programming (OOP) is a programming paradigm based on the concept of \"objects,\" which can contain data (attributes or properties) and code (methods or functions). It’s a way to structure programs so that code is more reusable, maintainable, and easier to understand."
   ]
  },
  {
   "cell_type": "markdown",
   "id": "ba82a14b-f924-4090-91df-54b7c1dcc5da",
   "metadata": {},
   "source": [
    "**Key Concepts of OOP**"
   ]
  },
  {
   "cell_type": "markdown",
   "id": "3e58b606-e252-4a9e-a085-24e163ecf702",
   "metadata": {},
   "source": [
    "1. Class: A blueprint for creating objects. It defines the attributes and methods the objects will have."
   ]
  },
  {
   "cell_type": "code",
   "execution_count": 2,
   "id": "c86a771f-9863-49e1-8b10-d699f07128d3",
   "metadata": {},
   "outputs": [],
   "source": [
    "class Dog:\n",
    "    def __init__(self, name):\n",
    "        self.name = name\n",
    "\n",
    "    def bark(self):\n",
    "        print(f\"{self.name} says woof!\")\n"
   ]
  },
  {
   "cell_type": "markdown",
   "id": "17f25aa3-cfae-417c-a399-a57a4bc55b8c",
   "metadata": {},
   "source": [
    "2. Object: An instance of a class."
   ]
  },
  {
   "cell_type": "code",
   "execution_count": 3,
   "id": "06480da0-02a2-4a88-99dd-61b02c4acf6f",
   "metadata": {},
   "outputs": [
    {
     "name": "stdout",
     "output_type": "stream",
     "text": [
      "Buddy says woof!\n"
     ]
    }
   ],
   "source": [
    "dog1 = Dog(\"Buddy\")\n",
    "dog1.bark()  # Output: Buddy says woof!\n"
   ]
  },
  {
   "cell_type": "markdown",
   "id": "976befdb-0ce2-4a44-81a4-6cdbad09391f",
   "metadata": {},
   "source": [
    "3. Encapsulation: Hides the internal state and only exposes a controlled interface.\n",
    "    - Think: private data, public methods to interact with it."
   ]
  },
  {
   "cell_type": "markdown",
   "id": "356bbc8c-0be6-4aaa-9b67-60d0120608cb",
   "metadata": {},
   "source": [
    "4. Inheritance: One class (child) can inherit the properties and methods of another (parent)."
   ]
  },
  {
   "cell_type": "code",
   "execution_count": 4,
   "id": "069054e4-29cc-49e5-b649-6635c775a8db",
   "metadata": {},
   "outputs": [],
   "source": [
    "class Animal:\n",
    "    def speak(self):\n",
    "        print(\"Some sound\")\n",
    "\n",
    "class Cat(Animal):\n",
    "    def speak(self):\n",
    "        print(\"Meow\")\n"
   ]
  },
  {
   "cell_type": "markdown",
   "id": "a906be9a-46d8-4610-b052-9525a4c9e230",
   "metadata": {},
   "source": [
    "5. Polymorphism: Objects can take many forms—specifically, a child class can override or extend methods from the parent class."
   ]
  },
  {
   "cell_type": "code",
   "execution_count": 5,
   "id": "6ad89919-5bec-4046-a674-84e6153ab635",
   "metadata": {},
   "outputs": [
    {
     "name": "stdout",
     "output_type": "stream",
     "text": [
      "Meow\n"
     ]
    }
   ],
   "source": [
    "def make_animal_speak(animal):\n",
    "    animal.speak()\n",
    "\n",
    "make_animal_speak(Cat())  # Output: Meow\n"
   ]
  },
  {
   "cell_type": "markdown",
   "id": "f487c1da-f84e-4a69-be8f-b6dbeec815c1",
   "metadata": {},
   "source": [
    "6. Abstraction: Hiding complex details and showing only the necessary parts of an object’s behavior.\n",
    "    - Typically done using abstract classes or interfaces."
   ]
  },
  {
   "cell_type": "markdown",
   "id": "487740b6-432c-480c-9fd1-fbfeb3572357",
   "metadata": {},
   "source": [
    "- Benefits of OOP\n",
    "    - Modularity: Code is organized in objects\n",
    "    - Reusability: Inheritance promotes code reuse.\n",
    "    - Scalability: Easy to expand and maintain.\n",
    "    - Security: Encapsulation protects data."
   ]
  },
  {
   "cell_type": "markdown",
   "id": "3bb9d0e4-3f04-47a2-b54d-90bb9d17f018",
   "metadata": {},
   "source": [
    "**Q2. What is a class in OOP?**"
   ]
  },
  {
   "cell_type": "markdown",
   "id": "6eabf33a-91a2-4ce3-9eb6-79bea881360c",
   "metadata": {},
   "source": [
    "**Ans.** In Object-Oriented Programming (OOP), a class is a blueprint or template used to create objects. It defines the attributes (data) and methods (functions) that the objects created from the class will have.\n",
    "\n",
    "\n",
    "- A class is like a recipe for making cookies.\n",
    "- Each object made from the class is an individual cookie.\n",
    "- The ingredients and instructions are the attributes and methods."
   ]
  },
  {
   "cell_type": "markdown",
   "id": "3a1edf45-1d84-4d27-9b8f-1ffb9843c72b",
   "metadata": {},
   "source": [
    "Example in Python:"
   ]
  },
  {
   "cell_type": "code",
   "execution_count": 6,
   "id": "58132ea2-25fa-4a53-97d8-f48355f38c40",
   "metadata": {},
   "outputs": [],
   "source": [
    "class Dog:\n",
    "    def __init__(self, name, breed):\n",
    "        self.name = name        # attribute\n",
    "        self.breed = breed      # attribute\n",
    "\n",
    "    def bark(self):             # method\n",
    "        print(f\"{self.name} says Woof!\")\n"
   ]
  },
  {
   "cell_type": "markdown",
   "id": "25ba4694-edbe-49a2-9cd6-43c91852dfc4",
   "metadata": {},
   "source": [
    "Explanation:\n",
    "1. class Dog: defines a new class named Dog.\n",
    "2. __init__() is the constructor that runs when a new object is created.\n",
    "3. self.name and self.breed are attributes.\n",
    "4. bark() is a method (function inside the class)."
   ]
  },
  {
   "cell_type": "markdown",
   "id": "de4848f0-f385-4acf-85bd-4b32b5ebdb66",
   "metadata": {},
   "source": [
    "Creating an Object (Instance):"
   ]
  },
  {
   "cell_type": "code",
   "execution_count": 7,
   "id": "82cf940d-ee40-4e45-8b32-8d2f06d936eb",
   "metadata": {},
   "outputs": [
    {
     "name": "stdout",
     "output_type": "stream",
     "text": [
      "Buddy says Woof!\n"
     ]
    }
   ],
   "source": [
    "my_dog = Dog(\"Buddy\", \"Golden Retriever\")\n",
    "my_dog.bark()  # Output: Buddy says Woof!\n"
   ]
  },
  {
   "cell_type": "markdown",
   "id": "e49151c0-2bf7-45f0-b745-90a57cc0177f",
   "metadata": {},
   "source": [
    "- A class defines what properties (attributes) and actions (methods) an object will have.\n",
    "- An object is an actual instance of a class."
   ]
  },
  {
   "cell_type": "markdown",
   "id": "a15799e8-652b-4348-abe4-87c2b3784728",
   "metadata": {},
   "source": [
    "**Q3. What is an object in OOP?**"
   ]
  },
  {
   "cell_type": "markdown",
   "id": "b7f5db9d-5548-4a8a-943e-6b6127bc367b",
   "metadata": {},
   "source": [
    "**Ans.** In Object-Oriented Programming (OOP), an object is an instance of a class. You can think of a class as a blueprint, and the object is the real thing created from that blueprint."
   ]
  },
  {
   "cell_type": "markdown",
   "id": "03c10e40-ea25-4046-9436-c127873ba249",
   "metadata": {},
   "source": [
    "**Real-Life Analogy:**"
   ]
  },
  {
   "cell_type": "markdown",
   "id": "88c261a1-e803-43d9-b385-61b897c6393a",
   "metadata": {},
   "source": [
    "- Class: A car design blueprint.\n",
    "- Object: A specific car made from that blueprint — like a red Toyota Corolla with license plate XYZ123."
   ]
  },
  {
   "cell_type": "markdown",
   "id": "7753d602-908d-4d92-92d6-e274c4b17bc6",
   "metadata": {},
   "source": [
    "**In Programming:**"
   ]
  },
  {
   "cell_type": "markdown",
   "id": "a6a15eea-e763-4b9c-a6a6-294f5fdb958c",
   "metadata": {},
   "source": [
    "An object has:\n",
    "- Attributes (data stored in variables)\n",
    "- Methods (functions it can perform)"
   ]
  },
  {
   "cell_type": "markdown",
   "id": "f82df598-f5eb-41e3-8921-4b06b9a69247",
   "metadata": {},
   "source": [
    "Example in Python:"
   ]
  },
  {
   "cell_type": "code",
   "execution_count": 8,
   "id": "da776c44-a3fd-403b-90b3-43f7096985be",
   "metadata": {},
   "outputs": [],
   "source": [
    "class Dog:\n",
    "    def __init__(self, name, age):\n",
    "        self.name = name     # attribute\n",
    "        self.age = age       # attribute\n",
    "\n",
    "    def bark(self):         # method\n",
    "        print(f\"{self.name} says Woof!\")\n"
   ]
  },
  {
   "cell_type": "markdown",
   "id": "e57c4e14-fec3-446a-8909-48d4b386694a",
   "metadata": {},
   "source": [
    "Now let’s create an object from the Dog class:"
   ]
  },
  {
   "cell_type": "code",
   "execution_count": 9,
   "id": "585d3025-6cac-486b-a19e-2f27a24b0454",
   "metadata": {},
   "outputs": [],
   "source": [
    "my_dog = Dog(\"Buddy\", 3)"
   ]
  },
  {
   "cell_type": "markdown",
   "id": "72556505-e342-412f-9b55-c26001d53d31",
   "metadata": {},
   "source": [
    "**Here, my_dog is an object:**\n",
    "- It has its own data: name = \"Buddy\", age = 3\n",
    "- It can perform actions: my_dog.bark() will print \"Buddy says Woof!\""
   ]
  },
  {
   "cell_type": "markdown",
   "id": "45418ee1-fdea-4e63-b6f7-5434555e76e4",
   "metadata": {},
   "source": [
    "**Q4.  What is the difference between abstraction and encapsulation?**"
   ]
  },
  {
   "cell_type": "markdown",
   "id": "e5314bfe-8d9d-4a40-9ad0-e5edc9f03fd3",
   "metadata": {},
   "source": [
    "**Ans.** Abstraction and Encapsulation are two fundamental concepts in object-oriented programming (OOP), and while they are related, they serve different purposes:"
   ]
  },
  {
   "cell_type": "markdown",
   "id": "c5c19396-574b-4acf-8d59-2c5060ea035f",
   "metadata": {},
   "source": [
    "1. Abstraction:\n",
    "    - Definition: Hides complex implementation details and shows only the essential features of an object.\n",
    "    - Purpose: To simplify the use of complex systems by exposing only necessary parts.\n",
    "    - How: Achieved using abstract classes, interfaces, or by providing methods that users can call without knowing how they work internally.\n",
    "\n",
    "\n",
    "Example:"
   ]
  },
  {
   "cell_type": "code",
   "execution_count": 1,
   "id": "4370e033-4ceb-404a-a3f9-66993130f245",
   "metadata": {},
   "outputs": [],
   "source": [
    "class Car:\n",
    "    def start_engine(self):\n",
    "        pass  # You don't need to know how the engine starts internally\n"
   ]
  },
  {
   "cell_type": "markdown",
   "id": "4ea274d0-b3ff-40d4-ae51-d0d61e5e2404",
   "metadata": {},
   "source": [
    "You can use start_engine() without knowing how fuel injection or ignition works. That's abstraction."
   ]
  },
  {
   "cell_type": "markdown",
   "id": "88f6d890-9d1c-48a5-b0a9-82813b80d582",
   "metadata": {},
   "source": [
    "2. Encapsulation: \n",
    "    - Definition: Bundles data and methods that operate on that data into a single unit (a class) and restricts direct access to some components.\n",
    "    - Purpose: To protect the internal state of an object and prevent outside interference.\n",
    "    - How: Achieved using access modifiers (e.g., private, protected, public), and by using getters and setters.\n",
    "\n",
    "\n",
    "Example:"
   ]
  },
  {
   "cell_type": "code",
   "execution_count": 2,
   "id": "2e33b366-62cc-47b4-b7bb-c79bb4e99d16",
   "metadata": {},
   "outputs": [],
   "source": [
    "class Car:\n",
    "    def __init__(self):\n",
    "        self.__speed = 0  # private variable\n",
    "\n",
    "    def accelerate(self):\n",
    "        self.__speed += 5\n",
    "\n",
    "    def get_speed(self):\n",
    "        return self.__speed\n"
   ]
  },
  {
   "cell_type": "markdown",
   "id": "e7557376-a1d4-44fb-9e24-52b801b1b39f",
   "metadata": {},
   "source": [
    "You can't directly access __speed from outside the class—this is encapsulation."
   ]
  },
  {
   "cell_type": "markdown",
   "id": "7888cdf2-ffe8-44e0-b4a7-794ae18eb479",
   "metadata": {},
   "source": [
    "> Key Differences:\n",
    "\n",
    "\n",
    "| Feature         | Abstraction                                      | Encapsulation                              |\n",
    "| --------------- | ------------------------------------------------ | ------------------------------------------ |\n",
    "| Focus           | Hiding **implementation details**                | Hiding **data (internal state)**           |\n",
    "| Main Goal       | Simplicity                                       | Protection                                 |\n",
    "| Achieved by     | Abstract classes, interfaces, method definitions | Access modifiers, getters/setters          |\n",
    "| Example Concept | What a car does (drive, brake)                   | How speed is stored and updated internally |\n",
    "\n"
   ]
  },
  {
   "cell_type": "markdown",
   "id": "cc0d27f2-6b5a-464d-9608-d37174381469",
   "metadata": {},
   "source": [
    "**Q5. What are dunder methods in Python?**"
   ]
  },
  {
   "cell_type": "markdown",
   "id": "8e3717dc-43c0-4b57-af00-b67591924b60",
   "metadata": {},
   "source": [
    "**Ans.** Dunder methods in Python (short for \"double underscore\" methods) are special methods with names that start and end with double underscores, like __init__, __str__, __len__, etc. They're also known as magic methods or special methods."
   ]
  },
  {
   "cell_type": "markdown",
   "id": "b779a331-4579-45e4-8791-9c4650437c7d",
   "metadata": {},
   "source": [
    "> Purpose of Dunder Methods"
   ]
  },
  {
   "cell_type": "markdown",
   "id": "d56bbd77-04a3-4692-b359-663e303c6f49",
   "metadata": {},
   "source": [
    "They allow you to:\n",
    "- Define how your objects behave with built-in operations (like printing, adding, comparing, etc.)\n",
    "- Customize object behavior such as creation, string representation, arithmetic, and more."
   ]
  },
  {
   "cell_type": "markdown",
   "id": "f1127341-4e89-42c1-999b-6c4345eec26d",
   "metadata": {},
   "source": [
    "> Common Dunder Methods and What They Do"
   ]
  },
  {
   "cell_type": "markdown",
   "id": "3103ef16-6663-4d7f-9e89-4dc6608c5562",
   "metadata": {},
   "source": [
    "| Dunder Method | Purpose                                    | Example Usage      |\n",
    "| ------------- | ------------------------------------------ | ------------------ |\n",
    "| `__init__`    | Constructor (initializes object)           | `obj = MyClass()`  |\n",
    "| `__str__`     | String representation for `print()`        | `print(obj)`       |\n",
    "| `__repr__`    | Official string representation             | `repr(obj)`        |\n",
    "| `__len__`     | Length of object                           | `len(obj)`         |\n",
    "| `__getitem__` | Access item like in a list/dict            | `obj[key]`         |\n",
    "| `__setitem__` | Set item like in a list/dict               | `obj[key] = value` |\n",
    "| `__add__`     | Addition operator (`+`)                    | `obj1 + obj2`      |\n",
    "| `__eq__`      | Equality comparison (`==`)                 | `obj1 == obj2`     |\n",
    "| `__lt__`      | Less than (`<`)                            | `obj1 < obj2`      |\n",
    "| `__call__`    | Make object callable like a function       | `obj()`            |\n",
    "| `__del__`     | Destructor (called when object is deleted) | `del obj`          |\n"
   ]
  },
  {
   "cell_type": "code",
   "execution_count": 3,
   "id": "ced4caf7-4d52-49ae-ae41-9114359d6b84",
   "metadata": {},
   "outputs": [
    {
     "name": "stdout",
     "output_type": "stream",
     "text": [
      "Book: Python Basics\n",
      "13\n"
     ]
    }
   ],
   "source": [
    "#  Example Usgae\n",
    "\n",
    "class Book:\n",
    "    def __init__(self, title):\n",
    "        self.title = title\n",
    "\n",
    "    def __str__(self):\n",
    "        return f\"Book: {self.title}\"\n",
    "\n",
    "    def __len__(self):\n",
    "        return len(self.title)\n",
    "\n",
    "book = Book(\"Python Basics\")\n",
    "print(book)          # Book: Python Basics (__str__)\n",
    "print(len(book))     # 14 (__len__)\n"
   ]
  },
  {
   "cell_type": "markdown",
   "id": "3a650e84-4216-47cb-b967-42f7455cd368",
   "metadata": {},
   "source": [
    "> Why we Use Them:\n",
    "\n",
    "1. To make your custom classes behave like built-in types.\n",
    "2. For better debugging, readability, and integration with Python features."
   ]
  },
  {
   "cell_type": "markdown",
   "id": "97255fe6-1b15-4b20-a74a-f8ddc5bed1b7",
   "metadata": {},
   "source": [
    "**Q6. Explain the concept of inheritance in OOP?**"
   ]
  },
  {
   "cell_type": "markdown",
   "id": "2089ea6b-48f9-404e-85b5-5dd5a87e0cf3",
   "metadata": {},
   "source": [
    "**Ans.** Inheritance is a core concept in OOP that allows a class (called a child or subclass) to inherit properties and behaviors (attributes and methods) from another class (called a parent or superclass)."
   ]
  },
  {
   "cell_type": "markdown",
   "id": "9bbd6697-ef26-4ed3-a5bb-b297529ec219",
   "metadata": {},
   "source": [
    "> Why Use Inheritance?\n",
    "\n",
    "1. Reusability: You can reuse code from existing classes.\n",
    "2. Extensibility: You can add or override features in the child class.\n",
    "3. Organization: Helps model relationships like “is-a” (e.g., a Dog is a Animal)."
   ]
  },
  {
   "cell_type": "markdown",
   "id": "7bfda425-0752-4c85-a236-e5e6d137e702",
   "metadata": {},
   "source": [
    "Basic Syntax in Python"
   ]
  },
  {
   "cell_type": "code",
   "execution_count": 4,
   "id": "7be29a79-654d-4d07-84bd-0db7a64394fb",
   "metadata": {},
   "outputs": [],
   "source": [
    "class Animal:  # Parent class\n",
    "    def speak(self):\n",
    "        return \"Some sound\"\n",
    "\n",
    "class Dog(Animal):  # Child class\n",
    "    def speak(self):\n",
    "        return \"Bark\"\n"
   ]
  },
  {
   "cell_type": "code",
   "execution_count": 5,
   "id": "c4663eb8-188f-4636-abf5-e5ecf3371a09",
   "metadata": {},
   "outputs": [
    {
     "name": "stdout",
     "output_type": "stream",
     "text": [
      "Bark\n"
     ]
    }
   ],
   "source": [
    "dog = Dog()\n",
    "print(dog.speak())  # Output: Bark\n"
   ]
  },
  {
   "cell_type": "markdown",
   "id": "2a9f1a34-f507-442d-9b6e-d1e0b0bcda14",
   "metadata": {},
   "source": [
    "> Here, Dog inherits the speak method from Animal, but it also overrides it with its own version."
   ]
  },
  {
   "cell_type": "markdown",
   "id": "14bfac15-d9ad-4579-9af1-eff2fec02428",
   "metadata": {},
   "source": [
    "**Types of Inheritance**"
   ]
  },
  {
   "cell_type": "markdown",
   "id": "7b35b3aa-42d2-4ead-ad59-66bed62fd415",
   "metadata": {},
   "source": [
    "| Type             | Description                               | Example                                |\n",
    "| ---------------- | ----------------------------------------- | -------------------------------------- |\n",
    "| **Single**       | One child inherits from one parent        | `class Dog(Animal)`                    |\n",
    "| **Multiple**     | One child inherits from multiple parents  | `class Child(Mother, Father)`          |\n",
    "| **Multilevel**   | Chain of inheritance (A → B → C)          | `class C(B), class B(A)`               |\n",
    "| **Hierarchical** | Multiple children inherit from one parent | `class Dog(Animal), class Cat(Animal)` |\n",
    "| **Hybrid**       | Combination of the above                  | Complex scenarios                      |\n"
   ]
  },
  {
   "cell_type": "markdown",
   "id": "27ee9d4d-58da-47b4-ba66-9e02e70d84f3",
   "metadata": {},
   "source": [
    "> super() Keyword\n",
    "- Used to call methods from the parent class:"
   ]
  },
  {
   "cell_type": "code",
   "execution_count": 6,
   "id": "281e9022-a28f-41bd-9933-734facef98bc",
   "metadata": {},
   "outputs": [],
   "source": [
    "class Animal:\n",
    "    def __init__(self, name):\n",
    "        self.name = name\n",
    "\n",
    "class Dog(Animal):\n",
    "    def __init__(self, name, breed):\n",
    "        super().__init__(name)  # Call parent constructor\n",
    "        self.breed = breed\n"
   ]
  },
  {
   "cell_type": "markdown",
   "id": "5336ef62-7d40-404d-b525-69f22b906969",
   "metadata": {},
   "source": [
    "> Real-World Analogy"
   ]
  },
  {
   "cell_type": "markdown",
   "id": "e011334e-eae0-40d8-b87d-92d0672823a9",
   "metadata": {},
   "source": [
    "**Imagine a Vehicle class:**\n",
    "- All vehicles have wheels and can move.\n",
    "- A Car inherits from Vehicle, but also has additional features like air conditioning.\n",
    "- A Bicycle also inherits from Vehicle, but behaves differently."
   ]
  },
  {
   "cell_type": "markdown",
   "id": "981bfc3b-266d-45e3-9576-8059e4e363b9",
   "metadata": {},
   "source": [
    "**Q7. What is polymorphism in OOP?**"
   ]
  },
  {
   "cell_type": "markdown",
   "id": "f6d96998-c3d0-4bc9-96f7-6f23d2e1b12f",
   "metadata": {},
   "source": [
    "**Ans.** Polymorphism means “many forms”. In Object-Oriented Programming (OOP), it refers to the ability of different classes to respond to the same method call in different ways."
   ]
  },
  {
   "cell_type": "markdown",
   "id": "b37696ed-e5fb-4d04-8088-a9cf26c6c3da",
   "metadata": {},
   "source": [
    "> Key Idea: Polymorphism allows you to write flexible and reusable code by using a common interface for different data types or classes."
   ]
  },
  {
   "cell_type": "markdown",
   "id": "64a3129c-2055-4aed-a1be-457ca150cce5",
   "metadata": {},
   "source": [
    "`Types of Polymorphism in Python` \n",
    "1. Compile-time Polymorphism (not supported directly in Python):\n",
    "   - Achieved in other languages via method overloading (same method name with different parameters).\n",
    "   - Python doesn't support this natively, but you can use default parameters or *args.\n",
    "2. Run-time Polymorphism (common in Python):\n",
    "   - Achieved through method overriding in inheritance."
   ]
  },
  {
   "cell_type": "markdown",
   "id": "ac458134-d99e-4076-8c4b-b2cc03f34b6d",
   "metadata": {},
   "source": [
    "**Example 1: Method Overriding (Run-time Polymorphism)**"
   ]
  },
  {
   "cell_type": "code",
   "execution_count": 7,
   "id": "8c60fd83-8abe-4f4a-b9ed-915621f8243c",
   "metadata": {},
   "outputs": [
    {
     "name": "stdout",
     "output_type": "stream",
     "text": [
      "Bark\n",
      "Meow\n"
     ]
    }
   ],
   "source": [
    "class Animal:\n",
    "    def speak(self):\n",
    "        return \"Some sound\"\n",
    "\n",
    "class Dog(Animal):\n",
    "    def speak(self):\n",
    "        return \"Bark\"\n",
    "\n",
    "class Cat(Animal):\n",
    "    def speak(self):\n",
    "        return \"Meow\"\n",
    "\n",
    "# Polymorphism in action\n",
    "def animal_sound(animal):\n",
    "    print(animal.speak())\n",
    "\n",
    "animal_sound(Dog())   # Bark\n",
    "animal_sound(Cat())   # Meow\n"
   ]
  },
  {
   "cell_type": "markdown",
   "id": "5536bded-e5e9-4b95-9f80-dbca30cfbd44",
   "metadata": {},
   "source": [
    "> Even though animal_sound() takes an Animal, it works with any subclass of Animal, and each subclass responds differently to .speak()."
   ]
  },
  {
   "cell_type": "markdown",
   "id": "616f875a-3de4-4581-b662-d1055a885cd5",
   "metadata": {},
   "source": [
    "**Example 2: Polymorphism with Built-in Functions**"
   ]
  },
  {
   "cell_type": "code",
   "execution_count": 8,
   "id": "dfe805c5-677f-4deb-a5ac-d738771da431",
   "metadata": {},
   "outputs": [
    {
     "name": "stdout",
     "output_type": "stream",
     "text": [
      "5\n",
      "3\n",
      "1\n"
     ]
    }
   ],
   "source": [
    "print(len(\"hello\"))     # 5 (string)\n",
    "print(len([1, 2, 3]))    # 3 (list)\n",
    "print(len({1: 'a'}))     # 1 (dictionary)\n"
   ]
  },
  {
   "cell_type": "markdown",
   "id": "e2d0ee1c-331b-49ae-a277-abb538382a4a",
   "metadata": {},
   "source": [
    "Here, the len() function behaves differently depending on the data type — this is polymorphism."
   ]
  },
  {
   "cell_type": "markdown",
   "id": "113c9dae-3cdf-4a9c-bfa7-949b0b112d69",
   "metadata": {},
   "source": [
    "**Q8. How is encapsulation achieved in Python**"
   ]
  },
  {
   "cell_type": "markdown",
   "id": "23a117b9-13c2-4733-a08e-c145f5e49fa6",
   "metadata": {},
   "source": [
    "**Ans.** Encapsulation in Python is achieved by restricting access to an object’s data and methods to protect the internal state of the object. This is done using:"
   ]
  },
  {
   "cell_type": "markdown",
   "id": "2f620381-9c21-4044-b242-1922026a20ed",
   "metadata": {},
   "source": [
    "1. Access Modifiers: Python uses a naming convention (not strict enforcement) to indicate the access level of attributes and methods:\n",
    "\n",
    "| Modifier      | Syntax   | Access Level                                                     |\n",
    "| ------------- | -------- | ---------------------------------------------------------------- |\n",
    "| **Public**    | `name`   | Accessible from anywhere                                         |\n",
    "| **Protected** | `_name`  | Should be accessed only within class or subclass (by convention) |\n",
    "| **Private**   | `__name` | Name mangled to prevent direct access from outside               |\n"
   ]
  },
  {
   "cell_type": "markdown",
   "id": "727ed0f4-f9dd-45c9-a42a-281f391797ab",
   "metadata": {},
   "source": [
    "Example"
   ]
  },
  {
   "cell_type": "code",
   "execution_count": 9,
   "id": "f3ee45d6-f8c6-4ba8-9f5b-13b8da1e5aef",
   "metadata": {},
   "outputs": [
    {
     "name": "stdout",
     "output_type": "stream",
     "text": [
      "Ali\n",
      "30\n",
      "5000\n"
     ]
    }
   ],
   "source": [
    "class Person:\n",
    "    def __init__(self, name, age):\n",
    "        self.name = name            # public\n",
    "        self._age = age             # protected (by convention)\n",
    "        self.__salary = 5000        # private (name mangling)\n",
    "\n",
    "    def get_salary(self):\n",
    "        return self.__salary        # Access via method (getter)\n",
    "\n",
    "    def set_salary(self, value):\n",
    "        if value > 0:\n",
    "            self.__salary = value   # Setter to control access\n",
    "\n",
    "person = Person(\"Ali\", 30)\n",
    "\n",
    "print(person.name)         # ✅ Public: accessible\n",
    "print(person._age)         # ⚠️ Protected: accessible, but discouraged\n",
    "# print(person.__salary)   # ❌ Error: private attribute\n",
    "print(person.get_salary()) # ✅ Access via method\n"
   ]
  },
  {
   "cell_type": "markdown",
   "id": "25143635-7e2d-4651-ad5b-9b6b194674dd",
   "metadata": {},
   "source": [
    "2. Using Getter and Setter Methods: These control how private/protected data is accessed or modified:"
   ]
  },
  {
   "cell_type": "code",
   "execution_count": 10,
   "id": "a9ca79a5-1e32-4be9-8e67-b6ed8934fc48",
   "metadata": {},
   "outputs": [],
   "source": [
    "class BankAccount:\n",
    "    def __init__(self, balance):\n",
    "        self.__balance = balance\n",
    "\n",
    "    def get_balance(self):\n",
    "        return self.__balance\n",
    "\n",
    "    def deposit(self, amount):\n",
    "        if amount > 0:\n",
    "            self.__balance += amount\n"
   ]
  },
  {
   "cell_type": "markdown",
   "id": "e524de10-6a99-40a7-bbe3-f9d0e2da10ca",
   "metadata": {},
   "source": [
    "Summary:\n",
    "\n",
    "| Feature       | Python Syntax       | Purpose                        |\n",
    "| ------------- | ------------------- | ------------------------------ |\n",
    "| Public        | `self.name`         | Freely accessible              |\n",
    "| Protected     | `self._name`        | Internal use (by convention)   |\n",
    "| Private       | `self.__name`       | Hidden via name mangling       |\n",
    "| Getter/Setter | `get_x() / set_x()` | Controlled access/modification |\n"
   ]
  },
  {
   "cell_type": "markdown",
   "id": "f6568f3b-1dbb-4ef8-a9e9-42f1c2ee4eac",
   "metadata": {},
   "source": [
    "**Q9.  What is a constructor in Python?**"
   ]
  },
  {
   "cell_type": "markdown",
   "id": "2be73cc2-f720-4c87-8a66-68c054acaa23",
   "metadata": {},
   "source": [
    "**Ans.** A constructor in Python is a special method used to initialize a newly created object. It is automatically called when an object of a class is created."
   ]
  },
  {
   "cell_type": "markdown",
   "id": "21c59cce-be09-4bae-9e4a-93ce6b2e8a40",
   "metadata": {},
   "source": [
    "> Constructor Name in Python: __init__() :\n",
    "\n",
    "1. Defined using the def __init__(self, ...) method.\n",
    "2. The self parameter refers to the current instance of the class.\n",
    "3. You can pass additional parameters to initialize object attributes."
   ]
  },
  {
   "cell_type": "code",
   "execution_count": 12,
   "id": "443d2211-a9f6-49b4-9ca8-5712763ffe73",
   "metadata": {},
   "outputs": [
    {
     "name": "stdout",
     "output_type": "stream",
     "text": [
      "Ali\n",
      "30\n"
     ]
    }
   ],
   "source": [
    "class Person:\n",
    "    def __init__(self, name, age):\n",
    "        self.name = name  # Instance variable\n",
    "        self.age = age\n",
    "\n",
    "# Creating an object automatically calls the constructor\n",
    "p1 = Person(\"Ali\", 30)\n",
    "\n",
    "print(p1.name)  # Ali\n",
    "print(p1.age)   # 30\n"
   ]
  },
  {
   "cell_type": "markdown",
   "id": "12cfc82d-7907-457b-bc8e-1cafc55bd7e7",
   "metadata": {},
   "source": [
    "**Key insights:** \n",
    "\n",
    "\n",
    "| Feature              | Description                          |\n",
    "| -------------------- | ------------------------------------ |\n",
    "| Method name          | `__init__`                           |\n",
    "| Called automatically | Yes, when an object is created       |\n",
    "| Purpose              | Set initial state of the object      |\n",
    "| Arguments            | Can take any number (besides `self`) |\n"
   ]
  },
  {
   "cell_type": "markdown",
   "id": "b346b8b7-1f60-451b-85c2-8ff67270d506",
   "metadata": {},
   "source": [
    "> Default Constructor (No Parameters)"
   ]
  },
  {
   "cell_type": "code",
   "execution_count": 11,
   "id": "dc5cb878-a0c8-40fc-8856-3251ab277181",
   "metadata": {},
   "outputs": [
    {
     "name": "stdout",
     "output_type": "stream",
     "text": [
      "Object created\n"
     ]
    }
   ],
   "source": [
    "class MyClass:\n",
    "    def __init__(self):\n",
    "        print(\"Object created\")\n",
    "\n",
    "obj = MyClass()  # Output: Object created\n"
   ]
  },
  {
   "cell_type": "markdown",
   "id": "e0723a92-b5dc-4c19-9884-75f73e580da4",
   "metadata": {},
   "source": [
    "> Parameterized Constructor"
   ]
  },
  {
   "cell_type": "code",
   "execution_count": 15,
   "id": "078f137d-f889-42b7-81d8-eae8921aec1b",
   "metadata": {},
   "outputs": [],
   "source": [
    "class Car:\n",
    "    def __init__(self, brand, year):\n",
    "        self.brand = brand\n",
    "        self.year = year\n",
    "\n",
    "c = Car(\"Toyota\", 2021)\n"
   ]
  },
  {
   "cell_type": "markdown",
   "id": "4bd59070-02f7-4b08-b472-81899909e5b6",
   "metadata": {},
   "source": [
    "**Q10. What are class and static methods in Python?**"
   ]
  },
  {
   "cell_type": "markdown",
   "id": "d281837b-eb6a-4c7f-9f63-3c1190a4cb31",
   "metadata": {},
   "source": [
    "**Ans.** In Python, both class methods and static methods are used to define behaviors that are not tied to an individual object (instance), but they differ in how they interact with the class."
   ]
  },
  {
   "cell_type": "markdown",
   "id": "c7dc27b0-d28a-4a62-a863-6ba9b2b164fa",
   "metadata": {},
   "source": [
    "1. **Class Method:**\n",
    "    - Declared with @classmethod decorator.\n",
    "    - Takes cls as the first parameter, referring to the class itself.\n",
    "    - Can access and modify class-level attributes.\n",
    "    - Often used for factory methods (alternative constructors)."
   ]
  },
  {
   "cell_type": "code",
   "execution_count": 16,
   "id": "3687b4c3-74d8-41ac-9453-ca4f4f07f17a",
   "metadata": {},
   "outputs": [
    {
     "name": "stdout",
     "output_type": "stream",
     "text": [
      "Blue High\n"
     ]
    }
   ],
   "source": [
    "# Example case: \n",
    "\n",
    "class Student:\n",
    "    school = \"Green High\"  # class variable\n",
    "\n",
    "    def __init__(self, name):\n",
    "        self.name = name\n",
    "\n",
    "    @classmethod\n",
    "    def change_school(cls, new_name):\n",
    "        cls.school = new_name\n",
    "\n",
    "Student.change_school(\"Blue High\")\n",
    "print(Student.school)  # Output: Blue High\n"
   ]
  },
  {
   "cell_type": "markdown",
   "id": "8583cc12-134e-40f6-a8af-89e3bab68818",
   "metadata": {},
   "source": [
    "2. **Static Method:** \n",
    "    - Declared with @staticmethod decorator.\n",
    "    - Does not take self or cls as the first argument.\n",
    "    - Cannot access or modify class or instance data.\n",
    "    - Used for utility/helper functions related to the class."
   ]
  },
  {
   "cell_type": "code",
   "execution_count": 17,
   "id": "56efd996-05f3-4cc8-b777-5711b228cb15",
   "metadata": {},
   "outputs": [
    {
     "name": "stdout",
     "output_type": "stream",
     "text": [
      "8\n"
     ]
    }
   ],
   "source": [
    "# Example Csse: \n",
    "\n",
    "class Math:\n",
    "    @staticmethod\n",
    "    def add(a, b):\n",
    "        return a + b\n",
    "\n",
    "print(Math.add(3, 5))  # Output: 8\n"
   ]
  },
  {
   "cell_type": "markdown",
   "id": "aaeaa257-f0d7-44a9-b25d-bf44e34c9963",
   "metadata": {},
   "source": [
    "Summary Table:\n",
    "\n",
    "\n",
    "| Feature         | Instance Method  | Class Method              | Static Method            |\n",
    "| --------------- | ---------------- | ------------------------- | ------------------------ |\n",
    "| First parameter | `self`           | `cls`                     | No required first param  |\n",
    "| Access to       | Instance & class | Class only                | Neither                  |\n",
    "| Decorator       | None             | `@classmethod`            | `@staticmethod`          |\n",
    "| Common use      | Object behavior  | Factory methods, settings | Utility/helper functions |\n"
   ]
  },
  {
   "cell_type": "markdown",
   "id": "29eda72f-fd06-47b5-82f9-acded11cc21c",
   "metadata": {},
   "source": [
    "**Q11. What is method overloading in Python?**"
   ]
  },
  {
   "cell_type": "markdown",
   "id": "832554ce-2268-460f-9c26-253a0e4a3a36",
   "metadata": {},
   "source": [
    "**Ans.** Method overloading means having multiple methods with the same name but different parameters (number or type). It allows a class to respond differently based on how a method is called."
   ]
  },
  {
   "cell_type": "markdown",
   "id": "667fdfec-6522-47c8-afab-c0826e2c63b3",
   "metadata": {},
   "source": [
    "> Python Does Not Support Traditional Method Overloading: \n",
    "- Unlike languages like Java or C++, Python doesn't support method overloading directly. If you define a method multiple times with the same name, only the last definition is used."
   ]
  },
  {
   "cell_type": "code",
   "execution_count": 19,
   "id": "e1bc3bd0-3bf4-4672-84c4-04a3af3c8ad5",
   "metadata": {},
   "outputs": [
    {
     "ename": "TypeError",
     "evalue": "Demo.show() missing 1 required positional argument: 'y'",
     "output_type": "error",
     "traceback": [
      "\u001b[1;31m---------------------------------------------------------------------------\u001b[0m",
      "\u001b[1;31mTypeError\u001b[0m                                 Traceback (most recent call last)",
      "Cell \u001b[1;32mIn[19], line 11\u001b[0m\n\u001b[0;32m      8\u001b[0m         \u001b[38;5;28mprint\u001b[39m(\u001b[38;5;124m\"\u001b[39m\u001b[38;5;124mTwo arguments:\u001b[39m\u001b[38;5;124m\"\u001b[39m, x, y)\n\u001b[0;32m     10\u001b[0m d \u001b[38;5;241m=\u001b[39m Demo()\n\u001b[1;32m---> 11\u001b[0m \u001b[43md\u001b[49m\u001b[38;5;241;43m.\u001b[39;49m\u001b[43mshow\u001b[49m\u001b[43m(\u001b[49m\u001b[38;5;241;43m5\u001b[39;49m\u001b[43m)\u001b[49m      \u001b[38;5;66;03m# ❌ Error: missing 1 required argument\u001b[39;00m\n\u001b[0;32m     14\u001b[0m \u001b[38;5;66;03m# Only the second show() method survives — the first one is overwritten.\u001b[39;00m\n",
      "\u001b[1;31mTypeError\u001b[0m: Demo.show() missing 1 required positional argument: 'y'"
     ]
    }
   ],
   "source": [
    "#  Example (won't work as expected):\n",
    "\n",
    "class Demo:\n",
    "    def show(self, x):\n",
    "        print(\"One argument:\", x)\n",
    "\n",
    "    def show(self, x, y):\n",
    "        print(\"Two arguments:\", x, y)\n",
    "\n",
    "d = Demo()\n",
    "d.show(5)      # ❌ Error: missing 1 required argument\n",
    "\n",
    "\n",
    "# Only the second show() method survives — the first one is overwritten.\n",
    "\n"
   ]
  },
  {
   "cell_type": "markdown",
   "id": "7399c57b-5ef3-4237-86e5-aba6d590be60",
   "metadata": {},
   "source": [
    "> How to Simulate Method Overloading in Python"
   ]
  },
  {
   "cell_type": "markdown",
   "id": "3dd46f47-8c04-41aa-a48d-49ddca3379f9",
   "metadata": {},
   "source": [
    "1. Using Default Arguments"
   ]
  },
  {
   "cell_type": "code",
   "execution_count": 20,
   "id": "e2105094-0d50-4bda-8771-0fe40bc1412a",
   "metadata": {},
   "outputs": [
    {
     "name": "stdout",
     "output_type": "stream",
     "text": [
      "No arguments\n",
      "One argument: 10\n",
      "Two arguments: 10 20\n"
     ]
    }
   ],
   "source": [
    "class Demo:\n",
    "    def show(self, x=None, y=None):\n",
    "        if x is not None and y is not None:\n",
    "            print(\"Two arguments:\", x, y)\n",
    "        elif x is not None:\n",
    "            print(\"One argument:\", x)\n",
    "        else:\n",
    "            print(\"No arguments\")\n",
    "\n",
    "d = Demo()\n",
    "d.show()         # No arguments\n",
    "d.show(10)       # One argument: 10\n",
    "d.show(10, 20)   # Two arguments: 10 20\n"
   ]
  },
  {
   "cell_type": "markdown",
   "id": "13ec2d01-aae5-401b-8f83-1d7f5b829e11",
   "metadata": {},
   "source": [
    "2. Using Variable-Length Arguments (*args)"
   ]
  },
  {
   "cell_type": "code",
   "execution_count": 21,
   "id": "ef3b12b2-6d7f-43a7-8a73-699b2633da88",
   "metadata": {},
   "outputs": [
    {
     "name": "stdout",
     "output_type": "stream",
     "text": [
      "1\n",
      "1\n",
      "2\n",
      "3\n"
     ]
    }
   ],
   "source": [
    "class Demo:\n",
    "    def show(self, *args):\n",
    "        for arg in args:\n",
    "            print(arg)\n",
    "\n",
    "d = Demo()\n",
    "d.show(1)\n",
    "d.show(1, 2, 3)\n"
   ]
  },
  {
   "cell_type": "markdown",
   "id": "636e86a1-4686-40fc-a016-e270bb085966",
   "metadata": {},
   "source": [
    "**Q12. What is method overriding in OOP?**"
   ]
  },
  {
   "cell_type": "markdown",
   "id": "4c33d17b-facf-49c9-a7c0-d0b1489b1fb7",
   "metadata": {},
   "source": [
    "**Ans.** Method overriding is an OOP concept where a subclass provides a specific implementation of a method that is already defined in its parent class."
   ]
  },
  {
   "cell_type": "markdown",
   "id": "daf43448-6061-48b3-8e11-6952c6ea9543",
   "metadata": {},
   "source": [
    "Key Points: \n",
    "\n",
    "\n",
    "| Feature    | Description                                        |\n",
    "| ---------- | -------------------------------------------------- |\n",
    "| Purpose    | To change or extend behavior from the parent class |\n",
    "| Signature  | Method name and parameters must be the same        |\n",
    "| Applies to | Inheritance (subclass ↔ parent class)              |\n",
    "| Overrides  | The parent’s version of the method                 |\n"
   ]
  },
  {
   "cell_type": "code",
   "execution_count": 23,
   "id": "8f4735e8-ac77-4ada-902f-7e1fe7a575ce",
   "metadata": {},
   "outputs": [
    {
     "name": "stdout",
     "output_type": "stream",
     "text": [
      "Animal speaks\n",
      "Dog barks\n"
     ]
    }
   ],
   "source": [
    "# Example Case\n",
    "\n",
    "class Animal:\n",
    "    def speak(self):\n",
    "        return \"Animal speaks\"\n",
    "\n",
    "class Dog(Animal):\n",
    "    def speak(self):\n",
    "        return \"Dog barks\"\n",
    "\n",
    "a = Animal()\n",
    "d = Dog()\n",
    "\n",
    "print(a.speak())  # Animal speaks\n",
    "print(d.speak())  # Dog barks (method is overridden)\n"
   ]
  },
  {
   "cell_type": "markdown",
   "id": "ded804b5-6f17-4180-b118-1cf6bca8b090",
   "metadata": {},
   "source": [
    "> The Dog class overrides the speak() method of Animal."
   ]
  },
  {
   "cell_type": "markdown",
   "id": "c0987cfc-65a4-460b-aae2-81401d346bcc",
   "metadata": {},
   "source": [
    "Using super() to Call Parent Method: You can also call the parent class's version of the method using super():"
   ]
  },
  {
   "cell_type": "code",
   "execution_count": 22,
   "id": "9fa2e5ae-c000-4ec9-9c74-82366c947a6e",
   "metadata": {},
   "outputs": [
    {
     "name": "stdout",
     "output_type": "stream",
     "text": [
      "Some sound but Dog barks too\n"
     ]
    }
   ],
   "source": [
    "class Dog(Animal):\n",
    "    def speak(self):\n",
    "        return super().speak() + \" but Dog barks too\"\n",
    "\n",
    "d = Dog()\n",
    "print(d.speak())  # Animal speaks but Dog barks too\n"
   ]
  },
  {
   "cell_type": "markdown",
   "id": "58a575a4-9a66-487b-8e8b-d822bf66cb61",
   "metadata": {},
   "source": [
    "> Method Overriding vs Method Overloading"
   ]
  },
  {
   "cell_type": "markdown",
   "id": "b6b24ab6-3536-4c1d-9442-d9ec28cb37e7",
   "metadata": {},
   "source": [
    "| Feature             | Overriding             | Overloading (Not native in Python) |\n",
    "| ------------------- | ---------------------- | ---------------------------------- |\n",
    "| Involves            | Parent ↔ Child classes | Same class                         |\n",
    "| Parameters          | Must match             | Can differ (number/type)           |\n",
    "| Supported in Python | ✅ Yes                | ❌ Not directly                    |\n"
   ]
  },
  {
   "cell_type": "markdown",
   "id": "24994f1a-ddeb-48d0-97cf-62e7df9f3666",
   "metadata": {},
   "source": [
    "**Q13. What is a property decorator in Python?**"
   ]
  },
  {
   "cell_type": "markdown",
   "id": "5e2e19cd-9685-4bbd-b297-6f0705c9950c",
   "metadata": {},
   "source": [
    "**Ans.** The @property decorator in Python is used to turn a method into a \"getter\" for a read-only attribute. It allows you to access a method like an attribute, which makes the code cleaner and more Pythonic."
   ]
  },
  {
   "cell_type": "markdown",
   "id": "0e09329f-9b8c-4ab8-a0f5-6961b1e246b5",
   "metadata": {},
   "source": [
    "> Why we Use @property?\n",
    "- To control access to private attributes.\n",
    "- To add logic when getting (or setting) a value.\n",
    "- To maintain backward compatibility with attribute-style access."
   ]
  },
  {
   "cell_type": "markdown",
   "id": "8f078f0a-9e99-48c7-a6dc-c03d0b120c05",
   "metadata": {},
   "source": [
    "> Basic Example: Using @property"
   ]
  },
  {
   "cell_type": "code",
   "execution_count": 24,
   "id": "797478f9-e103-48a5-b5d2-6f9760800b70",
   "metadata": {},
   "outputs": [
    {
     "name": "stdout",
     "output_type": "stream",
     "text": [
      "Ali\n"
     ]
    }
   ],
   "source": [
    "class Person:\n",
    "    def __init__(self, name):\n",
    "        self._name = name  # \"Private\" variable (by convention)\n",
    "\n",
    "    @property\n",
    "    def name(self):\n",
    "        return self._name\n",
    "\n",
    "p = Person(\"Ali\")\n",
    "print(p.name)  # ✅ Looks like an attribute, but calls the method\n"
   ]
  },
  {
   "cell_type": "markdown",
   "id": "6679f467-bd4c-4e34-821d-dd2868176e3e",
   "metadata": {},
   "source": [
    "> This allows p.name to behave like an attribute, but behind the scenes, it calls the name() method.This allows p.name to behave like an attribute, but behind the scenes, it calls the name() method."
   ]
  },
  {
   "cell_type": "markdown",
   "id": "83536445-cb82-47f0-8255-edb3711f0ecd",
   "metadata": {},
   "source": [
    "**Add a Setter with @name.setter**"
   ]
  },
  {
   "cell_type": "code",
   "execution_count": 25,
   "id": "e366e099-608b-4cc3-88a5-20a22bf1145c",
   "metadata": {},
   "outputs": [
    {
     "name": "stdout",
     "output_type": "stream",
     "text": [
      "Sara\n"
     ]
    }
   ],
   "source": [
    "class Person:\n",
    "    def __init__(self, name):\n",
    "        self._name = name\n",
    "\n",
    "    @property\n",
    "    def name(self):\n",
    "        return self._name\n",
    "\n",
    "    @name.setter\n",
    "    def name(self, value):\n",
    "        if len(value) > 0:\n",
    "            self._name = value\n",
    "        else:\n",
    "            raise ValueError(\"Name can't be empty\")\n",
    "\n",
    "p = Person(\"Ali\")\n",
    "p.name = \"Sara\"     # ✅ Calls setter\n",
    "print(p.name)       # Sara\n"
   ]
  },
  {
   "cell_type": "markdown",
   "id": "320c22f5-4bbe-4603-81ba-702921ce815f",
   "metadata": {},
   "source": [
    "**Add a Deleter with @name.deleter**"
   ]
  },
  {
   "cell_type": "code",
   "execution_count": 26,
   "id": "9cb6231d-6ff8-4778-bfdf-53a10112eb03",
   "metadata": {},
   "outputs": [
    {
     "ename": "NameError",
     "evalue": "name 'name' is not defined",
     "output_type": "error",
     "traceback": [
      "\u001b[1;31m---------------------------------------------------------------------------\u001b[0m",
      "\u001b[1;31mNameError\u001b[0m                                 Traceback (most recent call last)",
      "Cell \u001b[1;32mIn[26], line 1\u001b[0m\n\u001b[1;32m----> 1\u001b[0m \u001b[38;5;129m@name\u001b[39m\u001b[38;5;241m.\u001b[39mdeleter\n\u001b[0;32m      2\u001b[0m \u001b[38;5;28;01mdef\u001b[39;00m \u001b[38;5;21mname\u001b[39m(\u001b[38;5;28mself\u001b[39m):\n\u001b[0;32m      3\u001b[0m     \u001b[38;5;28mprint\u001b[39m(\u001b[38;5;124m\"\u001b[39m\u001b[38;5;124mDeleting name...\u001b[39m\u001b[38;5;124m\"\u001b[39m)\n\u001b[0;32m      4\u001b[0m     \u001b[38;5;28;01mdel\u001b[39;00m \u001b[38;5;28mself\u001b[39m\u001b[38;5;241m.\u001b[39m_name\n",
      "\u001b[1;31mNameError\u001b[0m: name 'name' is not defined"
     ]
    }
   ],
   "source": [
    "    @name.deleter\n",
    "    def name(self):\n",
    "        print(\"Deleting name...\")\n",
    "        del self._name\n"
   ]
  },
  {
   "cell_type": "markdown",
   "id": "e261f0fd-95ab-4579-b779-f9d38dac73f5",
   "metadata": {},
   "source": [
    "**Q14. Why is polymorphism important in OOP?**"
   ]
  },
  {
   "cell_type": "markdown",
   "id": "33bd1f15-e898-45cd-a022-7ae9685e4aab",
   "metadata": {},
   "source": [
    "**Ans.** Polymorphism is crucial in Object-Oriented Programming because it promotes flexibility, reusability, and scalability in your code. It allows different classes to be treated as if they share the same interface, even though their implementations may differ."
   ]
  },
  {
   "cell_type": "markdown",
   "id": "bf8683ca-e246-4f28-959b-a2cccf69a3c8",
   "metadata": {},
   "source": [
    "> **Key Benefits of Polymorphism**"
   ]
  },
  {
   "cell_type": "markdown",
   "id": "1a7ce979-939f-4117-942b-b0d6a75d564b",
   "metadata": {},
   "source": [
    "| Benefit              | Description                                                                     |\n",
    "| -------------------- | ------------------------------------------------------------------------------- |\n",
    "| **Code Reusability** | Write general-purpose code that works with different types or classes.          |\n",
    "| **Flexibility**      | You can use different objects interchangeably if they share a common interface. |\n",
    "| **Maintainability**  | Easier to update or extend functionality without breaking existing code.        |\n",
    "| **Scalability**      | Supports adding new classes without modifying existing code.                    |"
   ]
  },
  {
   "cell_type": "markdown",
   "id": "1bd8ab61-9a77-4a60-a037-9a80fa5f0499",
   "metadata": {},
   "source": [
    "> Example: Polymorphism in Action: "
   ]
  },
  {
   "cell_type": "code",
   "execution_count": 27,
   "id": "22d3489e-bc37-4e6f-aed8-a320fd2f530c",
   "metadata": {},
   "outputs": [
    {
     "name": "stdout",
     "output_type": "stream",
     "text": [
      "Bark\n",
      "Meow\n"
     ]
    }
   ],
   "source": [
    "class Animal:\n",
    "    def speak(self):\n",
    "        return \"Some sound\"\n",
    "\n",
    "class Dog(Animal):\n",
    "    def speak(self):\n",
    "        return \"Bark\"\n",
    "\n",
    "class Cat(Animal):\n",
    "    def speak(self):\n",
    "        return \"Meow\"\n",
    "\n",
    "# Function that works with any Animal\n",
    "def make_sound(animal):\n",
    "    print(animal.speak())\n",
    "\n",
    "make_sound(Dog())  # Bark\n",
    "make_sound(Cat())  # Meow\n"
   ]
  },
  {
   "cell_type": "markdown",
   "id": "27896e27-9a86-45fc-919a-8d446ebb1bfa",
   "metadata": {},
   "source": [
    "> make_sound() doesn't care whether it's a Dog or Cat. It just calls .speak() — that's polymorphism."
   ]
  },
  {
   "cell_type": "markdown",
   "id": "f2a4c866-021d-4898-bdb6-d50c8c7e1480",
   "metadata": {},
   "source": [
    "**Real-World Analogy**"
   ]
  },
  {
   "cell_type": "markdown",
   "id": "702cf4b3-0782-4630-a2a5-a2fc181cd5d7",
   "metadata": {},
   "source": [
    "**Think of a universal remote:**\n",
    "- You press \"Play\", and it works whether you're using a TV, DVD player, or projector.\n",
    "- Same action (Play), different behavior depending on the device — that’s polymorphism."
   ]
  },
  {
   "cell_type": "markdown",
   "id": "2b5fbef4-0e2e-4789-9a50-01d932703cb0",
   "metadata": {},
   "source": [
    "**Without Polymorphism:**"
   ]
  },
  {
   "cell_type": "markdown",
   "id": "3452f4cc-da75-4dda-8f6e-cbe956ecc76d",
   "metadata": {},
   "source": [
    "You’d need multiple if-else or switch statements to check types — this is inefficient, harder to read, and not scalable."
   ]
  },
  {
   "cell_type": "markdown",
   "id": "06717501-d4a6-4af0-b12e-f43b398e8e64",
   "metadata": {},
   "source": [
    "> Polymorphism is important in OOP because it:\n",
    "- Makes code simpler and cleaner\n",
    "- Encourages interface-based programming\n",
    "- Supports the Open/Closed Principle: open to extension, closed to modification"
   ]
  },
  {
   "cell_type": "markdown",
   "id": "dfc5073a-97b6-44f7-a08a-19b028fe7bfb",
   "metadata": {},
   "source": [
    "**Q15. What is an abstract class in Python**"
   ]
  },
  {
   "cell_type": "markdown",
   "id": "846dcc2e-a49e-4bca-aac7-24a328caa57c",
   "metadata": {},
   "source": [
    "**Ans.** An abstract class is a class that cannot be instantiated directly and is designed to be a blueprint for other classes. It may contain one or more abstract methods—methods that have no implementation in the base class and must be implemented by any subclass."
   ]
  },
  {
   "cell_type": "markdown",
   "id": "e919642f-1b27-4ef3-825f-71d28c8cf859",
   "metadata": {},
   "source": [
    "\n",
    "| Feature              | Description                                          |\n",
    "| -------------------- | ---------------------------------------------------- |\n",
    "| Cannot instantiate   | You **can't create an object** of an abstract class. |\n",
    "| Has abstract methods | Methods defined but not implemented (`pass`).        |\n",
    "| Enforces structure   | Subclasses **must** implement abstract methods.      |"
   ]
  },
  {
   "cell_type": "markdown",
   "id": "8a890803-ee69-4471-8798-59964a1d0e5a",
   "metadata": {},
   "source": [
    "> Python provides the abc module (Abstract Base Class) for this purpose."
   ]
  },
  {
   "cell_type": "code",
   "execution_count": 28,
   "id": "67ae7dd3-b394-4006-8336-a32e46c1557d",
   "metadata": {},
   "outputs": [],
   "source": [
    "from abc import ABC, abstractmethod\n",
    "\n",
    "class Animal(ABC):                     # Inherits from ABC\n",
    "    @abstractmethod\n",
    "    def speak(self):\n",
    "        pass\n"
   ]
  },
  {
   "cell_type": "markdown",
   "id": "0293f128-50a1-441d-9dbd-c44998f8018e",
   "metadata": {},
   "source": [
    "> Subclass Must Implement Abstract Methods"
   ]
  },
  {
   "cell_type": "code",
   "execution_count": 29,
   "id": "94bfd58e-0315-47e6-b73b-00eae06b905c",
   "metadata": {},
   "outputs": [
    {
     "name": "stdout",
     "output_type": "stream",
     "text": [
      "Bark\n"
     ]
    }
   ],
   "source": [
    "class Dog(Animal):\n",
    "    def speak(self):\n",
    "        return \"Bark\"\n",
    "\n",
    "# d = Animal()   # ❌ Error: Can't instantiate abstract class\n",
    "d = Dog()\n",
    "print(d.speak())  # ✅ Bark\n"
   ]
  },
  {
   "cell_type": "markdown",
   "id": "1e346172-e347-48e5-a240-8c76955aaabe",
   "metadata": {},
   "source": [
    "If Dog did not implement speak(), Python would raise an error."
   ]
  },
  {
   "cell_type": "markdown",
   "id": "0c0d04a6-e25d-429c-9737-ecb1fcbb0102",
   "metadata": {},
   "source": [
    "Why Use Abstract Classes?"
   ]
  },
  {
   "cell_type": "markdown",
   "id": "2447f252-ab86-410e-8be3-9e2ee820af5b",
   "metadata": {},
   "source": [
    "| Reason                    | Explanation                                      |\n",
    "| ------------------------- | ------------------------------------------------ |\n",
    "| Define a common interface | Ensure subclasses follow a specific structure.   |\n",
    "| Enforce implementation    | Prevent incomplete class definitions.            |\n",
    "| Promote code consistency  | Helpful in large codebases with many developers. |\n"
   ]
  },
  {
   "cell_type": "markdown",
   "id": "8f974431-67d0-44ed-805b-8689ee35efb1",
   "metadata": {},
   "source": [
    "Example: Abstract Class for Payment Systems"
   ]
  },
  {
   "cell_type": "code",
   "execution_count": 30,
   "id": "ef89fc7e-082f-4943-aaf9-5c2400deb96c",
   "metadata": {},
   "outputs": [
    {
     "name": "stdout",
     "output_type": "stream",
     "text": [
      "Paid 100 using credit card.\n"
     ]
    }
   ],
   "source": [
    "from abc import ABC, abstractmethod\n",
    "\n",
    "class Payment(ABC):\n",
    "    @abstractmethod\n",
    "    def pay(self, amount):\n",
    "        pass\n",
    "\n",
    "class CreditCard(Payment):\n",
    "    def pay(self, amount):\n",
    "        print(f\"Paid {amount} using credit card.\")\n",
    "\n",
    "class PayPal(Payment):\n",
    "    def pay(self, amount):\n",
    "        print(f\"Paid {amount} using PayPal.\")\n",
    "\n",
    "# p = Payment()         # ❌ Can't instantiate\n",
    "p1 = CreditCard()\n",
    "p1.pay(100)             # ✅ Paid 100 using credit card.\n"
   ]
  },
  {
   "cell_type": "markdown",
   "id": "371afac1-5014-4777-bff0-49903b445b46",
   "metadata": {},
   "source": [
    "**Q16.  What are the advantages of OOP?**"
   ]
  },
  {
   "cell_type": "markdown",
   "id": "2e2d22cf-a3ca-4d19-8496-eef78a7d59c1",
   "metadata": {},
   "source": [
    "**Ans.** Object-Oriented Programming (OOP) is a programming paradigm based on the concept of “objects”, which contain data (attributes) and behavior (methods). It offers many advantages for building large, maintainable, and reusable software systems."
   ]
  },
  {
   "cell_type": "markdown",
   "id": "40d2db2b-be0d-4b6f-9c4c-e6d960647aa6",
   "metadata": {},
   "source": [
    "1. Modularity:\n",
    "    - Code is organized into classes and objects.\n",
    "    - Makes complex programs easier to manage and understand. "
   ]
  },
  {
   "cell_type": "markdown",
   "id": "dd931e75-19b7-47fe-b850-59168c41f5ea",
   "metadata": {},
   "source": [
    "2. Reusability:\n",
    "    - Through inheritance, you can reuse code from existing classes.\n",
    "    - Avoids duplication, reduces development time."
   ]
  },
  {
   "cell_type": "code",
   "execution_count": 31,
   "id": "a91df1cc-4644-4df7-aef4-464f5ceaa56b",
   "metadata": {},
   "outputs": [],
   "source": [
    "class Animal:\n",
    "    def speak(self):\n",
    "        print(\"Animal speaks\")\n",
    "\n",
    "class Dog(Animal):\n",
    "    pass  # Inherits speak() automatically\n"
   ]
  },
  {
   "cell_type": "markdown",
   "id": "7764930e-9dfb-4f44-a261-db7cd26cf450",
   "metadata": {},
   "source": [
    "3. Encapsulation:\n",
    "    - Keeps data safe from outside interference by bundling it with methods.\n",
    "    - You can hide internal details and expose only what’s needed via public methods."
   ]
  },
  {
   "cell_type": "code",
   "execution_count": 32,
   "id": "0bba7344-d7b1-4562-83fe-fba3bb4ab899",
   "metadata": {},
   "outputs": [],
   "source": [
    "class Person:\n",
    "    def __init__(self):\n",
    "        self.__age = 0  # private variable\n"
   ]
  },
  {
   "cell_type": "markdown",
   "id": "f02b0ff3-7650-413d-b372-9dffb13ac4f4",
   "metadata": {},
   "source": [
    "4. Polymorphism:\n",
    "    - Same interface, different behaviors.\n",
    "    - Lets you write generic, flexible code that works with many types of objects."
   ]
  },
  {
   "cell_type": "code",
   "execution_count": 33,
   "id": "ffc9dbfd-ec50-4b49-af9f-72d07cefe928",
   "metadata": {},
   "outputs": [],
   "source": [
    "def make_sound(animal):\n",
    "    print(animal.speak())\n"
   ]
  },
  {
   "cell_type": "markdown",
   "id": "4f2fa23f-eeab-4709-a591-5ba0568b1166",
   "metadata": {},
   "source": [
    "5. Inheritance: \n",
    "    - Enables a new class to inherit attributes and methods from an existing class.\n",
    "    - Supports hierarchical classification (e.g., Animal → Dog → Labrador)."
   ]
  },
  {
   "cell_type": "markdown",
   "id": "4e67b8fd-43b8-4d69-a88d-421c32cb915e",
   "metadata": {},
   "source": [
    "6. Easier Troubleshooting & Maintenance: \n",
    "    - Because code is modular, you can find and fix bugs more easily.\n",
    "    - Updates or changes in one part are less likely to break others."
   ]
  },
  {
   "cell_type": "markdown",
   "id": "c1eac0d0-1968-4f08-882c-d2b6f44867bb",
   "metadata": {},
   "source": [
    "7. Scalability:\n",
    "    - OOP systems are easier to extend and scale as projects grow."
   ]
  },
  {
   "cell_type": "markdown",
   "id": "f8d1b88f-4e1a-4b5c-8284-bad463912aeb",
   "metadata": {},
   "source": [
    "8. Real-World Modeling:\n",
    "    - Classes model real-world entities (e.g., Car, BankAccount), making design more intuitive."
   ]
  },
  {
   "cell_type": "markdown",
   "id": "5fbb2f94-7902-4033-90e7-62bb62db2993",
   "metadata": {},
   "source": [
    "**Q17.  What is the difference between a class variable and an instance variable?**"
   ]
  },
  {
   "cell_type": "markdown",
   "id": "56fd22e2-f616-417b-8743-3b40f4769c56",
   "metadata": {},
   "source": [
    "**Anbs.** In Python, class variables and instance variables are both used to store data in a class, but they behave differently in terms of scope and sharing."
   ]
  },
  {
   "cell_type": "markdown",
   "id": "04051f11-656e-470a-97f9-3e28f9b779df",
   "metadata": {},
   "source": [
    "1. Instance Variable\n",
    "    - Defined inside the constructor (__init__) using self.\n",
    "    - Unique to each object (instance).\n",
    "    - Used to store object-specific data."
   ]
  },
  {
   "cell_type": "code",
   "execution_count": 34,
   "id": "9c3cbe3b-2cd4-4f15-bdce-c8fe378d28fb",
   "metadata": {},
   "outputs": [
    {
     "name": "stdout",
     "output_type": "stream",
     "text": [
      "Ali\n",
      "Sara\n"
     ]
    }
   ],
   "source": [
    "class Student:\n",
    "    def __init__(self, name):\n",
    "        self.name = name  # instance variable\n",
    "\n",
    "s1 = Student(\"Ali\")\n",
    "s2 = Student(\"Sara\")\n",
    "\n",
    "print(s1.name)  # Ali\n",
    "print(s2.name)  # Sara (different value)\n"
   ]
  },
  {
   "cell_type": "markdown",
   "id": "09e2104a-a790-4df0-a0a5-ca8c695bd238",
   "metadata": {},
   "source": [
    "2. Class Variable\n",
    "    - Shared by all instances of the class.\n",
    "    - Defined outside of any method, usually right under the class definition.\n",
    "    - Used for common data shared by all objects."
   ]
  },
  {
   "cell_type": "code",
   "execution_count": 35,
   "id": "e1cafdeb-8735-4fbd-a6b8-1ca66b88989a",
   "metadata": {},
   "outputs": [
    {
     "name": "stdout",
     "output_type": "stream",
     "text": [
      "Green High\n",
      "Green High\n",
      "Blue High\n"
     ]
    }
   ],
   "source": [
    "class Student:\n",
    "    school = \"Green High\"  # class variable\n",
    "\n",
    "    def __init__(self, name):\n",
    "        self.name = name  # instance variable\n",
    "\n",
    "s1 = Student(\"Ali\")\n",
    "s2 = Student(\"Sara\")\n",
    "\n",
    "print(s1.school)  # Green High\n",
    "print(s2.school)  # Green High\n",
    "\n",
    "Student.school = \"Blue High\"\n",
    "print(s1.school)  # Blue High (updated for all)\n"
   ]
  },
  {
   "cell_type": "markdown",
   "id": "55008f99-5fdf-4a62-967a-7c9268389730",
   "metadata": {},
   "source": [
    "**Key Differences**\n",
    "\n",
    "\n",
    "| Feature        | Class Variable                      | Instance Variable                |\n",
    "| -------------- | ----------------------------------- | -------------------------------- |\n",
    "| Defined where? | Outside methods (directly in class) | Inside `__init__()` using `self` |\n",
    "| Shared?        | Yes, shared by all instances        | No, unique to each instance      |\n",
    "| Modified by    | Class name (`ClassName.var`)        | Instance (`self.var`)            |\n",
    "| Example use    | School name, company name           | Student name, employee ID        |\n",
    "  "
   ]
  },
  {
   "cell_type": "markdown",
   "id": "96faf4ff-a72f-45e3-a0d9-1cb0b34db241",
   "metadata": {},
   "source": [
    "Example Showing Both"
   ]
  },
  {
   "cell_type": "code",
   "execution_count": 36,
   "id": "f80e3cf2-bf81-4e33-8e87-6b6d8333ddc6",
   "metadata": {},
   "outputs": [
    {
     "name": "stdout",
     "output_type": "stream",
     "text": [
      "TechCorp\n",
      "Zaid\n"
     ]
    }
   ],
   "source": [
    "class Employee:\n",
    "    company = \"TechCorp\"  # class variable\n",
    "\n",
    "    def __init__(self, name, salary):\n",
    "        self.name = name      # instance variable\n",
    "        self.salary = salary  # instance variable\n",
    "\n",
    "e1 = Employee(\"Aisha\", 50000)\n",
    "e2 = Employee(\"Zaid\", 60000)\n",
    "\n",
    "print(e1.company)  # TechCorp\n",
    "print(e2.name)     # Zaid\n"
   ]
  },
  {
   "cell_type": "markdown",
   "id": "6f0563f6-f4dd-47f5-9667-ce97b77ba7e9",
   "metadata": {},
   "source": [
    "**Q18. What is multiple inheritance in Python?**"
   ]
  },
  {
   "cell_type": "markdown",
   "id": "bbe34cac-060e-46b8-b946-15b7575aa6d3",
   "metadata": {},
   "source": [
    "**Ans.** Multiple inheritance is a feature in Python where a class can inherit from more than one parent class. This means a child class can access attributes and methods of all parent classes."
   ]
  },
  {
   "cell_type": "markdown",
   "id": "a97c4592-9002-4154-ab7b-8f0ac2778218",
   "metadata": {},
   "source": [
    "> Syntax of Multiple Inheritance"
   ]
  },
  {
   "cell_type": "code",
   "execution_count": 37,
   "id": "db7f3f16-55af-42b8-872e-dfff26d2244e",
   "metadata": {},
   "outputs": [
    {
     "name": "stdout",
     "output_type": "stream",
     "text": [
      "Method from Parent1\n",
      "Method from Parent2\n"
     ]
    }
   ],
   "source": [
    "class Parent1:\n",
    "    def method1(self):\n",
    "        print(\"Method from Parent1\")\n",
    "\n",
    "class Parent2:\n",
    "    def method2(self):\n",
    "        print(\"Method from Parent2\")\n",
    "\n",
    "class Child(Parent1, Parent2):  # Inherits from both\n",
    "    pass\n",
    "\n",
    "c = Child()\n",
    "c.method1()   # Method from Parent1\n",
    "c.method2()   # Method from Parent2\n"
   ]
  },
  {
   "cell_type": "markdown",
   "id": "962bb4ae-7c8b-4d6a-843a-eb477a106d97",
   "metadata": {},
   "source": [
    "> Usage of Multiple Inheritance:    \n",
    "- To combine functionality from multiple sources.\n",
    "- Useful when a class needs behaviors from two or more class"
   ]
  },
  {
   "cell_type": "markdown",
   "id": "f68b469f-cba7-4b7e-b99b-9702c2479f7b",
   "metadata": {},
   "source": [
    "> Be Aware: Method Resolution Order (MRO):\n",
    "- When there is a conflict (e.g., same method name in multiple parents), Python follows MRO (left to right based on the inheritance order)."
   ]
  },
  {
   "cell_type": "code",
   "execution_count": 38,
   "id": "0888281e-b85e-4106-ade5-62c6bb8e643e",
   "metadata": {},
   "outputs": [
    {
     "name": "stdout",
     "output_type": "stream",
     "text": [
      "A\n"
     ]
    }
   ],
   "source": [
    "class A:\n",
    "    def show(self):\n",
    "        print(\"A\")\n",
    "\n",
    "class B:\n",
    "    def show(self):\n",
    "        print(\"B\")\n",
    "\n",
    "class C(A, B):  # Inherits from A first\n",
    "    pass\n",
    "\n",
    "obj = C()\n",
    "obj.show()  # Output: A (not B)\n"
   ]
  },
  {
   "cell_type": "markdown",
   "id": "92519f42-a27f-41d1-9f17-0fa2d4e2848c",
   "metadata": {},
   "source": [
    "You can check MRO with:"
   ]
  },
  {
   "cell_type": "code",
   "execution_count": 39,
   "id": "e5530f83-b5d2-41da-ba60-157910493fc3",
   "metadata": {},
   "outputs": [
    {
     "name": "stdout",
     "output_type": "stream",
     "text": [
      "(<class '__main__.C'>, <class '__main__.A'>, <class '__main__.B'>, <class 'object'>)\n"
     ]
    }
   ],
   "source": [
    "print(C.__mro__)\n"
   ]
  },
  {
   "cell_type": "markdown",
   "id": "12b303d1-11d8-40ca-b257-f46999514aa7",
   "metadata": {},
   "source": [
    "> Example: Real-Life Analogy:"
   ]
  },
  {
   "cell_type": "code",
   "execution_count": 40,
   "id": "9a1e07ab-204b-43da-b3da-9b170e2169b9",
   "metadata": {},
   "outputs": [
    {
     "name": "stdout",
     "output_type": "stream",
     "text": [
      "Writing...\n",
      "Speaking...\n"
     ]
    }
   ],
   "source": [
    "class Writer:\n",
    "    def write(self):\n",
    "        print(\"Writing...\")\n",
    "\n",
    "class Speaker:\n",
    "    def speak(self):\n",
    "        print(\"Speaking...\")\n",
    "\n",
    "class Author(Writer, Speaker):\n",
    "    pass\n",
    "\n",
    "a = Author()\n",
    "a.write()   # Writing...\n",
    "a.speak()   # Speaking...\n"
   ]
  },
  {
   "cell_type": "markdown",
   "id": "91949abc-f374-4504-80af-bf8bdc27c13b",
   "metadata": {},
   "source": [
    "**Q19.  Explain the purpose of ‘’__str__’ and ‘__repr__’ ‘ methods in Python.**"
   ]
  },
  {
   "cell_type": "markdown",
   "id": "6ce45ec3-5fcc-4a82-babb-a6fc08ea26b7",
   "metadata": {},
   "source": [
    "**Ans.** Both __str__ and __repr__ are special (dunder) methods in Python used to define how objects are represented as strings. However, they serve different purposes:"
   ]
  },
  {
   "cell_type": "markdown",
   "id": "969f0fdc-5b32-4c38-a923-85542d53016c",
   "metadata": {},
   "source": [
    "> __str__() — For Readable Output:\n",
    "- Called by the str() function and the print() statement.\n",
    "- Returns a user-friendly, informal string representation of the object.\n",
    "- Meant for end users."
   ]
  },
  {
   "cell_type": "code",
   "execution_count": 42,
   "id": "30469410-adaa-4ca5-8f3c-4b3bf5714d8b",
   "metadata": {},
   "outputs": [
    {
     "name": "stdout",
     "output_type": "stream",
     "text": [
      "Person: Umer\n"
     ]
    }
   ],
   "source": [
    "class Person:\n",
    "    def __init__(self, name):\n",
    "        self.name = name\n",
    "\n",
    "    def __str__(self):\n",
    "        return f\"Person: {self.name}\"\n",
    "\n",
    "p = Person(\"Umer\")\n",
    "print(p)  # Person: Aisha\n"
   ]
  },
  {
   "cell_type": "markdown",
   "id": "6468db7d-4e58-43dc-957d-6392450fe4d6",
   "metadata": {},
   "source": [
    "> __repr__() — For Debugging / Developers:\n",
    "- Called by the repr() function or when you type an object in the console.\n",
    "- Should return a detailed, unambiguous string that ideally looks like valid Python code.\n",
    "- Meant for developers."
   ]
  },
  {
   "cell_type": "code",
   "execution_count": 44,
   "id": "715c54a9-5014-42b7-97cc-1826575d6724",
   "metadata": {},
   "outputs": [
    {
     "name": "stdout",
     "output_type": "stream",
     "text": [
      "Person('Umer')\n"
     ]
    }
   ],
   "source": [
    "class Person:\n",
    "    def __init__(self, name):\n",
    "        self.name = name\n",
    "\n",
    "    def __repr__(self):\n",
    "        return f\"Person('{self.name}')\"\n",
    "\n",
    "p = Person(\"Umer\")\n",
    "print(repr(p))  # Person('Aisha')\n"
   ]
  },
  {
   "cell_type": "markdown",
   "id": "8127ffe9-daee-4003-b488-71d617efe025",
   "metadata": {},
   "source": [
    "**When Both Are Defined**"
   ]
  },
  {
   "cell_type": "markdown",
   "id": "dc5a97b3-1034-40dc-82b1-1083134d5176",
   "metadata": {},
   "source": [
    "> If both __str__ and __repr__ are defined, then:\n",
    "- print(obj) uses __str__()\n",
    "- repr(obj) and console use __repr__()\n"
   ]
  },
  {
   "cell_type": "code",
   "execution_count": null,
   "id": "8c8410a8-8ee3-4e1b-9a6a-419e3e33b713",
   "metadata": {},
   "outputs": [],
   "source": [
    "If Only __repr__() is Defined\n",
    "If __str__() is not defined, print(obj) will fall back to __repr__().\n"
   ]
  },
  {
   "cell_type": "markdown",
   "id": "26fdf4ed-280a-4f33-b6a3-80dd59b4f1fd",
   "metadata": {},
   "source": [
    "| Method       | Called by          | Purpose               | Audience  |\n",
    "| ------------ | ------------------ | --------------------- | --------- |\n",
    "| `__str__()`  | `str()`, `print()` | User-friendly string  | End user  |\n",
    "| `__repr__()` | `repr()`, console  | Debug-friendly string | Developer |"
   ]
  },
  {
   "cell_type": "markdown",
   "id": "7f64195b-8158-4938-a7ec-8eb77aa04e31",
   "metadata": {},
   "source": [
    "**Q20.  What is the significance of the ‘super()’ function in Python?**"
   ]
  },
  {
   "cell_type": "markdown",
   "id": "0886aa4a-62b8-46dc-a21c-b6e69e3e8177",
   "metadata": {},
   "source": [
    "**Ans.** The super() function is used to call a method from a parent (or superclass) from within a child (subclass). It is especially useful in inheritance, where you want to extend or customize the behavior of a parent class without completely overriding it."
   ]
  },
  {
   "cell_type": "markdown",
   "id": "41d62a5c-7255-42e8-a527-5638e2ef72d3",
   "metadata": {},
   "source": [
    "| Purpose                      | Benefit                                                    |\n",
    "| ---------------------------- | ---------------------------------------------------------- |\n",
    "| Call parent methods          | Avoid code duplication                                     |\n",
    "| Initialize parent class      | Use parent's `__init__()` from child                       |\n",
    "| Support multiple inheritance | Helps Python follow Method Resolution Order (MRO) properly |\n",
    "| Make code more maintainable  | Automatically handles inheritance hierarchy                |\n"
   ]
  },
  {
   "cell_type": "code",
   "execution_count": 45,
   "id": "dd0d6d6f-0e6d-4f8d-87c0-5bceeb7cf194",
   "metadata": {},
   "outputs": [
    {
     "name": "stdout",
     "output_type": "stream",
     "text": [
      "Rex makes a sound\n",
      "Rex barks\n"
     ]
    }
   ],
   "source": [
    "# Example use case:\n",
    "\n",
    "class Animal:\n",
    "    def __init__(self, name):\n",
    "        self.name = name\n",
    "\n",
    "    def speak(self):\n",
    "        print(f\"{self.name} makes a sound\")\n",
    "\n",
    "class Dog(Animal):\n",
    "    def __init__(self, name, breed):\n",
    "        super().__init__(name)  # Call parent's __init__\n",
    "        self.breed = breed\n",
    "\n",
    "    def speak(self):\n",
    "        super().speak()  # Call parent's speak()\n",
    "        print(f\"{self.name} barks\")\n",
    "\n",
    "dog = Dog(\"Rex\", \"German Shepherd\")\n",
    "dog.speak()\n"
   ]
  },
  {
   "cell_type": "markdown",
   "id": "1984dbcb-cad4-4007-b819-3ed1717d709e",
   "metadata": {},
   "source": [
    "**Q21. What is the significance of the __del__ method in Python?**"
   ]
  },
  {
   "cell_type": "markdown",
   "id": "2a476a21-6ea6-4384-a434-3d02f27062e8",
   "metadata": {},
   "source": [
    "**Ans.** The __del__() method in Python is a special (dunder) method known as the destructor. It is called automatically when an object is about to be destroyed, meaning its memory is being reclaimed by Python’s garbage collector."
   ]
  },
  {
   "cell_type": "code",
   "execution_count": 46,
   "id": "814434ff-db3a-46ba-acd2-b2cf5a7c8386",
   "metadata": {},
   "outputs": [
    {
     "name": "stdout",
     "output_type": "stream",
     "text": [
      "File opened\n",
      "File closed\n"
     ]
    }
   ],
   "source": [
    "# Example \n",
    "\n",
    "class FileHandler:\n",
    "    def __init__(self, filename):\n",
    "        self.file = open(filename, 'w')\n",
    "        print(\"File opened\")\n",
    "\n",
    "    def __del__(self):\n",
    "        self.file.close()\n",
    "        print(\"File closed\")\n",
    "\n",
    "f = FileHandler(\"example.txt\")\n",
    "del f  # Triggers __del__()\n"
   ]
  },
  {
   "cell_type": "markdown",
   "id": "d190860c-bff4-4d23-8c2c-b9ddd0ae9081",
   "metadata": {},
   "source": [
    "**Q22. What is the difference between @staticmethod and @classmethod in Python?**"
   ]
  },
  {
   "cell_type": "markdown",
   "id": "538b8fa1-4b02-438d-829c-daecf0224307",
   "metadata": {},
   "source": [
    "**Ans.** Both `@staticmethod` and `@classmethod` are decorators used to define special types of methods in a class. The key difference lies in what they receive as their first argument and how they are used."
   ]
  },
  {
   "cell_type": "markdown",
   "id": "98ecb36f-a7c3-4fbf-88f8-9c96a8fb48c8",
   "metadata": {},
   "source": [
    " 1. `@staticmethod`\n",
    "    - Doesn’t take self or cls as the first argument.\n",
    "    - It behaves just like a regular function, but it belongs to the class's namespace.\n",
    "    - Can be called via class or instance, but it doesn’t access or modify class or instance state."
   ]
  },
  {
   "cell_type": "code",
   "execution_count": 47,
   "id": "f6f775f2-1e23-4fce-b346-5f1acfabd1fa",
   "metadata": {},
   "outputs": [
    {
     "name": "stdout",
     "output_type": "stream",
     "text": [
      "8\n"
     ]
    }
   ],
   "source": [
    "class Math:\n",
    "    @staticmethod\n",
    "    def add(a, b):\n",
    "        return a + b\n",
    "\n",
    "print(Math.add(5, 3))   # ✅ 8\n"
   ]
  },
  {
   "cell_type": "markdown",
   "id": "a0d19c8f-da71-4b85-818d-7c294b9188c8",
   "metadata": {},
   "source": [
    "2. `@classmethod`\n",
    "    - Takes cls (class) as the first argument.\n",
    "    - Can access and modify class variables or call other class methods.\n",
    "    - Often used for factory methods (methods that return class instances)."
   ]
  },
  {
   "cell_type": "code",
   "execution_count": 48,
   "id": "a0c88079-2078-4870-a19b-8d1093c4dbd4",
   "metadata": {},
   "outputs": [
    {
     "name": "stdout",
     "output_type": "stream",
     "text": [
      "0\n",
      "1\n"
     ]
    }
   ],
   "source": [
    "class Person:\n",
    "    count = 0\n",
    "\n",
    "    def __init__(self, name):\n",
    "        self.name = name\n",
    "        Person.count += 1\n",
    "\n",
    "    @classmethod\n",
    "    def get_count(cls):\n",
    "        return cls.count\n",
    "\n",
    "print(Person.get_count())  # ✅ 0 (before any instance created)\n",
    "p1 = Person(\"Ali\")\n",
    "print(Person.get_count())  # ✅ 1\n"
   ]
  },
  {
   "cell_type": "markdown",
   "id": "c626401a-a6e8-4b83-9bff-be003689d52c",
   "metadata": {},
   "source": [
    "**Q23. How does polymorphism work in Python with inheritance?**"
   ]
  },
  {
   "cell_type": "markdown",
   "id": "978a9c0a-d2ac-446e-a1c1-420c2983cc62",
   "metadata": {},
   "source": [
    "**Ans.** Polymorphism allows objects of different classes to be treated as objects of a common superclass. In Python, this often works through inheritance, where subclasses override methods of a parent class, but can still be used interchangeably."
   ]
  },
  {
   "cell_type": "markdown",
   "id": "e1e0da9f-a64c-4996-815a-df48bccd97c4",
   "metadata": {},
   "source": [
    "> Key Idea: One interface, many implementations:\n",
    "\n",
    "    - You can call the same method on different objects, and they respond in their own way — thanks to inheritance and method overriding."
   ]
  },
  {
   "cell_type": "markdown",
   "id": "9c98d7f7-d51a-4a61-834f-241710a6563c",
   "metadata": {},
   "source": [
    "**Example: Polymorphism via Inheritance**"
   ]
  },
  {
   "cell_type": "code",
   "execution_count": 50,
   "id": "8e33a2ec-b915-4f89-869d-fe35ec89567c",
   "metadata": {},
   "outputs": [],
   "source": [
    "class Animal:\n",
    "    def speak(self):\n",
    "        return \"Animal sound\"\n",
    "\n",
    "class Dog(Animal):\n",
    "    def speak(self):\n",
    "        return \"Woof\"\n",
    "\n",
    "class Cat(Animal):\n",
    "    def speak(self):\n",
    "        return \"Meow\"\n"
   ]
  },
  {
   "cell_type": "markdown",
   "id": "edb638b0-99ee-4ec4-a64c-cf1738c3ab16",
   "metadata": {},
   "source": [
    "**Now, you can treat all animals polymorphically:**"
   ]
  },
  {
   "cell_type": "code",
   "execution_count": 51,
   "id": "78c36375-f322-4a18-8ab4-181eeefb1d9d",
   "metadata": {},
   "outputs": [
    {
     "name": "stdout",
     "output_type": "stream",
     "text": [
      "Woof\n",
      "Meow\n",
      "Animal sound\n"
     ]
    }
   ],
   "source": [
    "animals = [Dog(), Cat(), Animal()]\n",
    "\n",
    "for animal in animals:\n",
    "    print(animal.speak())  # Calls the overridden method for each subclass\n"
   ]
  },
  {
   "cell_type": "markdown",
   "id": "d020f836-540f-420f-b021-7fe2a9941408",
   "metadata": {},
   "source": [
    "> Why This Works\n",
    "- Dog and Cat inherit from Animal.\n",
    "- They override the speak() method.\n",
    "  A loop or function using an Animal reference can work with any subclass."
   ]
  },
  {
   "cell_type": "markdown",
   "id": "66203ea5-56b8-4b8f-93c9-4f86c4ec7f57",
   "metadata": {},
   "source": [
    "> Polymorphism with Functions"
   ]
  },
  {
   "cell_type": "code",
   "execution_count": 52,
   "id": "97e865ce-a90d-465c-892f-8816f9423df3",
   "metadata": {},
   "outputs": [
    {
     "name": "stdout",
     "output_type": "stream",
     "text": [
      "Woof\n",
      "Meow\n"
     ]
    }
   ],
   "source": [
    "def make_sound(animal: Animal):\n",
    "    print(animal.speak())\n",
    "\n",
    "make_sound(Dog())   # Woof\n",
    "make_sound(Cat())   # Meow\n"
   ]
  },
  {
   "cell_type": "markdown",
   "id": "814c4a7c-93bf-4e86-909c-388b3d91791b",
   "metadata": {},
   "source": [
    "Even though the parameter is typed as Animal, the actual object’s class determines the method that runs."
   ]
  },
  {
   "cell_type": "markdown",
   "id": "a9a8be22-3aec-4542-8dd7-64a7fda59209",
   "metadata": {},
   "source": [
    "**Q24. What is method chaining in Python OOP?** "
   ]
  },
  {
   "cell_type": "markdown",
   "id": "c03592b7-9a35-40cb-81f9-589c510f3170",
   "metadata": {},
   "source": [
    "**Ans.** Method chaining in Python refers to calling multiple methods on the same object in a single line, one after another. This is possible when each method returns the object itself, typically using return self."
   ]
  },
  {
   "cell_type": "markdown",
   "id": "53679ae9-9f48-4438-8e67-4c48144c3081",
   "metadata": {},
   "source": [
    "> Benefits of Method Chaining:\n",
    "- Improves code readability and conciseness.\n",
    "- Encourages a fluent programming style (like natural language).\n",
    "- Useful in builder patterns, data manipulation, and configuration APIs."
   ]
  },
  {
   "cell_type": "markdown",
   "id": "507fd597-941e-400c-9250-c0c8f0665811",
   "metadata": {},
   "source": [
    "Example of Method Chaining"
   ]
  },
  {
   "cell_type": "code",
   "execution_count": 55,
   "id": "c5154352-cfd0-482d-997d-74d6a87cfb64",
   "metadata": {},
   "outputs": [
    {
     "name": "stdout",
     "output_type": "stream",
     "text": [
      "Umer, 30 years old from Anantnag\n"
     ]
    }
   ],
   "source": [
    "class Person:\n",
    "    def __init__(self, name):\n",
    "        self.name = name\n",
    "        self.age = None\n",
    "        self.city = None\n",
    "\n",
    "    def set_age(self, age):\n",
    "        self.age = age\n",
    "        return self  # 👈 enables chaining\n",
    "\n",
    "    def set_city(self, city):\n",
    "        self.city = city\n",
    "        return self  # 👈 enables chaining\n",
    "\n",
    "    def show(self):\n",
    "        print(f\"{self.name}, {self.age} years old from {self.city}\")\n",
    "        return self  # optional for further chaining\n",
    "\n",
    "# Method chaining in action.\n",
    "p = Person(\"Umer\").set_age(30).set_city(\"Anantnag\").show()\n"
   ]
  },
  {
   "cell_type": "markdown",
   "id": "9cc2cebc-6451-491f-86dc-c136b1015fb7",
   "metadata": {},
   "source": [
    "**Q25. What is the purpose of the __call__ method in Python?**"
   ]
  },
  {
   "cell_type": "markdown",
   "id": "ac02db0b-d86b-4421-8067-750b8bfdbede",
   "metadata": {},
   "source": [
    "**Ans.** The __call__() method in Python allows an instance of a class to be called like a function. When you \"call\" an object using parentheses — e.g., obj() — Python automatically executes that object's __call__() method."
   ]
  },
  {
   "cell_type": "markdown",
   "id": "dcd959ef-111a-4013-83a9-5b0027fc61cc",
   "metadata": {},
   "source": [
    "> Use case for __call__()"
   ]
  },
  {
   "cell_type": "markdown",
   "id": "75c38743-704f-4aa6-8ab8-4c5bfe8f40fa",
   "metadata": {},
   "source": [
    "| Purpose                    | Use Case Example                              |\n",
    "| -------------------------- | --------------------------------------------- |\n",
    "| Make objects callable      | Turn a class instance into a function         |\n",
    "| Maintain internal state    | Useful in decorators, caching, models         |\n",
    "| Add flexibility to classes | Implement dynamic behavior with simple syntax |\n"
   ]
  },
  {
   "cell_type": "markdown",
   "id": "8e3f1ea9-35be-496f-b22c-c1700db14794",
   "metadata": {},
   "source": [
    "**Basic Example:**"
   ]
  },
  {
   "cell_type": "code",
   "execution_count": 57,
   "id": "7e9538a1-da5e-4167-9116-12ab63d8f1f6",
   "metadata": {},
   "outputs": [
    {
     "name": "stdout",
     "output_type": "stream",
     "text": [
      "Hello, Umer!\n"
     ]
    }
   ],
   "source": [
    "class Greeter:\n",
    "    def __init__(self, name):\n",
    "        self.name = name\n",
    "\n",
    "    def __call__(self):\n",
    "        print(f\"Hello, {self.name}!\")\n",
    "\n",
    "greet = Greeter(\"Umer\")\n",
    "greet()  # Calls __call__ → Output: Hello, Umer!\n"
   ]
  },
  {
   "cell_type": "markdown",
   "id": "2d8cb618-3ba2-4576-b60d-b2d33e4b4acf",
   "metadata": {},
   "source": [
    "Even though greet is an object, you can call it like a function because it defines __call__()."
   ]
  },
  {
   "cell_type": "markdown",
   "id": "ac2266b5-0b75-4637-8c18-b1ea0391d5a5",
   "metadata": {},
   "source": [
    "Another Example: Counter Object"
   ]
  },
  {
   "cell_type": "code",
   "execution_count": 58,
   "id": "fe574206-f8c0-44ac-9fd8-b0a2455cad3d",
   "metadata": {},
   "outputs": [
    {
     "name": "stdout",
     "output_type": "stream",
     "text": [
      "1\n",
      "2\n",
      "3\n"
     ]
    }
   ],
   "source": [
    "class Counter:\n",
    "    def __init__(self):\n",
    "        self.count = 0\n",
    "\n",
    "    def __call__(self):\n",
    "        self.count += 1\n",
    "        return self.count\n",
    "\n",
    "c = Counter()\n",
    "print(c())  # 1\n",
    "print(c())  # 2\n",
    "print(c())  # 3\n"
   ]
  },
  {
   "cell_type": "markdown",
   "id": "f0563940-2fe3-43a0-a848-38eacddf40d5",
   "metadata": {},
   "source": [
    "> Where It’s Commonly Used: \n",
    "- Decorators\n",
    "- Machine learning models (model(input) syntax)\n",
    "- Stateful functions\n",
    "- Function-like classes"
   ]
  },
  {
   "cell_type": "markdown",
   "id": "8f491b3a-466b-4e26-a432-e10cd48011e0",
   "metadata": {},
   "source": [
    "#     Practical Questions"
   ]
  },
  {
   "cell_type": "markdown",
   "id": "32416796-0cdd-4d79-b280-40c97754b3fb",
   "metadata": {},
   "source": [
    "**Q1. Create a parent class Animal with a method speak() that prints a generic message. Create a child class Dog \n",
    "that overrides the speak() method to print \"Bark!\"**"
   ]
  },
  {
   "cell_type": "markdown",
   "id": "95bfe06b-8cfd-4fcf-8de0-f6b6beb4e42f",
   "metadata": {},
   "source": [
    "**Ans.** "
   ]
  },
  {
   "cell_type": "code",
   "execution_count": 59,
   "id": "46681820-2db5-41c9-bae8-d6ebda867a54",
   "metadata": {},
   "outputs": [
    {
     "name": "stdout",
     "output_type": "stream",
     "text": [
      "The animal makes a sound.\n",
      "Bark!\n"
     ]
    }
   ],
   "source": [
    "# Parent class\n",
    "class Animal:\n",
    "    def speak(self):\n",
    "        print(\"The animal makes a sound.\")\n",
    "\n",
    "# Child class\n",
    "class Dog(Animal):\n",
    "    def speak(self):\n",
    "        print(\"Bark!\")\n",
    "\n",
    "# Test the classes\n",
    "a = Animal()\n",
    "a.speak()   # Output: The animal makes a sound.\n",
    "\n",
    "d = Dog()\n",
    "d.speak()   # Output: Bark!\n"
   ]
  },
  {
   "cell_type": "markdown",
   "id": "a636804b-43f9-484c-8409-1e6732915404",
   "metadata": {},
   "source": [
    "**Q2. Write a program to create an abstract class Shape with a method area(). Derive classes Circle and Rectangle \n",
    "from it and implement the area() method in both.**"
   ]
  },
  {
   "cell_type": "markdown",
   "id": "aaa98918-5f56-4350-96ef-8e3d0b1d64be",
   "metadata": {},
   "source": [
    "**Ans.** Python program that defines an abstract class Shape using the abc module and implements the area() method in two derived classes: Circle and Rectangle."
   ]
  },
  {
   "cell_type": "code",
   "execution_count": 60,
   "id": "90d1efee-2b2a-41c4-9b23-10c9a097ddf8",
   "metadata": {},
   "outputs": [
    {
     "name": "stdout",
     "output_type": "stream",
     "text": [
      "Area of Circle: 78.54\n",
      "Area of Rectangle: 24\n"
     ]
    }
   ],
   "source": [
    "from abc import ABC, abstractmethod\n",
    "import math\n",
    "\n",
    "# Abstract Base Class\n",
    "class Shape(ABC):\n",
    "    @abstractmethod\n",
    "    def area(self):\n",
    "        pass\n",
    "\n",
    "# Derived Class: Circle\n",
    "class Circle(Shape):\n",
    "    def __init__(self, radius):\n",
    "        self.radius = radius\n",
    "\n",
    "    def area(self):\n",
    "        return math.pi * self.radius ** 2\n",
    "\n",
    "# Derived Class: Rectangle\n",
    "class Rectangle(Shape):\n",
    "    def __init__(self, width, height):\n",
    "        self.width = width\n",
    "        self.height = height\n",
    "\n",
    "    def area(self):\n",
    "        return self.width * self.height\n",
    "\n",
    "# Test the classes\n",
    "circle = Circle(5)\n",
    "rectangle = Rectangle(4, 6)\n",
    "\n",
    "print(f\"Area of Circle: {circle.area():.2f}\")      # Output: Area of Circle: 78.54\n",
    "print(f\"Area of Rectangle: {rectangle.area()}\")   # Output: Area of Rectangle: 24\n"
   ]
  },
  {
   "cell_type": "markdown",
   "id": "53b8d669-862b-4b63-83a9-fd3b36eec886",
   "metadata": {},
   "source": [
    "**Q3. Implement a multi-level inheritance scenario where a class Vehicle has an attribute type. Derive a class Car \n",
    "and further derive a class ElectricCar that adds a battery attribute.**"
   ]
  },
  {
   "cell_type": "markdown",
   "id": "01c0e593-40e7-41d4-8c97-c57c75454e90",
   "metadata": {},
   "source": [
    "**Ans.** "
   ]
  },
  {
   "cell_type": "code",
   "execution_count": 61,
   "id": "8f47847f-a5e1-44e3-ad1f-1a72c6ee2b04",
   "metadata": {},
   "outputs": [
    {
     "name": "stdout",
     "output_type": "stream",
     "text": [
      "Type: Electric\n",
      "Brand: Tesla\n",
      "Battery: 75 kWh\n"
     ]
    }
   ],
   "source": [
    "# Base class\n",
    "class Vehicle:\n",
    "    def __init__(self, type):\n",
    "        self.type = type\n",
    "\n",
    "# Derived class from Vehicle\n",
    "class Car(Vehicle):\n",
    "    def __init__(self, type, brand):\n",
    "        super().__init__(type)  # Call Vehicle's constructor\n",
    "        self.brand = brand\n",
    "\n",
    "# Further derived class from Car\n",
    "class ElectricCar(Car):\n",
    "    def __init__(self, type, brand, battery):\n",
    "        super().__init__(type, brand)  # Call Car's constructor\n",
    "        self.battery = battery\n",
    "\n",
    "    def display_info(self):\n",
    "        print(f\"Type: {self.type}\")\n",
    "        print(f\"Brand: {self.brand}\")\n",
    "        print(f\"Battery: {self.battery} kWh\")\n",
    "\n",
    "# Create an ElectricCar object\n",
    "tesla = ElectricCar(\"Electric\", \"Tesla\", 75)\n",
    "tesla.display_info()\n"
   ]
  },
  {
   "cell_type": "markdown",
   "id": "1afbfe6e-da29-4f87-8fdf-c151ae6f4d91",
   "metadata": {},
   "source": [
    "**Q4. Demonstrate polymorphism by creating a base class Bird with a method fly(). Create two derived classes \n",
    "Sparrow and Penguin that override the fly() method.**"
   ]
  },
  {
   "cell_type": "markdown",
   "id": "a1ef4fab-3eab-444d-a364-f9fdc6f2384b",
   "metadata": {},
   "source": [
    "**Ans.** Python Program: Polymorphism with Bird, Sparrow, and Penguin"
   ]
  },
  {
   "cell_type": "code",
   "execution_count": 62,
   "id": "d225cb8f-43e9-4464-826b-0c09aa07abe9",
   "metadata": {},
   "outputs": [
    {
     "name": "stdout",
     "output_type": "stream",
     "text": [
      "Sparrow flies high in the sky.\n",
      "Penguins cannot fly but they swim well.\n"
     ]
    }
   ],
   "source": [
    "# Base class\n",
    "class Bird:\n",
    "    def fly(self):\n",
    "        print(\"Some birds can fly.\")\n",
    "\n",
    "# Derived class\n",
    "class Sparrow(Bird):\n",
    "    def fly(self):\n",
    "        print(\"Sparrow flies high in the sky.\")\n",
    "\n",
    "# Derived class\n",
    "class Penguin(Bird):\n",
    "    def fly(self):\n",
    "        print(\"Penguins cannot fly but they swim well.\")\n",
    "\n",
    "# Polymorphism in action\n",
    "def bird_flight(bird):\n",
    "    bird.fly()\n",
    "\n",
    "# Create instances\n",
    "sparrow = Sparrow()\n",
    "penguin = Penguin()\n",
    "\n",
    "# Test polymorphic behavior\n",
    "bird_flight(sparrow)  # Output: Sparrow flies high in the sky.\n",
    "bird_flight(penguin)  # Output: Penguins cannot fly but they swim well.\n"
   ]
  },
  {
   "cell_type": "markdown",
   "id": "a444ebd0-2121-4eed-9e92-9cc552950881",
   "metadata": {},
   "source": [
    "**Q5. Write a program to demonstrate encapsulation by creating a class BankAccount with private attributes \n",
    "balance and methods to deposit, withdraw, and check balance.**"
   ]
  },
  {
   "cell_type": "markdown",
   "id": "1dfdb6ae-d167-4c4b-b58d-e6be0c3b441e",
   "metadata": {},
   "source": [
    "**Ans.** Python program that demonstrates encapsulation using a BankAccount class with private attributes and public methods for interaction:"
   ]
  },
  {
   "cell_type": "code",
   "execution_count": 65,
   "id": "9b657837-ed7b-4a1e-8287-3503a02d1da5",
   "metadata": {},
   "outputs": [
    {
     "name": "stdout",
     "output_type": "stream",
     "text": [
      "Current Balance: $1000\n",
      "Deposited: $150\n",
      "Withdrawn: $100\n",
      "Current Balance: $1050\n"
     ]
    }
   ],
   "source": [
    "class BankAccount:\n",
    "    def __init__(self, initial_balance=0):\n",
    "        self.__balance = initial_balance  # Private attribute\n",
    "\n",
    "    def deposit(self, amount):\n",
    "        if amount > 0:\n",
    "            self.__balance += amount\n",
    "            print(f\"Deposited: ${amount}\")\n",
    "        else:\n",
    "            print(\"Deposit amount must be positive.\")\n",
    "\n",
    "    def withdraw(self, amount):\n",
    "        if amount <= self.__balance:\n",
    "            self.__balance -= amount\n",
    "            print(f\"Withdrawn: ${amount}\")\n",
    "        else:\n",
    "            print(\"Insufficient funds.\")\n",
    "\n",
    "    def check_balance(self):\n",
    "        print(f\"Current Balance: ${self.__balance}\")\n",
    "\n",
    "# Test the BankAccount class\n",
    "account = BankAccount(1000)\n",
    "account.check_balance()      # Output: Current Balance: $1000\n",
    "account.deposit(150)          # Output: Deposited: $150\n",
    "account.withdraw(100)         # Output: Withdrawn: $100\n",
    "account.check_balance()      # Output: Current Balance: $1050\n",
    "\n",
    "# Trying to access private variable directly (not recommended)\n",
    "# print(account.__balance)   # ❌ AttributeError\n",
    "\n",
    "# Accessing private attribute (not recommended but possible)\n",
    "# print(account._BankAccount__balance)  # 🔓 Not best practice\n"
   ]
  },
  {
   "cell_type": "markdown",
   "id": "13b265ac-c4da-41ab-95db-6122b1793d5d",
   "metadata": {},
   "source": [
    "**Q6. Demonstrate runtime polymorphism using a method play() in a base class Instrument. Derive classes Guitar \n",
    "and Piano that implement their own version of play().**"
   ]
  },
  {
   "cell_type": "markdown",
   "id": "89007c06-1901-44bb-a1f1-738a29de1560",
   "metadata": {},
   "source": [
    "**Ans.** Python Program: Runtime Polymorphism with Instrument, Guitar, and Piano"
   ]
  },
  {
   "cell_type": "code",
   "execution_count": 66,
   "id": "6b153529-969c-44c3-afd3-03c2d228ddc0",
   "metadata": {},
   "outputs": [
    {
     "name": "stdout",
     "output_type": "stream",
     "text": [
      "Strumming the guitar.\n",
      "Playing the piano keys.\n"
     ]
    }
   ],
   "source": [
    "# Base class\n",
    "class Instrument:\n",
    "    def play(self):\n",
    "        print(\"Playing an instrument.\")\n",
    "\n",
    "# Derived class\n",
    "class Guitar(Instrument):\n",
    "    def play(self):\n",
    "        print(\"Strumming the guitar.\")\n",
    "\n",
    "# Derived class\n",
    "class Piano(Instrument):\n",
    "    def play(self):\n",
    "        print(\"Playing the piano keys.\")\n",
    "\n",
    "# Polymorphic function\n",
    "def perform(instrument: Instrument):\n",
    "    instrument.play()\n",
    "\n",
    "# Create instances\n",
    "guitar = Guitar()\n",
    "piano = Piano()\n",
    "\n",
    "# Runtime polymorphism in action\n",
    "perform(guitar)  # Output: Strumming the guitar.\n",
    "perform(piano)   # Output: Playing the piano keys.\n"
   ]
  },
  {
   "cell_type": "markdown",
   "id": "804c62c8-6075-4f60-ac90-d3e4aedc1566",
   "metadata": {},
   "source": [
    "**Q7. Create a class MathOperations with a class method add_numbers() to add two numbers and a static \n",
    "method subtract_numbers() to subtract two numbers.**"
   ]
  },
  {
   "cell_type": "markdown",
   "id": "7e492364-9409-47fd-a845-793b89139485",
   "metadata": {},
   "source": [
    "**Ans.** Here's a simple Python program that defines a class MathOperations with:\n",
    "- A class method add_numbers() that adds two numbers.\n",
    "- A static method subtract_numbers() that subtracts two numbers."
   ]
  },
  {
   "cell_type": "code",
   "execution_count": 67,
   "id": "f86ee8fa-a0ae-4a94-8240-ef95937fa29d",
   "metadata": {},
   "outputs": [
    {
     "name": "stdout",
     "output_type": "stream",
     "text": [
      "Sum: 15\n",
      "Difference: 5\n"
     ]
    }
   ],
   "source": [
    "class MathOperations:\n",
    "    @classmethod\n",
    "    def add_numbers(cls, a, b):\n",
    "        return a + b\n",
    "\n",
    "    @staticmethod\n",
    "    def subtract_numbers(a, b):\n",
    "        return a - b\n",
    "\n",
    "# Using the class method\n",
    "sum_result = MathOperations.add_numbers(10, 5)\n",
    "print(f\"Sum: {sum_result}\")  # Output: Sum: 15\n",
    "\n",
    "# Using the static method\n",
    "diff_result = MathOperations.subtract_numbers(10, 5)\n",
    "print(f\"Difference: {diff_result}\")  # Output: Difference: 5\n"
   ]
  },
  {
   "cell_type": "markdown",
   "id": "5cc19bc2-69af-43b4-8b4e-dd09630a039b",
   "metadata": {},
   "source": [
    "**Q8. Implement a class Person with a class method to count the total number of persons created.**"
   ]
  },
  {
   "cell_type": "markdown",
   "id": "a52c7a2d-429c-4397-a323-016bda0a8b4e",
   "metadata": {},
   "source": [
    "**Ans.** Python Program: Counting Instances Using a Class Method"
   ]
  },
  {
   "cell_type": "code",
   "execution_count": 68,
   "id": "e1534b62-1d89-4db1-9436-d051fb2dc7ae",
   "metadata": {},
   "outputs": [
    {
     "name": "stdout",
     "output_type": "stream",
     "text": [
      "Total persons created: 3\n"
     ]
    }
   ],
   "source": [
    "class Person:\n",
    "    count = 0  # Class variable to track the number of persons\n",
    "\n",
    "    def __init__(self, name):\n",
    "        self.name = name\n",
    "        Person.count += 1  # Increment count when a new Person is created\n",
    "\n",
    "    @classmethod\n",
    "    def total_persons(cls):\n",
    "        return cls.count\n",
    "\n",
    "# Create some Person objects\n",
    "p1 = Person(\"Ali\")\n",
    "p2 = Person(\"Fatima\")\n",
    "p3 = Person(\"Zara\")\n",
    "\n",
    "# Use the class method to check the count\n",
    "print(f\"Total persons created: {Person.total_persons()}\")  # Output: 3\n"
   ]
  },
  {
   "cell_type": "markdown",
   "id": "334bc718-6c54-4b8d-8588-4a1b2f9a2aaa",
   "metadata": {},
   "source": [
    "**Q9. Write a class Fraction with attributes numerator and denominator. Override the str method to display the \n",
    "fraction as \"numerator/denominator\".**"
   ]
  },
  {
   "cell_type": "markdown",
   "id": "9624d309-c887-4573-a503-0627a28d408f",
   "metadata": {},
   "source": [
    "**Ans.** Python Program: Fraction Class with Custom __str__"
   ]
  },
  {
   "cell_type": "code",
   "execution_count": 69,
   "id": "e5b9dffa-909b-4c72-9d01-a406bcb9efc1",
   "metadata": {},
   "outputs": [
    {
     "name": "stdout",
     "output_type": "stream",
     "text": [
      "3/4\n",
      "5/8\n"
     ]
    }
   ],
   "source": [
    "class Fraction:\n",
    "    def __init__(self, numerator, denominator):\n",
    "        self.numerator = numerator\n",
    "        self.denominator = denominator\n",
    "\n",
    "    def __str__(self):\n",
    "        return f\"{self.numerator}/{self.denominator}\"\n",
    "\n",
    "# Create and display Fraction objects\n",
    "f1 = Fraction(3, 4)\n",
    "f2 = Fraction(5, 8)\n",
    "\n",
    "print(f1)  # Output: 3/4\n",
    "print(f2)  # Output: 5/8\n"
   ]
  },
  {
   "cell_type": "code",
   "execution_count": null,
   "id": "6e30462f-8c37-40dd-ba8c-34497ce8ddfe",
   "metadata": {},
   "outputs": [],
   "source": []
  },
  {
   "cell_type": "code",
   "execution_count": null,
   "id": "98164f52-d3a4-4a3d-8906-83ffbc962d40",
   "metadata": {},
   "outputs": [],
   "source": []
  },
  {
   "cell_type": "code",
   "execution_count": null,
   "id": "cb4b0269-3305-410e-9fdd-9f1d2743aaff",
   "metadata": {},
   "outputs": [],
   "source": []
  },
  {
   "cell_type": "code",
   "execution_count": null,
   "id": "89b0ab79-3a49-4381-9ffd-999ac6a5ee91",
   "metadata": {},
   "outputs": [],
   "source": []
  },
  {
   "cell_type": "code",
   "execution_count": null,
   "id": "b2bc1b66-e625-46bf-b618-6f79c96a5a2e",
   "metadata": {},
   "outputs": [],
   "source": []
  },
  {
   "cell_type": "code",
   "execution_count": null,
   "id": "e668c8c5-a773-4530-bec4-c0d55d8528e8",
   "metadata": {},
   "outputs": [],
   "source": []
  },
  {
   "cell_type": "code",
   "execution_count": null,
   "id": "66b64dd2-0c36-40fa-8b58-5296fb7e1355",
   "metadata": {},
   "outputs": [],
   "source": []
  },
  {
   "cell_type": "code",
   "execution_count": null,
   "id": "5c3a3fe6-a370-4875-90ab-59788ed5b016",
   "metadata": {},
   "outputs": [],
   "source": []
  },
  {
   "cell_type": "code",
   "execution_count": null,
   "id": "cf27c9ee-ce65-4100-9530-09ec0c837324",
   "metadata": {},
   "outputs": [],
   "source": []
  },
  {
   "cell_type": "code",
   "execution_count": null,
   "id": "a8145edd-4539-40f0-a6f8-3b31c1e29b75",
   "metadata": {},
   "outputs": [],
   "source": []
  },
  {
   "cell_type": "code",
   "execution_count": null,
   "id": "e74e6a72-c9ac-43a7-b442-bd0d85afd2c6",
   "metadata": {},
   "outputs": [],
   "source": []
  }
 ],
 "metadata": {
  "kernelspec": {
   "display_name": "Python 3 (ipykernel)",
   "language": "python",
   "name": "python3"
  },
  "language_info": {
   "codemirror_mode": {
    "name": "ipython",
    "version": 3
   },
   "file_extension": ".py",
   "mimetype": "text/x-python",
   "name": "python",
   "nbconvert_exporter": "python",
   "pygments_lexer": "ipython3",
   "version": "3.13.3"
  }
 },
 "nbformat": 4,
 "nbformat_minor": 5
}
